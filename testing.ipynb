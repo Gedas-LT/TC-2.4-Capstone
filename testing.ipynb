{
 "metadata": {
  "language_info": {
   "codemirror_mode": {
    "name": "ipython",
    "version": 3
   },
   "file_extension": ".py",
   "mimetype": "text/x-python",
   "name": "python",
   "nbconvert_exporter": "python",
   "pygments_lexer": "ipython3",
   "version": "3.8.8"
  },
  "orig_nbformat": 2,
  "kernelspec": {
   "name": "python388jvsc74a57bd09c73145fe1f8ba769fdf9edcb512a81fe38bcab3cb253b8e7a65c7a64ff93c59",
   "display_name": "Python 3.8.8 64-bit ('base': conda)"
  }
 },
 "nbformat": 4,
 "nbformat_minor": 2,
 "cells": [
  {
   "cell_type": "code",
   "execution_count": 1,
   "metadata": {},
   "outputs": [],
   "source": [
    "from value_today import scraper"
   ]
  },
  {
   "cell_type": "code",
   "execution_count": 2,
   "metadata": {},
   "outputs": [],
   "source": [
    "scraper = scraper.Scraper()"
   ]
  },
  {
   "cell_type": "code",
   "execution_count": 3,
   "metadata": {},
   "outputs": [
    {
     "output_type": "execute_result",
     "data": {
      "text/plain": [
       "5083"
      ]
     },
     "metadata": {},
     "execution_count": 3
    }
   ],
   "source": [
    "scraper.number_companies()"
   ]
  },
  {
   "cell_type": "code",
   "execution_count": 4,
   "metadata": {},
   "outputs": [],
   "source": [
    "raw_data = scraper.valuetoday_usa_scraper(20)"
   ]
  },
  {
   "cell_type": "code",
   "execution_count": 5,
   "metadata": {},
   "outputs": [
    {
     "output_type": "execute_result",
     "data": {
      "text/plain": [
       "                   Company Name                   Company Business  \\\n",
       "0                         APPLE                         Technology   \n",
       "1         MICROSOFT CORPORATION                         Technology   \n",
       "2                      ALPHABET                         Technology   \n",
       "3                    AMAZON.COM                          eCommerce   \n",
       "4                      FACEBOOK             Communication Services   \n",
       "5            BERKSHIRE HATHAWAY                 Financial Services   \n",
       "6         J P MORGAN CHASE & CO                 Financial Services   \n",
       "7                          VISA                 Financial Services   \n",
       "8             JOHNSON & JOHNSON                         Healthcare   \n",
       "9                       WALMART                             Retail   \n",
       "10  BANK OF AMERICA CORPORATION                 Financial Services   \n",
       "11     PROCTER & GAMBLE COMPANY                 Consumer Defensive   \n",
       "12                   MASTERCARD  Digital Payment Solution Services   \n",
       "13      EXXON MOBIL CORPORATION                             Energy   \n",
       "14                         AT&T                            Telecom   \n",
       "15           UNITEDHEALTH GROUP                         Healthcare   \n",
       "16      THE WALT DISNEY COMPANY             Communication Services   \n",
       "17            INTEL CORPORATION                         Technology   \n",
       "18       VERIZON COMMUNICATIONS             Communication Services   \n",
       "19                   HOME DEPOT                             Retail   \n",
       "\n",
       "   Market Value Value Metric Annual Revenue Revenue Metric Operating Income  \\\n",
       "0          2256      Billion         274.51        Billion            66.28   \n",
       "1          1682      Billion         143.00        Billion            52.95   \n",
       "2          1185      Billion         182.52        Billion            41.22   \n",
       "3          1634      Billion         386.06        Billion            22.89   \n",
       "4        778.04      Billion          85.96        Billion            32.67   \n",
       "5        543.68      Billion         327.22        Billion             None   \n",
       "6        387.33      Billion         122.90        Billion             None   \n",
       "7        482.17      Billion          21.84        Billion            14.09   \n",
       "8        414.31      Billion          82.58        Billion            19.73   \n",
       "9        407.84      Billion         523.96        Billion            22.54   \n",
       "10        262.2      Billion          85.53        Billion             None   \n",
       "11       345.01      Billion          70.95        Billion             15.7   \n",
       "12       355.84      Billion          15.30        Billion             8.16   \n",
       "13       174.29      Billion         181.50        Billion           -28.88   \n",
       "14       204.94      Billion         171.76        Billion            25.28   \n",
       "15       332.73      Billion         255.63        Billion             20.9   \n",
       "16       328.02      Billion           2020        Million            3,794   \n",
       "17       204.16      Billion          77.86        Billion            23.87   \n",
       "18       243.11      Billion         128.29        Billion            28.79   \n",
       "19       285.97      Billion         110.22        Billion            15.84   \n",
       "\n",
       "   Op Income Metric Net Income Net Income Metric   Assets Assets Metric  \\\n",
       "0           Billion      57.41           Billion     2020       Million   \n",
       "1           Billion      44.30           Billion  301,311       Million   \n",
       "2           Billion      40.26           Billion  299.243       Billion   \n",
       "3           Billion      21.33           Billion  110,908       Million   \n",
       "4           Billion      29.15           Billion  139,691       Million   \n",
       "5              None      81.41           Billion  829.946       Billion   \n",
       "6              None      29.10           Billion    3,386       Billion   \n",
       "7           Billion      10.86           Billion   77,884       Million   \n",
       "8           Billion      14.71           Billion  158,380       Million   \n",
       "9           Billion      14.88           Billion  237,382       Million   \n",
       "10             None      16.47           Billion    2,741       Million   \n",
       "11          Billion      13.03           Billion  120,700       Million   \n",
       "12          Billion       6.41           Billion   32,127       Million   \n",
       "13          Billion     -22.44           Billion  361,495       Million   \n",
       "14          Billion      -5.37           Billion  547,898       Million   \n",
       "15          Billion      15.40           Billion  192,483       Million   \n",
       "16          Million       2020           Million  201,549       Million   \n",
       "17          Billion      20.89           Billion  152,539       Million   \n",
       "18          Billion      17.80           Billion  293,259       Million   \n",
       "19          Billion      11.24           Billion     2020       Million   \n",
       "\n",
       "   Liabilities Liabilities Metric  \n",
       "0      245,062            Million  \n",
       "1      183,007            Million  \n",
       "2        86.32            Billion  \n",
       "3      184,586            Million  \n",
       "4       29,244            Million  \n",
       "5       410.73            Billion  \n",
       "6        3,106            Billion  \n",
       "7       42,360            Million  \n",
       "8       95,402            Million  \n",
       "9      162,072            Million  \n",
       "10       2,476            Million  \n",
       "11      74,179            Million  \n",
       "12      25,607            Million  \n",
       "13     181,312            Million  \n",
       "14     372,002            Million  \n",
       "15     127,017            Million  \n",
       "16     113,286            Million  \n",
       "17      70,529            Million  \n",
       "18     229,146            Million  \n",
       "19        2020            Million  "
      ],
      "text/html": "<div>\n<style scoped>\n    .dataframe tbody tr th:only-of-type {\n        vertical-align: middle;\n    }\n\n    .dataframe tbody tr th {\n        vertical-align: top;\n    }\n\n    .dataframe thead th {\n        text-align: right;\n    }\n</style>\n<table border=\"1\" class=\"dataframe\">\n  <thead>\n    <tr style=\"text-align: right;\">\n      <th></th>\n      <th>Company Name</th>\n      <th>Company Business</th>\n      <th>Market Value</th>\n      <th>Value Metric</th>\n      <th>Annual Revenue</th>\n      <th>Revenue Metric</th>\n      <th>Operating Income</th>\n      <th>Op Income Metric</th>\n      <th>Net Income</th>\n      <th>Net Income Metric</th>\n      <th>Assets</th>\n      <th>Assets Metric</th>\n      <th>Liabilities</th>\n      <th>Liabilities Metric</th>\n    </tr>\n  </thead>\n  <tbody>\n    <tr>\n      <th>0</th>\n      <td>APPLE</td>\n      <td>Technology</td>\n      <td>2256</td>\n      <td>Billion</td>\n      <td>274.51</td>\n      <td>Billion</td>\n      <td>66.28</td>\n      <td>Billion</td>\n      <td>57.41</td>\n      <td>Billion</td>\n      <td>2020</td>\n      <td>Million</td>\n      <td>245,062</td>\n      <td>Million</td>\n    </tr>\n    <tr>\n      <th>1</th>\n      <td>MICROSOFT CORPORATION</td>\n      <td>Technology</td>\n      <td>1682</td>\n      <td>Billion</td>\n      <td>143.00</td>\n      <td>Billion</td>\n      <td>52.95</td>\n      <td>Billion</td>\n      <td>44.30</td>\n      <td>Billion</td>\n      <td>301,311</td>\n      <td>Million</td>\n      <td>183,007</td>\n      <td>Million</td>\n    </tr>\n    <tr>\n      <th>2</th>\n      <td>ALPHABET</td>\n      <td>Technology</td>\n      <td>1185</td>\n      <td>Billion</td>\n      <td>182.52</td>\n      <td>Billion</td>\n      <td>41.22</td>\n      <td>Billion</td>\n      <td>40.26</td>\n      <td>Billion</td>\n      <td>299.243</td>\n      <td>Billion</td>\n      <td>86.32</td>\n      <td>Billion</td>\n    </tr>\n    <tr>\n      <th>3</th>\n      <td>AMAZON.COM</td>\n      <td>eCommerce</td>\n      <td>1634</td>\n      <td>Billion</td>\n      <td>386.06</td>\n      <td>Billion</td>\n      <td>22.89</td>\n      <td>Billion</td>\n      <td>21.33</td>\n      <td>Billion</td>\n      <td>110,908</td>\n      <td>Million</td>\n      <td>184,586</td>\n      <td>Million</td>\n    </tr>\n    <tr>\n      <th>4</th>\n      <td>FACEBOOK</td>\n      <td>Communication Services</td>\n      <td>778.04</td>\n      <td>Billion</td>\n      <td>85.96</td>\n      <td>Billion</td>\n      <td>32.67</td>\n      <td>Billion</td>\n      <td>29.15</td>\n      <td>Billion</td>\n      <td>139,691</td>\n      <td>Million</td>\n      <td>29,244</td>\n      <td>Million</td>\n    </tr>\n    <tr>\n      <th>5</th>\n      <td>BERKSHIRE HATHAWAY</td>\n      <td>Financial Services</td>\n      <td>543.68</td>\n      <td>Billion</td>\n      <td>327.22</td>\n      <td>Billion</td>\n      <td>None</td>\n      <td>None</td>\n      <td>81.41</td>\n      <td>Billion</td>\n      <td>829.946</td>\n      <td>Billion</td>\n      <td>410.73</td>\n      <td>Billion</td>\n    </tr>\n    <tr>\n      <th>6</th>\n      <td>J P MORGAN CHASE &amp; CO</td>\n      <td>Financial Services</td>\n      <td>387.33</td>\n      <td>Billion</td>\n      <td>122.90</td>\n      <td>Billion</td>\n      <td>None</td>\n      <td>None</td>\n      <td>29.10</td>\n      <td>Billion</td>\n      <td>3,386</td>\n      <td>Billion</td>\n      <td>3,106</td>\n      <td>Billion</td>\n    </tr>\n    <tr>\n      <th>7</th>\n      <td>VISA</td>\n      <td>Financial Services</td>\n      <td>482.17</td>\n      <td>Billion</td>\n      <td>21.84</td>\n      <td>Billion</td>\n      <td>14.09</td>\n      <td>Billion</td>\n      <td>10.86</td>\n      <td>Billion</td>\n      <td>77,884</td>\n      <td>Million</td>\n      <td>42,360</td>\n      <td>Million</td>\n    </tr>\n    <tr>\n      <th>8</th>\n      <td>JOHNSON &amp; JOHNSON</td>\n      <td>Healthcare</td>\n      <td>414.31</td>\n      <td>Billion</td>\n      <td>82.58</td>\n      <td>Billion</td>\n      <td>19.73</td>\n      <td>Billion</td>\n      <td>14.71</td>\n      <td>Billion</td>\n      <td>158,380</td>\n      <td>Million</td>\n      <td>95,402</td>\n      <td>Million</td>\n    </tr>\n    <tr>\n      <th>9</th>\n      <td>WALMART</td>\n      <td>Retail</td>\n      <td>407.84</td>\n      <td>Billion</td>\n      <td>523.96</td>\n      <td>Billion</td>\n      <td>22.54</td>\n      <td>Billion</td>\n      <td>14.88</td>\n      <td>Billion</td>\n      <td>237,382</td>\n      <td>Million</td>\n      <td>162,072</td>\n      <td>Million</td>\n    </tr>\n    <tr>\n      <th>10</th>\n      <td>BANK OF AMERICA CORPORATION</td>\n      <td>Financial Services</td>\n      <td>262.2</td>\n      <td>Billion</td>\n      <td>85.53</td>\n      <td>Billion</td>\n      <td>None</td>\n      <td>None</td>\n      <td>16.47</td>\n      <td>Billion</td>\n      <td>2,741</td>\n      <td>Million</td>\n      <td>2,476</td>\n      <td>Million</td>\n    </tr>\n    <tr>\n      <th>11</th>\n      <td>PROCTER &amp; GAMBLE COMPANY</td>\n      <td>Consumer Defensive</td>\n      <td>345.01</td>\n      <td>Billion</td>\n      <td>70.95</td>\n      <td>Billion</td>\n      <td>15.7</td>\n      <td>Billion</td>\n      <td>13.03</td>\n      <td>Billion</td>\n      <td>120,700</td>\n      <td>Million</td>\n      <td>74,179</td>\n      <td>Million</td>\n    </tr>\n    <tr>\n      <th>12</th>\n      <td>MASTERCARD</td>\n      <td>Digital Payment Solution Services</td>\n      <td>355.84</td>\n      <td>Billion</td>\n      <td>15.30</td>\n      <td>Billion</td>\n      <td>8.16</td>\n      <td>Billion</td>\n      <td>6.41</td>\n      <td>Billion</td>\n      <td>32,127</td>\n      <td>Million</td>\n      <td>25,607</td>\n      <td>Million</td>\n    </tr>\n    <tr>\n      <th>13</th>\n      <td>EXXON MOBIL CORPORATION</td>\n      <td>Energy</td>\n      <td>174.29</td>\n      <td>Billion</td>\n      <td>181.50</td>\n      <td>Billion</td>\n      <td>-28.88</td>\n      <td>Billion</td>\n      <td>-22.44</td>\n      <td>Billion</td>\n      <td>361,495</td>\n      <td>Million</td>\n      <td>181,312</td>\n      <td>Million</td>\n    </tr>\n    <tr>\n      <th>14</th>\n      <td>AT&amp;T</td>\n      <td>Telecom</td>\n      <td>204.94</td>\n      <td>Billion</td>\n      <td>171.76</td>\n      <td>Billion</td>\n      <td>25.28</td>\n      <td>Billion</td>\n      <td>-5.37</td>\n      <td>Billion</td>\n      <td>547,898</td>\n      <td>Million</td>\n      <td>372,002</td>\n      <td>Million</td>\n    </tr>\n    <tr>\n      <th>15</th>\n      <td>UNITEDHEALTH GROUP</td>\n      <td>Healthcare</td>\n      <td>332.73</td>\n      <td>Billion</td>\n      <td>255.63</td>\n      <td>Billion</td>\n      <td>20.9</td>\n      <td>Billion</td>\n      <td>15.40</td>\n      <td>Billion</td>\n      <td>192,483</td>\n      <td>Million</td>\n      <td>127,017</td>\n      <td>Million</td>\n    </tr>\n    <tr>\n      <th>16</th>\n      <td>THE WALT DISNEY COMPANY</td>\n      <td>Communication Services</td>\n      <td>328.02</td>\n      <td>Billion</td>\n      <td>2020</td>\n      <td>Million</td>\n      <td>3,794</td>\n      <td>Million</td>\n      <td>2020</td>\n      <td>Million</td>\n      <td>201,549</td>\n      <td>Million</td>\n      <td>113,286</td>\n      <td>Million</td>\n    </tr>\n    <tr>\n      <th>17</th>\n      <td>INTEL CORPORATION</td>\n      <td>Technology</td>\n      <td>204.16</td>\n      <td>Billion</td>\n      <td>77.86</td>\n      <td>Billion</td>\n      <td>23.87</td>\n      <td>Billion</td>\n      <td>20.89</td>\n      <td>Billion</td>\n      <td>152,539</td>\n      <td>Million</td>\n      <td>70,529</td>\n      <td>Million</td>\n    </tr>\n    <tr>\n      <th>18</th>\n      <td>VERIZON COMMUNICATIONS</td>\n      <td>Communication Services</td>\n      <td>243.11</td>\n      <td>Billion</td>\n      <td>128.29</td>\n      <td>Billion</td>\n      <td>28.79</td>\n      <td>Billion</td>\n      <td>17.80</td>\n      <td>Billion</td>\n      <td>293,259</td>\n      <td>Million</td>\n      <td>229,146</td>\n      <td>Million</td>\n    </tr>\n    <tr>\n      <th>19</th>\n      <td>HOME DEPOT</td>\n      <td>Retail</td>\n      <td>285.97</td>\n      <td>Billion</td>\n      <td>110.22</td>\n      <td>Billion</td>\n      <td>15.84</td>\n      <td>Billion</td>\n      <td>11.24</td>\n      <td>Billion</td>\n      <td>2020</td>\n      <td>Million</td>\n      <td>2020</td>\n      <td>Million</td>\n    </tr>\n  </tbody>\n</table>\n</div>"
     },
     "metadata": {},
     "execution_count": 5
    }
   ],
   "source": [
    "valuetoday_df = scraper.df_cleaning(raw_data)"
   ]
  }
 ]
}