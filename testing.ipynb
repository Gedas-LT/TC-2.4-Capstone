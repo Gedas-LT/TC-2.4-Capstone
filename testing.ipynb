{
 "metadata": {
  "language_info": {
   "codemirror_mode": {
    "name": "ipython",
    "version": 3
   },
   "file_extension": ".py",
   "mimetype": "text/x-python",
   "name": "python",
   "nbconvert_exporter": "python",
   "pygments_lexer": "ipython3",
   "version": "3.8.8"
  },
  "orig_nbformat": 2,
  "kernelspec": {
   "name": "python388jvsc74a57bd09c73145fe1f8ba769fdf9edcb512a81fe38bcab3cb253b8e7a65c7a64ff93c59",
   "display_name": "Python 3.8.8 64-bit ('base': conda)"
  }
 },
 "nbformat": 4,
 "nbformat_minor": 2,
 "cells": [
  {
   "cell_type": "code",
   "execution_count": 2,
   "metadata": {},
   "outputs": [],
   "source": [
    "from bs4 import BeautifulSoup\n",
    "import requests\n",
    "import pandas as pd\n",
    "from fake_useragent import UserAgent\n",
    "from time import sleep\n",
    "import re"
   ]
  },
  {
   "cell_type": "code",
   "execution_count": 3,
   "metadata": {},
   "outputs": [],
   "source": [
    "ua = UserAgent()\n",
    "header = {'User-Agent':str(ua.chrome)}\n",
    "\n",
    "url = \"https://www.value.today/headquarters/united-states-america-usa?page=0\"\n",
    "\n",
    "source = requests.get(url, headers=header)\n",
    "soup = BeautifulSoup(source.content, \"html.parser\")"
   ]
  },
  {
   "cell_type": "code",
   "execution_count": 4,
   "metadata": {},
   "outputs": [],
   "source": [
    "info_blocks = soup.find_all(class_=\"node node--type-listed-companies node--view-mode-teaser ds-2col-stacked clearfix\")"
   ]
  },
  {
   "cell_type": "code",
   "execution_count": 165,
   "metadata": {},
   "outputs": [],
   "source": [
    "collected_names = []\n",
    "collected_businesses = []\n",
    "collected_values = []\n",
    "collected_values_metrics = []\n",
    "collected_revenues = []\n",
    "collected_revenues_metrics = []\n",
    "collected_op_incomes = []\n",
    "collected_op_incomes_metrics = []\n",
    "collected_net_incomes = []\n",
    "collected_net_incomes_metrics = []\n",
    "collected_assets = []\n",
    "collected_assets_metrics = []\n",
    "collected_liabilities = []\n",
    "collected_liabilities_metrics = []\n",
    "\n",
    "for item in info_blocks:\n",
    "\n",
    "    name = item.find(\"h2\").text.strip()\n",
    "    collected_names.append(name)\n",
    "\n",
    "    business = item.select(\"div.field--name-field-company-category-primary > div > div.field--item > a\")[0].text.strip()\n",
    "    collected_businesses.append(business)\n",
    "\n",
    "    value = item.select(\"div.field--name-field-market-value-jan012021 > div.field--item\")[0][\"content\"]\n",
    "    collected_values.append(value)\n",
    "\n",
    "    value_string = item.select(\"div.field--name-field-market-value-jan012021 > div.field--item\")[0].text.strip()\n",
    "    if \"Billion\" in value_string:\n",
    "        collected_values_metrics.append(\"Billion\")\n",
    "    elif \"Million\" in value_string:\n",
    "        collected_values_metrics.append(\"Million\")\n",
    "\n",
    "    revenue_string = item.select(\"div.field--name-field-annual-revenue > div.field--item\")[0].text.strip()\n",
    "    revenue = re.findall(\"\\d+[.,]\\d+\", revenue_string)\n",
    "    collected_revenues.append(revenue[0])\n",
    "\n",
    "    if \"Billion\" in revenue_string:\n",
    "        collected_revenues_metrics.append(\"Billion\")\n",
    "    elif \"Million\" in revenue_string:\n",
    "        collected_revenues_metrics.append(\"Million\")\n",
    "        \n",
    "    op_income_item = item.select(\"div.field--name-field-annual-operating-income > div.field--item\")\n",
    "    if len(op_income_item) == 0:\n",
    "        collected_op_incomes.append(None)\n",
    "    else:\n",
    "        op_income_string = op_income_item[0].text.strip()\n",
    "        op_income = re.findall(\"\\d+[.,]\\d+\", op_income_string)\n",
    "        collected_op_incomes.append(op_income[0])\n",
    "\n",
    "    if len(op_income_item) == 0:\n",
    "        collected_op_incomes_metrics.append(None)\n",
    "    elif \"Billion\" in op_income_string:\n",
    "        collected_op_incomes_metrics.append(\"Billion\")\n",
    "    elif \"Million\" in op_income_string:\n",
    "        collected_op_incomes_metrics.append(\"Million\")\n",
    "\n",
    "    net_income_string = item.select(\"div.field--name-field-annual-revenue > div.field--item\")[0].text.strip()\n",
    "    net_income = re.findall(\"\\d+[.,]\\d+\", net_income_string)\n",
    "    collected_net_incomes.append(net_income[0])\n",
    "\n",
    "    if \"Billion\" in net_income_string:\n",
    "        collected_net_incomes_metrics.append(\"Billion\")\n",
    "    elif \"Million\" in net_income_string:\n",
    "        collected_net_incomes_metrics.append(\"Million\")\n",
    "\n",
    "    assets_string = item.select(\"div.field--name-field-total-assets > div.field--item\")[0].text.strip()\n",
    "    assets = re.findall(\"\\d+[.,]\\d+\", assets_string)\n",
    "    collected_assets.append(assets[0])\n",
    "\n",
    "    if \"Billion\" in assets_string:\n",
    "        collected_assets_metrics.append(\"Billion\")\n",
    "    elif \"Million\" in assets_string:\n",
    "        collected_assets_metrics.append(\"Million\")\n",
    "\n",
    "    liabilities_string = item.select(\"div.field--name-field-total-liabilities- > div.field--item\")[0].text.strip()\n",
    "    liabilities = re.findall(\"\\d+[.,]\\d+\", liabilities_string)\n",
    "    collected_liabilities.append(liabilities[0])\n",
    "\n",
    "    if \"Billion\" in liabilities_string:\n",
    "        collected_liabilities_metrics.append(\"Billion\")\n",
    "    elif \"Million\" in liabilities_string:\n",
    "        collected_liabilities_metrics.append(\"Million\")\n",
    "\n",
    "df = pd.DataFrame({\"Company Name\": collected_names, \"Company Business\": collected_businesses, \"Market Value\": collected_values, \"Value Metric\": collected_values_metrics, \"Annual Revenue\": collected_revenues, \"Revenue Metric\": collected_revenues_metrics, \"Operating Income\": collected_op_incomes, \"Op Income Metric\": collected_op_incomes_metrics, \"Net Income\": collected_net_incomes, \"Net Income Metric\": collected_net_incomes_metrics, \"Assets\": collected_assets, \"Assets Metric\": collected_assets_metrics, \"Liabilities\": collected_liabilities, \"Liabilities Metric\": collected_liabilities_metrics})"
   ]
  },
  {
   "cell_type": "code",
   "execution_count": 166,
   "metadata": {},
   "outputs": [],
   "source": [
    "numeric_columns = [\"Market Value\", \"Annual Revenue\", \"Operating Income\", \"Net Income\", \"Assets\", \"Liabilities\"]\n",
    "\n",
    "df[numeric_columns] = df[numeric_columns].replace(\",\", \"\", regex=True)\n",
    "df[numeric_columns] = df[numeric_columns].apply(pd.to_numeric)"
   ]
  },
  {
   "cell_type": "code",
   "execution_count": 189,
   "metadata": {},
   "outputs": [
    {
     "output_type": "execute_result",
     "data": {
      "text/plain": [
       "            Company Name        Company Business  Market Value Value Metric  \\\n",
       "0                  APPLE              Technology       2256.00      Billion   \n",
       "1  MICROSOFT CORPORATION              Technology       1682.00      Billion   \n",
       "2               ALPHABET              Technology       1185.00      Billion   \n",
       "3             AMAZON.COM               eCommerce       1634.00      Billion   \n",
       "4               FACEBOOK  Communication Services        778.04      Billion   \n",
       "5     BERKSHIRE HATHAWAY      Financial Services        543.68      Billion   \n",
       "6  J P MORGAN CHASE & CO      Financial Services        387.33      Billion   \n",
       "7                   VISA      Financial Services        482.17      Billion   \n",
       "8      JOHNSON & JOHNSON              Healthcare        414.31      Billion   \n",
       "9                WALMART                  Retail        407.84      Billion   \n",
       "\n",
       "   Annual Revenue Revenue Metric  Operating Income Op Income Metric  \\\n",
       "0          274.51        Billion             66.28          Billion   \n",
       "1          143.00        Billion             52.95          Billion   \n",
       "2          182.52        Billion             41.22          Billion   \n",
       "3          386.06        Billion             22.89          Billion   \n",
       "4           85.96        Billion             32.67          Billion   \n",
       "5          327.22        Billion               NaN             None   \n",
       "6          122.90        Billion               NaN             None   \n",
       "7           21.84        Billion             14.09          Billion   \n",
       "8           82.58        Billion             19.73          Billion   \n",
       "9          523.96        Billion             22.54          Billion   \n",
       "\n",
       "   Net Income Net Income Metric      Assets Assets Metric  Liabilities  \\\n",
       "0      274.51           Billion  317344.000       Million    245062.00   \n",
       "1      143.00           Billion  301311.000       Million    183007.00   \n",
       "2      182.52           Billion     299.243       Billion        86.32   \n",
       "3      386.06           Billion  110908.000       Million    184586.00   \n",
       "4       85.96           Billion  139691.000       Million     29244.00   \n",
       "5      327.22           Billion     829.946       Billion       410.73   \n",
       "6      122.90           Billion    3386.000       Billion      3106.00   \n",
       "7       21.84           Billion   77884.000       Million     42360.00   \n",
       "8       82.58           Billion  158380.000       Million     95402.00   \n",
       "9      523.96           Billion  237382.000       Million    162072.00   \n",
       "\n",
       "  Liabilities Metric  \n",
       "0            Million  \n",
       "1            Million  \n",
       "2            Billion  \n",
       "3            Million  \n",
       "4            Million  \n",
       "5            Billion  \n",
       "6            Billion  \n",
       "7            Million  \n",
       "8            Million  \n",
       "9            Million  "
      ],
      "text/html": "<div>\n<style scoped>\n    .dataframe tbody tr th:only-of-type {\n        vertical-align: middle;\n    }\n\n    .dataframe tbody tr th {\n        vertical-align: top;\n    }\n\n    .dataframe thead th {\n        text-align: right;\n    }\n</style>\n<table border=\"1\" class=\"dataframe\">\n  <thead>\n    <tr style=\"text-align: right;\">\n      <th></th>\n      <th>Company Name</th>\n      <th>Company Business</th>\n      <th>Market Value</th>\n      <th>Value Metric</th>\n      <th>Annual Revenue</th>\n      <th>Revenue Metric</th>\n      <th>Operating Income</th>\n      <th>Op Income Metric</th>\n      <th>Net Income</th>\n      <th>Net Income Metric</th>\n      <th>Assets</th>\n      <th>Assets Metric</th>\n      <th>Liabilities</th>\n      <th>Liabilities Metric</th>\n    </tr>\n  </thead>\n  <tbody>\n    <tr>\n      <th>0</th>\n      <td>APPLE</td>\n      <td>Technology</td>\n      <td>2256.00</td>\n      <td>Billion</td>\n      <td>274.51</td>\n      <td>Billion</td>\n      <td>66.28</td>\n      <td>Billion</td>\n      <td>274.51</td>\n      <td>Billion</td>\n      <td>317344.000</td>\n      <td>Million</td>\n      <td>245062.00</td>\n      <td>Million</td>\n    </tr>\n    <tr>\n      <th>1</th>\n      <td>MICROSOFT CORPORATION</td>\n      <td>Technology</td>\n      <td>1682.00</td>\n      <td>Billion</td>\n      <td>143.00</td>\n      <td>Billion</td>\n      <td>52.95</td>\n      <td>Billion</td>\n      <td>143.00</td>\n      <td>Billion</td>\n      <td>301311.000</td>\n      <td>Million</td>\n      <td>183007.00</td>\n      <td>Million</td>\n    </tr>\n    <tr>\n      <th>2</th>\n      <td>ALPHABET</td>\n      <td>Technology</td>\n      <td>1185.00</td>\n      <td>Billion</td>\n      <td>182.52</td>\n      <td>Billion</td>\n      <td>41.22</td>\n      <td>Billion</td>\n      <td>182.52</td>\n      <td>Billion</td>\n      <td>299.243</td>\n      <td>Billion</td>\n      <td>86.32</td>\n      <td>Billion</td>\n    </tr>\n    <tr>\n      <th>3</th>\n      <td>AMAZON.COM</td>\n      <td>eCommerce</td>\n      <td>1634.00</td>\n      <td>Billion</td>\n      <td>386.06</td>\n      <td>Billion</td>\n      <td>22.89</td>\n      <td>Billion</td>\n      <td>386.06</td>\n      <td>Billion</td>\n      <td>110908.000</td>\n      <td>Million</td>\n      <td>184586.00</td>\n      <td>Million</td>\n    </tr>\n    <tr>\n      <th>4</th>\n      <td>FACEBOOK</td>\n      <td>Communication Services</td>\n      <td>778.04</td>\n      <td>Billion</td>\n      <td>85.96</td>\n      <td>Billion</td>\n      <td>32.67</td>\n      <td>Billion</td>\n      <td>85.96</td>\n      <td>Billion</td>\n      <td>139691.000</td>\n      <td>Million</td>\n      <td>29244.00</td>\n      <td>Million</td>\n    </tr>\n    <tr>\n      <th>5</th>\n      <td>BERKSHIRE HATHAWAY</td>\n      <td>Financial Services</td>\n      <td>543.68</td>\n      <td>Billion</td>\n      <td>327.22</td>\n      <td>Billion</td>\n      <td>NaN</td>\n      <td>None</td>\n      <td>327.22</td>\n      <td>Billion</td>\n      <td>829.946</td>\n      <td>Billion</td>\n      <td>410.73</td>\n      <td>Billion</td>\n    </tr>\n    <tr>\n      <th>6</th>\n      <td>J P MORGAN CHASE &amp; CO</td>\n      <td>Financial Services</td>\n      <td>387.33</td>\n      <td>Billion</td>\n      <td>122.90</td>\n      <td>Billion</td>\n      <td>NaN</td>\n      <td>None</td>\n      <td>122.90</td>\n      <td>Billion</td>\n      <td>3386.000</td>\n      <td>Billion</td>\n      <td>3106.00</td>\n      <td>Billion</td>\n    </tr>\n    <tr>\n      <th>7</th>\n      <td>VISA</td>\n      <td>Financial Services</td>\n      <td>482.17</td>\n      <td>Billion</td>\n      <td>21.84</td>\n      <td>Billion</td>\n      <td>14.09</td>\n      <td>Billion</td>\n      <td>21.84</td>\n      <td>Billion</td>\n      <td>77884.000</td>\n      <td>Million</td>\n      <td>42360.00</td>\n      <td>Million</td>\n    </tr>\n    <tr>\n      <th>8</th>\n      <td>JOHNSON &amp; JOHNSON</td>\n      <td>Healthcare</td>\n      <td>414.31</td>\n      <td>Billion</td>\n      <td>82.58</td>\n      <td>Billion</td>\n      <td>19.73</td>\n      <td>Billion</td>\n      <td>82.58</td>\n      <td>Billion</td>\n      <td>158380.000</td>\n      <td>Million</td>\n      <td>95402.00</td>\n      <td>Million</td>\n    </tr>\n    <tr>\n      <th>9</th>\n      <td>WALMART</td>\n      <td>Retail</td>\n      <td>407.84</td>\n      <td>Billion</td>\n      <td>523.96</td>\n      <td>Billion</td>\n      <td>22.54</td>\n      <td>Billion</td>\n      <td>523.96</td>\n      <td>Billion</td>\n      <td>237382.000</td>\n      <td>Million</td>\n      <td>162072.00</td>\n      <td>Million</td>\n    </tr>\n  </tbody>\n</table>\n</div>"
     },
     "metadata": {},
     "execution_count": 189
    }
   ],
   "source": [
    "df"
   ]
  },
  {
   "cell_type": "code",
   "execution_count": 227,
   "metadata": {},
   "outputs": [],
   "source": [
    "final_df = df[[\"Company Name\", \"Company Business\"]]"
   ]
  },
  {
   "cell_type": "code",
   "execution_count": 228,
   "metadata": {},
   "outputs": [
    {
     "output_type": "execute_result",
     "data": {
      "text/plain": [
       "            Company Name        Company Business\n",
       "0                  APPLE              Technology\n",
       "1  MICROSOFT CORPORATION              Technology\n",
       "2               ALPHABET              Technology\n",
       "3             AMAZON.COM               eCommerce\n",
       "4               FACEBOOK  Communication Services\n",
       "5     BERKSHIRE HATHAWAY      Financial Services\n",
       "6  J P MORGAN CHASE & CO      Financial Services\n",
       "7                   VISA      Financial Services\n",
       "8      JOHNSON & JOHNSON              Healthcare\n",
       "9                WALMART                  Retail"
      ],
      "text/html": "<div>\n<style scoped>\n    .dataframe tbody tr th:only-of-type {\n        vertical-align: middle;\n    }\n\n    .dataframe tbody tr th {\n        vertical-align: top;\n    }\n\n    .dataframe thead th {\n        text-align: right;\n    }\n</style>\n<table border=\"1\" class=\"dataframe\">\n  <thead>\n    <tr style=\"text-align: right;\">\n      <th></th>\n      <th>Company Name</th>\n      <th>Company Business</th>\n    </tr>\n  </thead>\n  <tbody>\n    <tr>\n      <th>0</th>\n      <td>APPLE</td>\n      <td>Technology</td>\n    </tr>\n    <tr>\n      <th>1</th>\n      <td>MICROSOFT CORPORATION</td>\n      <td>Technology</td>\n    </tr>\n    <tr>\n      <th>2</th>\n      <td>ALPHABET</td>\n      <td>Technology</td>\n    </tr>\n    <tr>\n      <th>3</th>\n      <td>AMAZON.COM</td>\n      <td>eCommerce</td>\n    </tr>\n    <tr>\n      <th>4</th>\n      <td>FACEBOOK</td>\n      <td>Communication Services</td>\n    </tr>\n    <tr>\n      <th>5</th>\n      <td>BERKSHIRE HATHAWAY</td>\n      <td>Financial Services</td>\n    </tr>\n    <tr>\n      <th>6</th>\n      <td>J P MORGAN CHASE &amp; CO</td>\n      <td>Financial Services</td>\n    </tr>\n    <tr>\n      <th>7</th>\n      <td>VISA</td>\n      <td>Financial Services</td>\n    </tr>\n    <tr>\n      <th>8</th>\n      <td>JOHNSON &amp; JOHNSON</td>\n      <td>Healthcare</td>\n    </tr>\n    <tr>\n      <th>9</th>\n      <td>WALMART</td>\n      <td>Retail</td>\n    </tr>\n  </tbody>\n</table>\n</div>"
     },
     "metadata": {},
     "execution_count": 228
    }
   ],
   "source": [
    "final_df"
   ]
  },
  {
   "cell_type": "code",
   "execution_count": 232,
   "metadata": {},
   "outputs": [],
   "source": [
    "def change_num_values(number_column: str, metric_column: str) -> None:\n",
    "    final_df[number_column] = 0 \n",
    "    for count, row in enumerate(df[metric_column]):\n",
    "        if row == \"Million\":\n",
    "            final_df[number_column][count] = df[number_column][count] * 1000000\n",
    "        if row == \"Billion\":\n",
    "            final_df[number_column][count] = df[number_column][count] * 1000000000"
   ]
  },
  {
   "cell_type": "code",
   "execution_count": 233,
   "metadata": {},
   "outputs": [
    {
     "output_type": "stream",
     "name": "stderr",
     "text": [
      "<ipython-input-232-62b5ad016548>:2: SettingWithCopyWarning: \nA value is trying to be set on a copy of a slice from a DataFrame.\nTry using .loc[row_indexer,col_indexer] = value instead\n\nSee the caveats in the documentation: https://pandas.pydata.org/pandas-docs/stable/user_guide/indexing.html#returning-a-view-versus-a-copy\n  final_df[number_column] = 0\n<ipython-input-232-62b5ad016548>:7: SettingWithCopyWarning: \nA value is trying to be set on a copy of a slice from a DataFrame\n\nSee the caveats in the documentation: https://pandas.pydata.org/pandas-docs/stable/user_guide/indexing.html#returning-a-view-versus-a-copy\n  final_df[number_column][count] = df[number_column][count] * 1000000000\n<ipython-input-233-58167e90cae6>:1: SettingWithCopyWarning: \nA value is trying to be set on a copy of a slice from a DataFrame\n\nSee the caveats in the documentation: https://pandas.pydata.org/pandas-docs/stable/user_guide/indexing.html#returning-a-view-versus-a-copy\n  change_num_values(\"Market Value\", \"Value Metric\")\n<ipython-input-233-58167e90cae6>:2: SettingWithCopyWarning: \nA value is trying to be set on a copy of a slice from a DataFrame\n\nSee the caveats in the documentation: https://pandas.pydata.org/pandas-docs/stable/user_guide/indexing.html#returning-a-view-versus-a-copy\n  change_num_values(\"Annual Revenue\", \"Revenue Metric\")\n<ipython-input-233-58167e90cae6>:3: SettingWithCopyWarning: \nA value is trying to be set on a copy of a slice from a DataFrame\n\nSee the caveats in the documentation: https://pandas.pydata.org/pandas-docs/stable/user_guide/indexing.html#returning-a-view-versus-a-copy\n  change_num_values(\"Operating Income\", \"Op Income Metric\")\n<ipython-input-233-58167e90cae6>:4: SettingWithCopyWarning: \nA value is trying to be set on a copy of a slice from a DataFrame\n\nSee the caveats in the documentation: https://pandas.pydata.org/pandas-docs/stable/user_guide/indexing.html#returning-a-view-versus-a-copy\n  change_num_values(\"Net Income\", \"Net Income Metric\")\n<ipython-input-232-62b5ad016548>:5: SettingWithCopyWarning: \nA value is trying to be set on a copy of a slice from a DataFrame\n\nSee the caveats in the documentation: https://pandas.pydata.org/pandas-docs/stable/user_guide/indexing.html#returning-a-view-versus-a-copy\n  final_df[number_column][count] = df[number_column][count] * 1000000\n<ipython-input-233-58167e90cae6>:6: SettingWithCopyWarning: \nA value is trying to be set on a copy of a slice from a DataFrame\n\nSee the caveats in the documentation: https://pandas.pydata.org/pandas-docs/stable/user_guide/indexing.html#returning-a-view-versus-a-copy\n  change_num_values(\"Liabilities\", \"Liabilities Metric\")\n"
     ]
    }
   ],
   "source": [
    "change_num_values(\"Market Value\", \"Value Metric\")\n",
    "change_num_values(\"Annual Revenue\", \"Revenue Metric\")\n",
    "change_num_values(\"Operating Income\", \"Op Income Metric\")\n",
    "change_num_values(\"Net Income\", \"Net Income Metric\")\n",
    "change_num_values(\"Assets\", \"Assets Metric\")\n",
    "change_num_values(\"Liabilities\", \"Liabilities Metric\")"
   ]
  }
 ]
}