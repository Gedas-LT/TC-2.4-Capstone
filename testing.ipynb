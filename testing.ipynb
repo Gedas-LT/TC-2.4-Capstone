{
 "metadata": {
  "language_info": {
   "codemirror_mode": {
    "name": "ipython",
    "version": 3
   },
   "file_extension": ".py",
   "mimetype": "text/x-python",
   "name": "python",
   "nbconvert_exporter": "python",
   "pygments_lexer": "ipython3",
   "version": "3.8.8"
  },
  "orig_nbformat": 2,
  "kernelspec": {
   "name": "python388jvsc74a57bd09c73145fe1f8ba769fdf9edcb512a81fe38bcab3cb253b8e7a65c7a64ff93c59",
   "display_name": "Python 3.8.8 64-bit ('base': conda)"
  }
 },
 "nbformat": 4,
 "nbformat_minor": 2,
 "cells": [
  {
   "cell_type": "code",
   "execution_count": 1,
   "metadata": {},
   "outputs": [],
   "source": [
    "from scraper import number_companies, valuetoday_usa_scraper, df_cleaning, save_csv"
   ]
  },
  {
   "cell_type": "code",
   "execution_count": 2,
   "metadata": {},
   "outputs": [
    {
     "output_type": "execute_result",
     "data": {
      "text/plain": [
       "5083"
      ]
     },
     "metadata": {},
     "execution_count": 2
    }
   ],
   "source": [
    "number_companies()"
   ]
  },
  {
   "cell_type": "code",
   "execution_count": 4,
   "metadata": {},
   "outputs": [
    {
     "output_type": "stream",
     "name": "stdout",
     "text": [
      "METLIFE\n"
     ]
    },
    {
     "output_type": "error",
     "ename": "ValueError",
     "evalue": "arrays must all be same length",
     "traceback": [
      "\u001b[1;31m---------------------------------------------------------------------------\u001b[0m",
      "\u001b[1;31mValueError\u001b[0m                                Traceback (most recent call last)",
      "\u001b[1;32m<ipython-input-4-b1bacd852d17>\u001b[0m in \u001b[0;36m<module>\u001b[1;34m\u001b[0m\n\u001b[1;32m----> 1\u001b[1;33m \u001b[0mdataframe\u001b[0m \u001b[1;33m=\u001b[0m \u001b[0mvaluetoday_usa_scraper\u001b[0m\u001b[1;33m(\u001b[0m\u001b[1;36m150\u001b[0m\u001b[1;33m)\u001b[0m\u001b[1;33m\u001b[0m\u001b[1;33m\u001b[0m\u001b[0m\n\u001b[0m\u001b[0;32m      2\u001b[0m \u001b[0mfinal_df\u001b[0m \u001b[1;33m=\u001b[0m \u001b[0mdf_cleaning\u001b[0m\u001b[1;33m(\u001b[0m\u001b[0mdataframe\u001b[0m\u001b[1;33m)\u001b[0m\u001b[1;33m\u001b[0m\u001b[1;33m\u001b[0m\u001b[0m\n",
      "\u001b[1;32md:\\Dokumentai\\Coding\\Turing College\\DS Course\\[06] DS.2.4 Capstone\\scraper.py\u001b[0m in \u001b[0;36mvaluetoday_usa_scraper\u001b[1;34m(n_companies)\u001b[0m\n\u001b[0;32m    133\u001b[0m \u001b[1;33m\u001b[0m\u001b[0m\n\u001b[0;32m    134\u001b[0m \u001b[1;33m\u001b[0m\u001b[0m\n\u001b[1;32m--> 135\u001b[1;33m     df = pd.DataFrame({\"Company Name\": collected_names, \"Company Business\": collected_businesses, \"Market Value\": collected_values, \n\u001b[0m\u001b[0;32m    136\u001b[0m                         \u001b[1;34m\"Value Metric\"\u001b[0m\u001b[1;33m:\u001b[0m \u001b[0mcollected_values_metrics\u001b[0m\u001b[1;33m,\u001b[0m \u001b[1;34m\"Annual Revenue\"\u001b[0m\u001b[1;33m:\u001b[0m \u001b[0mcollected_revenues\u001b[0m\u001b[1;33m,\u001b[0m\u001b[1;33m\u001b[0m\u001b[1;33m\u001b[0m\u001b[0m\n\u001b[0;32m    137\u001b[0m                         \u001b[1;34m\"Revenue Metric\"\u001b[0m\u001b[1;33m:\u001b[0m \u001b[0mcollected_revenues_metrics\u001b[0m\u001b[1;33m,\u001b[0m \u001b[1;34m\"Operating Income\"\u001b[0m\u001b[1;33m:\u001b[0m \u001b[0mcollected_op_incomes\u001b[0m\u001b[1;33m,\u001b[0m\u001b[1;33m\u001b[0m\u001b[1;33m\u001b[0m\u001b[0m\n",
      "\u001b[1;32m~\\anaconda3\\lib\\site-packages\\pandas\\core\\frame.py\u001b[0m in \u001b[0;36m__init__\u001b[1;34m(self, data, index, columns, dtype, copy)\u001b[0m\n\u001b[0;32m    527\u001b[0m \u001b[1;33m\u001b[0m\u001b[0m\n\u001b[0;32m    528\u001b[0m         \u001b[1;32melif\u001b[0m \u001b[0misinstance\u001b[0m\u001b[1;33m(\u001b[0m\u001b[0mdata\u001b[0m\u001b[1;33m,\u001b[0m \u001b[0mdict\u001b[0m\u001b[1;33m)\u001b[0m\u001b[1;33m:\u001b[0m\u001b[1;33m\u001b[0m\u001b[1;33m\u001b[0m\u001b[0m\n\u001b[1;32m--> 529\u001b[1;33m             \u001b[0mmgr\u001b[0m \u001b[1;33m=\u001b[0m \u001b[0minit_dict\u001b[0m\u001b[1;33m(\u001b[0m\u001b[0mdata\u001b[0m\u001b[1;33m,\u001b[0m \u001b[0mindex\u001b[0m\u001b[1;33m,\u001b[0m \u001b[0mcolumns\u001b[0m\u001b[1;33m,\u001b[0m \u001b[0mdtype\u001b[0m\u001b[1;33m=\u001b[0m\u001b[0mdtype\u001b[0m\u001b[1;33m)\u001b[0m\u001b[1;33m\u001b[0m\u001b[1;33m\u001b[0m\u001b[0m\n\u001b[0m\u001b[0;32m    530\u001b[0m         \u001b[1;32melif\u001b[0m \u001b[0misinstance\u001b[0m\u001b[1;33m(\u001b[0m\u001b[0mdata\u001b[0m\u001b[1;33m,\u001b[0m \u001b[0mma\u001b[0m\u001b[1;33m.\u001b[0m\u001b[0mMaskedArray\u001b[0m\u001b[1;33m)\u001b[0m\u001b[1;33m:\u001b[0m\u001b[1;33m\u001b[0m\u001b[1;33m\u001b[0m\u001b[0m\n\u001b[0;32m    531\u001b[0m             \u001b[1;32mimport\u001b[0m \u001b[0mnumpy\u001b[0m\u001b[1;33m.\u001b[0m\u001b[0mma\u001b[0m\u001b[1;33m.\u001b[0m\u001b[0mmrecords\u001b[0m \u001b[1;32mas\u001b[0m \u001b[0mmrecords\u001b[0m\u001b[1;33m\u001b[0m\u001b[1;33m\u001b[0m\u001b[0m\n",
      "\u001b[1;32m~\\anaconda3\\lib\\site-packages\\pandas\\core\\internals\\construction.py\u001b[0m in \u001b[0;36minit_dict\u001b[1;34m(data, index, columns, dtype)\u001b[0m\n\u001b[0;32m    285\u001b[0m             \u001b[0marr\u001b[0m \u001b[1;32mif\u001b[0m \u001b[1;32mnot\u001b[0m \u001b[0mis_datetime64tz_dtype\u001b[0m\u001b[1;33m(\u001b[0m\u001b[0marr\u001b[0m\u001b[1;33m)\u001b[0m \u001b[1;32melse\u001b[0m \u001b[0marr\u001b[0m\u001b[1;33m.\u001b[0m\u001b[0mcopy\u001b[0m\u001b[1;33m(\u001b[0m\u001b[1;33m)\u001b[0m \u001b[1;32mfor\u001b[0m \u001b[0marr\u001b[0m \u001b[1;32min\u001b[0m \u001b[0marrays\u001b[0m\u001b[1;33m\u001b[0m\u001b[1;33m\u001b[0m\u001b[0m\n\u001b[0;32m    286\u001b[0m         ]\n\u001b[1;32m--> 287\u001b[1;33m     \u001b[1;32mreturn\u001b[0m \u001b[0marrays_to_mgr\u001b[0m\u001b[1;33m(\u001b[0m\u001b[0marrays\u001b[0m\u001b[1;33m,\u001b[0m \u001b[0mdata_names\u001b[0m\u001b[1;33m,\u001b[0m \u001b[0mindex\u001b[0m\u001b[1;33m,\u001b[0m \u001b[0mcolumns\u001b[0m\u001b[1;33m,\u001b[0m \u001b[0mdtype\u001b[0m\u001b[1;33m=\u001b[0m\u001b[0mdtype\u001b[0m\u001b[1;33m)\u001b[0m\u001b[1;33m\u001b[0m\u001b[1;33m\u001b[0m\u001b[0m\n\u001b[0m\u001b[0;32m    288\u001b[0m \u001b[1;33m\u001b[0m\u001b[0m\n\u001b[0;32m    289\u001b[0m \u001b[1;33m\u001b[0m\u001b[0m\n",
      "\u001b[1;32m~\\anaconda3\\lib\\site-packages\\pandas\\core\\internals\\construction.py\u001b[0m in \u001b[0;36marrays_to_mgr\u001b[1;34m(arrays, arr_names, index, columns, dtype, verify_integrity)\u001b[0m\n\u001b[0;32m     78\u001b[0m         \u001b[1;31m# figure out the index, if necessary\u001b[0m\u001b[1;33m\u001b[0m\u001b[1;33m\u001b[0m\u001b[1;33m\u001b[0m\u001b[0m\n\u001b[0;32m     79\u001b[0m         \u001b[1;32mif\u001b[0m \u001b[0mindex\u001b[0m \u001b[1;32mis\u001b[0m \u001b[1;32mNone\u001b[0m\u001b[1;33m:\u001b[0m\u001b[1;33m\u001b[0m\u001b[1;33m\u001b[0m\u001b[0m\n\u001b[1;32m---> 80\u001b[1;33m             \u001b[0mindex\u001b[0m \u001b[1;33m=\u001b[0m \u001b[0mextract_index\u001b[0m\u001b[1;33m(\u001b[0m\u001b[0marrays\u001b[0m\u001b[1;33m)\u001b[0m\u001b[1;33m\u001b[0m\u001b[1;33m\u001b[0m\u001b[0m\n\u001b[0m\u001b[0;32m     81\u001b[0m         \u001b[1;32melse\u001b[0m\u001b[1;33m:\u001b[0m\u001b[1;33m\u001b[0m\u001b[1;33m\u001b[0m\u001b[0m\n\u001b[0;32m     82\u001b[0m             \u001b[0mindex\u001b[0m \u001b[1;33m=\u001b[0m \u001b[0mensure_index\u001b[0m\u001b[1;33m(\u001b[0m\u001b[0mindex\u001b[0m\u001b[1;33m)\u001b[0m\u001b[1;33m\u001b[0m\u001b[1;33m\u001b[0m\u001b[0m\n",
      "\u001b[1;32m~\\anaconda3\\lib\\site-packages\\pandas\\core\\internals\\construction.py\u001b[0m in \u001b[0;36mextract_index\u001b[1;34m(data)\u001b[0m\n\u001b[0;32m    399\u001b[0m             \u001b[0mlengths\u001b[0m \u001b[1;33m=\u001b[0m \u001b[0mlist\u001b[0m\u001b[1;33m(\u001b[0m\u001b[0mset\u001b[0m\u001b[1;33m(\u001b[0m\u001b[0mraw_lengths\u001b[0m\u001b[1;33m)\u001b[0m\u001b[1;33m)\u001b[0m\u001b[1;33m\u001b[0m\u001b[1;33m\u001b[0m\u001b[0m\n\u001b[0;32m    400\u001b[0m             \u001b[1;32mif\u001b[0m \u001b[0mlen\u001b[0m\u001b[1;33m(\u001b[0m\u001b[0mlengths\u001b[0m\u001b[1;33m)\u001b[0m \u001b[1;33m>\u001b[0m \u001b[1;36m1\u001b[0m\u001b[1;33m:\u001b[0m\u001b[1;33m\u001b[0m\u001b[1;33m\u001b[0m\u001b[0m\n\u001b[1;32m--> 401\u001b[1;33m                 \u001b[1;32mraise\u001b[0m \u001b[0mValueError\u001b[0m\u001b[1;33m(\u001b[0m\u001b[1;34m\"arrays must all be same length\"\u001b[0m\u001b[1;33m)\u001b[0m\u001b[1;33m\u001b[0m\u001b[1;33m\u001b[0m\u001b[0m\n\u001b[0m\u001b[0;32m    402\u001b[0m \u001b[1;33m\u001b[0m\u001b[0m\n\u001b[0;32m    403\u001b[0m             \u001b[1;32mif\u001b[0m \u001b[0mhave_dicts\u001b[0m\u001b[1;33m:\u001b[0m\u001b[1;33m\u001b[0m\u001b[1;33m\u001b[0m\u001b[0m\n",
      "\u001b[1;31mValueError\u001b[0m: arrays must all be same length"
     ]
    }
   ],
   "source": [
    "dataframe = valuetoday_usa_scraper(150)\n",
    "final_df = df_cleaning(dataframe)"
   ]
  },
  {
   "cell_type": "code",
   "execution_count": 4,
   "metadata": {},
   "outputs": [],
   "source": [
    "save_csv(final_df, \"value_today\")"
   ]
  },
  {
   "cell_type": "code",
   "execution_count": 11,
   "metadata": {},
   "outputs": [
    {
     "output_type": "execute_result",
     "data": {
      "text/plain": [
       "            Company Name        Company Business   Market Value  \\\n",
       "0                  APPLE              Technology  2256000000000   \n",
       "1  MICROSOFT CORPORATION              Technology  1682000000000   \n",
       "2               ALPHABET              Technology  1185000000000   \n",
       "3             AMAZON.COM               eCommerce  1634000000000   \n",
       "4               FACEBOOK  Communication Services   778040000000   \n",
       "5     BERKSHIRE HATHAWAY      Financial Services   543679999999   \n",
       "6  J P MORGAN CHASE & CO      Financial Services   387330000000   \n",
       "7                   VISA      Financial Services   482170000000   \n",
       "8      JOHNSON & JOHNSON              Healthcare   414310000000   \n",
       "9                WALMART                  Retail   407840000000   \n",
       "\n",
       "   Annual Revenue  Operating Income    Net Income         Assets  \\\n",
       "0    274510000000       66280000000  274510000000   317344000000   \n",
       "1    143000000000       52950000000  143000000000   301311000000   \n",
       "2    182520000000       41220000000  182520000000   299243000000   \n",
       "3    386060000000       22890000000  386060000000   110908000000   \n",
       "4     85960000000       32670000000   85960000000   139691000000   \n",
       "5    327220000000                 0  327220000000   829946000000   \n",
       "6    122900000000                 0  122900000000  3386000000000   \n",
       "7     21840000000       14090000000   21840000000    77884000000   \n",
       "8     82580000000       19730000000   82580000000   158380000000   \n",
       "9    523960000000       22540000000  523960000000   237382000000   \n",
       "\n",
       "     Liabilities  \n",
       "0   245062000000  \n",
       "1   183007000000  \n",
       "2    86320000000  \n",
       "3   184586000000  \n",
       "4    29244000000  \n",
       "5   410730000000  \n",
       "6  3106000000000  \n",
       "7    42360000000  \n",
       "8    95402000000  \n",
       "9   162072000000  "
      ],
      "text/html": "<div>\n<style scoped>\n    .dataframe tbody tr th:only-of-type {\n        vertical-align: middle;\n    }\n\n    .dataframe tbody tr th {\n        vertical-align: top;\n    }\n\n    .dataframe thead th {\n        text-align: right;\n    }\n</style>\n<table border=\"1\" class=\"dataframe\">\n  <thead>\n    <tr style=\"text-align: right;\">\n      <th></th>\n      <th>Company Name</th>\n      <th>Company Business</th>\n      <th>Market Value</th>\n      <th>Annual Revenue</th>\n      <th>Operating Income</th>\n      <th>Net Income</th>\n      <th>Assets</th>\n      <th>Liabilities</th>\n    </tr>\n  </thead>\n  <tbody>\n    <tr>\n      <th>0</th>\n      <td>APPLE</td>\n      <td>Technology</td>\n      <td>2256000000000</td>\n      <td>274510000000</td>\n      <td>66280000000</td>\n      <td>274510000000</td>\n      <td>317344000000</td>\n      <td>245062000000</td>\n    </tr>\n    <tr>\n      <th>1</th>\n      <td>MICROSOFT CORPORATION</td>\n      <td>Technology</td>\n      <td>1682000000000</td>\n      <td>143000000000</td>\n      <td>52950000000</td>\n      <td>143000000000</td>\n      <td>301311000000</td>\n      <td>183007000000</td>\n    </tr>\n    <tr>\n      <th>2</th>\n      <td>ALPHABET</td>\n      <td>Technology</td>\n      <td>1185000000000</td>\n      <td>182520000000</td>\n      <td>41220000000</td>\n      <td>182520000000</td>\n      <td>299243000000</td>\n      <td>86320000000</td>\n    </tr>\n    <tr>\n      <th>3</th>\n      <td>AMAZON.COM</td>\n      <td>eCommerce</td>\n      <td>1634000000000</td>\n      <td>386060000000</td>\n      <td>22890000000</td>\n      <td>386060000000</td>\n      <td>110908000000</td>\n      <td>184586000000</td>\n    </tr>\n    <tr>\n      <th>4</th>\n      <td>FACEBOOK</td>\n      <td>Communication Services</td>\n      <td>778040000000</td>\n      <td>85960000000</td>\n      <td>32670000000</td>\n      <td>85960000000</td>\n      <td>139691000000</td>\n      <td>29244000000</td>\n    </tr>\n    <tr>\n      <th>5</th>\n      <td>BERKSHIRE HATHAWAY</td>\n      <td>Financial Services</td>\n      <td>543679999999</td>\n      <td>327220000000</td>\n      <td>0</td>\n      <td>327220000000</td>\n      <td>829946000000</td>\n      <td>410730000000</td>\n    </tr>\n    <tr>\n      <th>6</th>\n      <td>J P MORGAN CHASE &amp; CO</td>\n      <td>Financial Services</td>\n      <td>387330000000</td>\n      <td>122900000000</td>\n      <td>0</td>\n      <td>122900000000</td>\n      <td>3386000000000</td>\n      <td>3106000000000</td>\n    </tr>\n    <tr>\n      <th>7</th>\n      <td>VISA</td>\n      <td>Financial Services</td>\n      <td>482170000000</td>\n      <td>21840000000</td>\n      <td>14090000000</td>\n      <td>21840000000</td>\n      <td>77884000000</td>\n      <td>42360000000</td>\n    </tr>\n    <tr>\n      <th>8</th>\n      <td>JOHNSON &amp; JOHNSON</td>\n      <td>Healthcare</td>\n      <td>414310000000</td>\n      <td>82580000000</td>\n      <td>19730000000</td>\n      <td>82580000000</td>\n      <td>158380000000</td>\n      <td>95402000000</td>\n    </tr>\n    <tr>\n      <th>9</th>\n      <td>WALMART</td>\n      <td>Retail</td>\n      <td>407840000000</td>\n      <td>523960000000</td>\n      <td>22540000000</td>\n      <td>523960000000</td>\n      <td>237382000000</td>\n      <td>162072000000</td>\n    </tr>\n  </tbody>\n</table>\n</div>"
     },
     "metadata": {},
     "execution_count": 11
    }
   ],
   "source": [
    "final_df"
   ]
  },
  {
   "cell_type": "code",
   "execution_count": 4,
   "metadata": {},
   "outputs": [],
   "source": [
    "import requests\n",
    "import re\n",
    "import pandas as pd\n",
    "import warnings\n",
    "from bs4 import BeautifulSoup\n",
    "from fake_useragent import UserAgent"
   ]
  },
  {
   "cell_type": "code",
   "execution_count": 28,
   "metadata": {},
   "outputs": [],
   "source": [
    "ua = UserAgent()\n",
    "header = {'User-Agent':str(ua.chrome)}\n",
    "url = \"https://www.value.today/headquarters/united-states-america-usa?page=6\"\n",
    "\n",
    "source = requests.get(url, headers=header)\n",
    "soup = BeautifulSoup(source.content, \"html.parser\")\n",
    "\n",
    "# Create a list of divs with all required information.\n",
    "info_blocks = soup.find_all(\"div\", class_=\"node node--type-listed-companies node--view-mode-teaser ds-2col-stacked clearfix\")\n",
    "\n",
    "collected_names = []\n",
    "collected_businesses = []\n",
    "collected_values = []\n",
    "collected_values_metrics = []\n",
    "collected_revenues = []\n",
    "collected_revenues_metrics = []\n",
    "collected_op_incomes = []\n",
    "collected_op_incomes_metrics = []\n",
    "collected_net_incomes = []\n",
    "collected_net_incomes_metrics = []\n",
    "collected_assets = []\n",
    "collected_assets_metrics = []\n",
    "collected_liabilities = []\n",
    "collected_liabilities_metrics = []\n",
    "\n",
    "for item in info_blocks:\n",
    "\n",
    "    def collect_values(item, collected_list):\n",
    "        if len(item) == 0:\n",
    "            collected_list.append(None)\n",
    "        else:\n",
    "            string = item[0].text.strip() \n",
    "            value = re.findall(\"\\d+[.,]\\d+|\\b(?<!-)\\d+\\b\", string)\n",
    "            collected_list.append(value[0])\n",
    "\n",
    "\n",
    "    def collect_metrics(item, collected_list):\n",
    "        if len(item) == 0:\n",
    "            collected_list.append(None)\n",
    "        else:\n",
    "            string = item[0].text.strip()\n",
    "            if \"Billion\" in string:\n",
    "                collected_list.append(\"Billion\")\n",
    "            if \"Million\" in string:\n",
    "                collected_list.append(\"Million\")\n",
    "\n",
    "    market_value_item = item.select(\"div.field--name-field-market-value-jan012021 > div.field--item\")\n",
    "    if len(market_value_item) == 0:\n",
    "        continue\n",
    "    else:\n",
    "        market_value = market_value_item[0][\"content\"]\n",
    "        collected_values.append(market_value)\n",
    "\n",
    "    collect_metrics(market_value_item, collected_values_metrics)\n",
    "    \n",
    "    name = item.find(\"h2\").text.strip()\n",
    "    collected_names.append(name)\n",
    "\n",
    "    business = item.select(\"div.field--name-field-company-category-primary > div > div.field--item > a\")[0].text.strip()\n",
    "    collected_businesses.append(business)\n",
    "\n",
    "    revenue_item = item.select(\"div.field--name-field-annual-revenue > div.field--item\")\n",
    "    collect_values(revenue_item, collected_revenues)\n",
    "    collect_metrics(revenue_item, collected_revenues_metrics)\n",
    "\n",
    "    op_income_item = item.select(\"div.field--name-field-annual-operating-income > div.field--item\")\n",
    "    collect_values(op_income_item, collected_op_incomes)\n",
    "    collect_metrics(op_income_item, collected_op_incomes_metrics)\n",
    "\n",
    "    net_income_item = item.select(\"div.field--name-field-annual-revenue > div.field--item\")\n",
    "    collect_values(net_income_item, collected_net_incomes)\n",
    "    collect_metrics(net_income_item, collected_net_incomes_metrics)\n",
    "\n",
    "    assets_item = item.select(\"div.field--name-field-total-assets > div.field--item\")\n",
    "    collect_values(assets_item, collected_assets)\n",
    "    collect_metrics(assets_item, collected_assets_metrics)\n",
    "\n",
    "    liabilities_item = item.select(\"div.field--name-field-total-liabilities- > div.field--item\")\n",
    "    collect_values(liabilities_item, collected_liabilities)\n",
    "    collect_metrics(liabilities_item, collected_liabilities_metrics)\n",
    "\n",
    "    df = pd.DataFrame({\"Company Name\": collected_names, \"Company Business\": collected_businesses, \"Market Value\": collected_values, \n",
    "                        \"Value Metric\": collected_values_metrics, \"Annual Revenue\": collected_revenues, \n",
    "                        \"Revenue Metric\": collected_revenues_metrics, \"Operating Income\": collected_op_incomes, \n",
    "                        \"Op Income Metric\": collected_op_incomes_metrics, \"Net Income\": collected_net_incomes, \n",
    "                        \"Net Income Metric\": collected_net_incomes_metrics, \"Assets\": collected_assets, \n",
    "                        \"Assets Metric\": collected_assets_metrics, \"Liabilities\": collected_liabilities, \n",
    "                        \"Liabilities Metric\": collected_liabilities_metrics})"
   ]
  },
  {
   "cell_type": "code",
   "execution_count": 29,
   "metadata": {},
   "outputs": [
    {
     "output_type": "execute_result",
     "data": {
      "text/plain": [
       "                        Company Name    Company Business Market Value  \\\n",
       "0                           QUALCOMM          Technology        172.3   \n",
       "1  AMERICAN TOWER CORPORATION (REIT)         Real Estate       99.708   \n",
       "2            THE GOLDMAN SACHS GROUP  Financial Services       90.734   \n",
       "3        UNITED PARCEL SERVICE (UPS)          Industries       145.56   \n",
       "4             CVS HEALTH CORPORATION          Healthcare       89.399   \n",
       "5                       U.S. BANCORP  Financial Services       70.185   \n",
       "6                   LOWE'S COMPANIES   Consumer Cyclical       117.61   \n",
       "\n",
       "  Value Metric Annual Revenue Revenue Metric Operating Income  \\\n",
       "0      Billion          23.53        Billion             6.25   \n",
       "1      Billion           7.58        Billion             None   \n",
       "2      Billion         33,294        Million             None   \n",
       "3      Billion         84,628        Million            7,814   \n",
       "4      Billion        156,776        Million             None   \n",
       "5      Billion         22,883        Million             None   \n",
       "6      Billion          89.59        Billion             9.64   \n",
       "\n",
       "  Op Income Metric Net Income Net Income Metric   Assets Assets Metric  \\\n",
       "0          Billion      23.53           Billion   32,328       Million   \n",
       "1             None       7.58           Billion   41,515       Million   \n",
       "2             None     33,294           Million     None          None   \n",
       "3          Million     84,628           Million   62,057       Million   \n",
       "4             None    156,776           Million  235,495       Million   \n",
       "5             None     22,883           Million  546,652       Million   \n",
       "6          Billion      89.59           Billion    46.73       Billion   \n",
       "\n",
       "  Liabilities Liabilities Metric  \n",
       "0      29,022            Million  \n",
       "1      37,353            Million  \n",
       "2        None               None  \n",
       "3      57,694            Million  \n",
       "4     167,473            Million  \n",
       "5     494,802            Million  \n",
       "6       45.29            Billion  "
      ],
      "text/html": "<div>\n<style scoped>\n    .dataframe tbody tr th:only-of-type {\n        vertical-align: middle;\n    }\n\n    .dataframe tbody tr th {\n        vertical-align: top;\n    }\n\n    .dataframe thead th {\n        text-align: right;\n    }\n</style>\n<table border=\"1\" class=\"dataframe\">\n  <thead>\n    <tr style=\"text-align: right;\">\n      <th></th>\n      <th>Company Name</th>\n      <th>Company Business</th>\n      <th>Market Value</th>\n      <th>Value Metric</th>\n      <th>Annual Revenue</th>\n      <th>Revenue Metric</th>\n      <th>Operating Income</th>\n      <th>Op Income Metric</th>\n      <th>Net Income</th>\n      <th>Net Income Metric</th>\n      <th>Assets</th>\n      <th>Assets Metric</th>\n      <th>Liabilities</th>\n      <th>Liabilities Metric</th>\n    </tr>\n  </thead>\n  <tbody>\n    <tr>\n      <th>0</th>\n      <td>QUALCOMM</td>\n      <td>Technology</td>\n      <td>172.3</td>\n      <td>Billion</td>\n      <td>23.53</td>\n      <td>Billion</td>\n      <td>6.25</td>\n      <td>Billion</td>\n      <td>23.53</td>\n      <td>Billion</td>\n      <td>32,328</td>\n      <td>Million</td>\n      <td>29,022</td>\n      <td>Million</td>\n    </tr>\n    <tr>\n      <th>1</th>\n      <td>AMERICAN TOWER CORPORATION (REIT)</td>\n      <td>Real Estate</td>\n      <td>99.708</td>\n      <td>Billion</td>\n      <td>7.58</td>\n      <td>Billion</td>\n      <td>None</td>\n      <td>None</td>\n      <td>7.58</td>\n      <td>Billion</td>\n      <td>41,515</td>\n      <td>Million</td>\n      <td>37,353</td>\n      <td>Million</td>\n    </tr>\n    <tr>\n      <th>2</th>\n      <td>THE GOLDMAN SACHS GROUP</td>\n      <td>Financial Services</td>\n      <td>90.734</td>\n      <td>Billion</td>\n      <td>33,294</td>\n      <td>Million</td>\n      <td>None</td>\n      <td>None</td>\n      <td>33,294</td>\n      <td>Million</td>\n      <td>None</td>\n      <td>None</td>\n      <td>None</td>\n      <td>None</td>\n    </tr>\n    <tr>\n      <th>3</th>\n      <td>UNITED PARCEL SERVICE (UPS)</td>\n      <td>Industries</td>\n      <td>145.56</td>\n      <td>Billion</td>\n      <td>84,628</td>\n      <td>Million</td>\n      <td>7,814</td>\n      <td>Million</td>\n      <td>84,628</td>\n      <td>Million</td>\n      <td>62,057</td>\n      <td>Million</td>\n      <td>57,694</td>\n      <td>Million</td>\n    </tr>\n    <tr>\n      <th>4</th>\n      <td>CVS HEALTH CORPORATION</td>\n      <td>Healthcare</td>\n      <td>89.399</td>\n      <td>Billion</td>\n      <td>156,776</td>\n      <td>Million</td>\n      <td>None</td>\n      <td>None</td>\n      <td>156,776</td>\n      <td>Million</td>\n      <td>235,495</td>\n      <td>Million</td>\n      <td>167,473</td>\n      <td>Million</td>\n    </tr>\n    <tr>\n      <th>5</th>\n      <td>U.S. BANCORP</td>\n      <td>Financial Services</td>\n      <td>70.185</td>\n      <td>Billion</td>\n      <td>22,883</td>\n      <td>Million</td>\n      <td>None</td>\n      <td>None</td>\n      <td>22,883</td>\n      <td>Million</td>\n      <td>546,652</td>\n      <td>Million</td>\n      <td>494,802</td>\n      <td>Million</td>\n    </tr>\n    <tr>\n      <th>6</th>\n      <td>LOWE'S COMPANIES</td>\n      <td>Consumer Cyclical</td>\n      <td>117.61</td>\n      <td>Billion</td>\n      <td>89.59</td>\n      <td>Billion</td>\n      <td>9.64</td>\n      <td>Billion</td>\n      <td>89.59</td>\n      <td>Billion</td>\n      <td>46.73</td>\n      <td>Billion</td>\n      <td>45.29</td>\n      <td>Billion</td>\n    </tr>\n  </tbody>\n</table>\n</div>"
     },
     "metadata": {},
     "execution_count": 29
    }
   ],
   "source": [
    "df"
   ]
  },
  {
   "cell_type": "code",
   "execution_count": 27,
   "metadata": {},
   "outputs": [
    {
     "output_type": "execute_result",
     "data": {
      "text/plain": [
       "  Company Name Company Business Market Value Value Metric Annual Revenue  \\\n",
       "3      YOUTUBE     Social Media         None         None           None   \n",
       "\n",
       "  Revenue Metric Operating Income Op Income Metric Net Income  \\\n",
       "3           None             None             None       None   \n",
       "\n",
       "  Net Income Metric Assets Assets Metric Liabilities Liabilities Metric  \n",
       "3              None   None          None        None               None  "
      ],
      "text/html": "<div>\n<style scoped>\n    .dataframe tbody tr th:only-of-type {\n        vertical-align: middle;\n    }\n\n    .dataframe tbody tr th {\n        vertical-align: top;\n    }\n\n    .dataframe thead th {\n        text-align: right;\n    }\n</style>\n<table border=\"1\" class=\"dataframe\">\n  <thead>\n    <tr style=\"text-align: right;\">\n      <th></th>\n      <th>Company Name</th>\n      <th>Company Business</th>\n      <th>Market Value</th>\n      <th>Value Metric</th>\n      <th>Annual Revenue</th>\n      <th>Revenue Metric</th>\n      <th>Operating Income</th>\n      <th>Op Income Metric</th>\n      <th>Net Income</th>\n      <th>Net Income Metric</th>\n      <th>Assets</th>\n      <th>Assets Metric</th>\n      <th>Liabilities</th>\n      <th>Liabilities Metric</th>\n    </tr>\n  </thead>\n  <tbody>\n    <tr>\n      <th>3</th>\n      <td>YOUTUBE</td>\n      <td>Social Media</td>\n      <td>None</td>\n      <td>None</td>\n      <td>None</td>\n      <td>None</td>\n      <td>None</td>\n      <td>None</td>\n      <td>None</td>\n      <td>None</td>\n      <td>None</td>\n      <td>None</td>\n      <td>None</td>\n      <td>None</td>\n    </tr>\n  </tbody>\n</table>\n</div>"
     },
     "metadata": {},
     "execution_count": 27
    }
   ],
   "source": [
    "df[df[\"Company Name\"] == \"YOUTUBE\"]"
   ]
  },
  {
   "cell_type": "code",
   "execution_count": 19,
   "metadata": {},
   "outputs": [
    {
     "output_type": "execute_result",
     "data": {
      "text/plain": [
       "[]"
      ]
     },
     "metadata": {},
     "execution_count": 19
    }
   ],
   "source": [
    "info_blocks[3].select(\"div.field--name-field-market-value-jan012021 > div.field--item\")"
   ]
  },
  {
   "cell_type": "code",
   "execution_count": 6,
   "metadata": {},
   "outputs": [],
   "source": [
    "data = pd.read_csv(\"value_today.csv\")"
   ]
  },
  {
   "cell_type": "code",
   "execution_count": 7,
   "metadata": {},
   "outputs": [
    {
     "output_type": "execute_result",
     "data": {
      "text/plain": [
       "            Company Name        Company Business   Market Value  \\\n",
       "0                  APPLE              Technology  2256000000000   \n",
       "1  MICROSOFT CORPORATION              Technology  1682000000000   \n",
       "2               ALPHABET              Technology  1185000000000   \n",
       "3             AMAZON.COM               eCommerce  1634000000000   \n",
       "4               FACEBOOK  Communication Services   778040000000   \n",
       "5     BERKSHIRE HATHAWAY      Financial Services   543679999999   \n",
       "6  J P MORGAN CHASE & CO      Financial Services   387330000000   \n",
       "7                   VISA      Financial Services   482170000000   \n",
       "8      JOHNSON & JOHNSON              Healthcare   414310000000   \n",
       "9                WALMART                  Retail   407840000000   \n",
       "\n",
       "   Annual Revenue  Operating Income    Net Income         Assets  \\\n",
       "0    274510000000       66280000000  274510000000   317344000000   \n",
       "1    143000000000       52950000000  143000000000   301311000000   \n",
       "2    182520000000       41220000000  182520000000   299243000000   \n",
       "3    386060000000       22890000000  386060000000   110908000000   \n",
       "4     85960000000       32670000000   85960000000   139691000000   \n",
       "5    327220000000                 0  327220000000   829946000000   \n",
       "6    122900000000                 0  122900000000  3386000000000   \n",
       "7     21840000000       14090000000   21840000000    77884000000   \n",
       "8     82580000000       19730000000   82580000000   158380000000   \n",
       "9    523960000000       22540000000  523960000000   237382000000   \n",
       "\n",
       "     Liabilities  \n",
       "0   245062000000  \n",
       "1   183007000000  \n",
       "2    86320000000  \n",
       "3   184586000000  \n",
       "4    29244000000  \n",
       "5   410730000000  \n",
       "6  3106000000000  \n",
       "7    42360000000  \n",
       "8    95402000000  \n",
       "9   162072000000  "
      ],
      "text/html": "<div>\n<style scoped>\n    .dataframe tbody tr th:only-of-type {\n        vertical-align: middle;\n    }\n\n    .dataframe tbody tr th {\n        vertical-align: top;\n    }\n\n    .dataframe thead th {\n        text-align: right;\n    }\n</style>\n<table border=\"1\" class=\"dataframe\">\n  <thead>\n    <tr style=\"text-align: right;\">\n      <th></th>\n      <th>Company Name</th>\n      <th>Company Business</th>\n      <th>Market Value</th>\n      <th>Annual Revenue</th>\n      <th>Operating Income</th>\n      <th>Net Income</th>\n      <th>Assets</th>\n      <th>Liabilities</th>\n    </tr>\n  </thead>\n  <tbody>\n    <tr>\n      <th>0</th>\n      <td>APPLE</td>\n      <td>Technology</td>\n      <td>2256000000000</td>\n      <td>274510000000</td>\n      <td>66280000000</td>\n      <td>274510000000</td>\n      <td>317344000000</td>\n      <td>245062000000</td>\n    </tr>\n    <tr>\n      <th>1</th>\n      <td>MICROSOFT CORPORATION</td>\n      <td>Technology</td>\n      <td>1682000000000</td>\n      <td>143000000000</td>\n      <td>52950000000</td>\n      <td>143000000000</td>\n      <td>301311000000</td>\n      <td>183007000000</td>\n    </tr>\n    <tr>\n      <th>2</th>\n      <td>ALPHABET</td>\n      <td>Technology</td>\n      <td>1185000000000</td>\n      <td>182520000000</td>\n      <td>41220000000</td>\n      <td>182520000000</td>\n      <td>299243000000</td>\n      <td>86320000000</td>\n    </tr>\n    <tr>\n      <th>3</th>\n      <td>AMAZON.COM</td>\n      <td>eCommerce</td>\n      <td>1634000000000</td>\n      <td>386060000000</td>\n      <td>22890000000</td>\n      <td>386060000000</td>\n      <td>110908000000</td>\n      <td>184586000000</td>\n    </tr>\n    <tr>\n      <th>4</th>\n      <td>FACEBOOK</td>\n      <td>Communication Services</td>\n      <td>778040000000</td>\n      <td>85960000000</td>\n      <td>32670000000</td>\n      <td>85960000000</td>\n      <td>139691000000</td>\n      <td>29244000000</td>\n    </tr>\n    <tr>\n      <th>5</th>\n      <td>BERKSHIRE HATHAWAY</td>\n      <td>Financial Services</td>\n      <td>543679999999</td>\n      <td>327220000000</td>\n      <td>0</td>\n      <td>327220000000</td>\n      <td>829946000000</td>\n      <td>410730000000</td>\n    </tr>\n    <tr>\n      <th>6</th>\n      <td>J P MORGAN CHASE &amp; CO</td>\n      <td>Financial Services</td>\n      <td>387330000000</td>\n      <td>122900000000</td>\n      <td>0</td>\n      <td>122900000000</td>\n      <td>3386000000000</td>\n      <td>3106000000000</td>\n    </tr>\n    <tr>\n      <th>7</th>\n      <td>VISA</td>\n      <td>Financial Services</td>\n      <td>482170000000</td>\n      <td>21840000000</td>\n      <td>14090000000</td>\n      <td>21840000000</td>\n      <td>77884000000</td>\n      <td>42360000000</td>\n    </tr>\n    <tr>\n      <th>8</th>\n      <td>JOHNSON &amp; JOHNSON</td>\n      <td>Healthcare</td>\n      <td>414310000000</td>\n      <td>82580000000</td>\n      <td>19730000000</td>\n      <td>82580000000</td>\n      <td>158380000000</td>\n      <td>95402000000</td>\n    </tr>\n    <tr>\n      <th>9</th>\n      <td>WALMART</td>\n      <td>Retail</td>\n      <td>407840000000</td>\n      <td>523960000000</td>\n      <td>22540000000</td>\n      <td>523960000000</td>\n      <td>237382000000</td>\n      <td>162072000000</td>\n    </tr>\n  </tbody>\n</table>\n</div>"
     },
     "metadata": {},
     "execution_count": 7
    }
   ],
   "source": [
    "data"
   ]
  },
  {
   "cell_type": "code",
   "execution_count": 46,
   "metadata": {},
   "outputs": [],
   "source": [
    "string = \"METLIFE Total Assets as on June-2020 780,30 is Million USD\"\n",
    "value = re.findall(\"\\d+[.,]\\d+|\\b(?<!-)\\d+\\b\", string)[0]"
   ]
  },
  {
   "cell_type": "code",
   "execution_count": 47,
   "metadata": {},
   "outputs": [
    {
     "output_type": "execute_result",
     "data": {
      "text/plain": [
       "'780,30'"
      ]
     },
     "metadata": {},
     "execution_count": 47
    }
   ],
   "source": [
    "value.strip()"
   ]
  },
  {
   "cell_type": "code",
   "execution_count": null,
   "metadata": {},
   "outputs": [],
   "source": [
    "\"\\d+[.,]\\d+|\\s\\d+|^\\d+\""
   ]
  },
  {
   "cell_type": "code",
   "execution_count": null,
   "metadata": {},
   "outputs": [],
   "source": [
    "\"\\b(?<!-)\\d+\\b\" - \"negative lookbehind\""
   ]
  }
 ]
}