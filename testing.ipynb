{
 "metadata": {
  "language_info": {
   "codemirror_mode": {
    "name": "ipython",
    "version": 3
   },
   "file_extension": ".py",
   "mimetype": "text/x-python",
   "name": "python",
   "nbconvert_exporter": "python",
   "pygments_lexer": "ipython3",
   "version": "3.8.8"
  },
  "orig_nbformat": 2,
  "kernelspec": {
   "name": "python388jvsc74a57bd09c73145fe1f8ba769fdf9edcb512a81fe38bcab3cb253b8e7a65c7a64ff93c59",
   "display_name": "Python 3.8.8 64-bit ('base': conda)"
  }
 },
 "nbformat": 4,
 "nbformat_minor": 2,
 "cells": [
  {
   "cell_type": "code",
   "execution_count": 2,
   "metadata": {},
   "outputs": [],
   "source": [
    "from bs4 import BeautifulSoup\n",
    "import requests\n",
    "import pandas as pd\n",
    "from fake_useragent import UserAgent\n",
    "from time import sleep\n",
    "import re"
   ]
  },
  {
   "cell_type": "code",
   "execution_count": 3,
   "metadata": {},
   "outputs": [],
   "source": [
    "ua = UserAgent()\n",
    "header = {'User-Agent':str(ua.chrome)}\n",
    "\n",
    "url = \"https://www.value.today/headquarters/united-states-america-usa?page=0\"\n",
    "\n",
    "source = requests.get(url, headers=header)\n",
    "soup = BeautifulSoup(source.content, \"html.parser\")"
   ]
  },
  {
   "cell_type": "code",
   "execution_count": 349,
   "metadata": {},
   "outputs": [],
   "source": [
    "footer_text = soup.find(class_=\"view-footer\").text.strip()\n",
    "n_companies = int(re.findall(\"(\\d+)(?!.*\\d)\", footer_text)[0])"
   ]
  },
  {
   "cell_type": "code",
   "execution_count": 4,
   "metadata": {},
   "outputs": [],
   "source": [
    "info_blocks = soup.find_all(class_=\"node node--type-listed-companies node--view-mode-teaser ds-2col-stacked clearfix\")"
   ]
  },
  {
   "cell_type": "code",
   "execution_count": 165,
   "metadata": {},
   "outputs": [],
   "source": [
    "collected_names = []\n",
    "collected_businesses = []\n",
    "collected_values = []\n",
    "collected_values_metrics = []\n",
    "collected_revenues = []\n",
    "collected_revenues_metrics = []\n",
    "collected_op_incomes = []\n",
    "collected_op_incomes_metrics = []\n",
    "collected_net_incomes = []\n",
    "collected_net_incomes_metrics = []\n",
    "collected_assets = []\n",
    "collected_assets_metrics = []\n",
    "collected_liabilities = []\n",
    "collected_liabilities_metrics = []\n",
    "\n",
    "for item in info_blocks:\n",
    "\n",
    "    name = item.find(\"h2\").text.strip()\n",
    "    collected_names.append(name)\n",
    "\n",
    "    business = item.select(\"div.field--name-field-company-category-primary > div > div.field--item > a\")[0].text.strip()\n",
    "    collected_businesses.append(business)\n",
    "\n",
    "    value = item.select(\"div.field--name-field-market-value-jan012021 > div.field--item\")[0][\"content\"]\n",
    "    collected_values.append(value)\n",
    "\n",
    "    value_string = item.select(\"div.field--name-field-market-value-jan012021 > div.field--item\")[0].text.strip()\n",
    "    if \"Billion\" in value_string:\n",
    "        collected_values_metrics.append(\"Billion\")\n",
    "    elif \"Million\" in value_string:\n",
    "        collected_values_metrics.append(\"Million\")\n",
    "\n",
    "    revenue_string = item.select(\"div.field--name-field-annual-revenue > div.field--item\")[0].text.strip()\n",
    "    revenue = re.findall(\"\\d+[.,]\\d+\", revenue_string)\n",
    "    collected_revenues.append(revenue[0])\n",
    "\n",
    "    if \"Billion\" in revenue_string:\n",
    "        collected_revenues_metrics.append(\"Billion\")\n",
    "    elif \"Million\" in revenue_string:\n",
    "        collected_revenues_metrics.append(\"Million\")\n",
    "        \n",
    "    op_income_item = item.select(\"div.field--name-field-annual-operating-income > div.field--item\")\n",
    "    if len(op_income_item) == 0:\n",
    "        collected_op_incomes.append(None)\n",
    "    else:\n",
    "        op_income_string = op_income_item[0].text.strip()\n",
    "        op_income = re.findall(\"\\d+[.,]\\d+\", op_income_string)\n",
    "        collected_op_incomes.append(op_income[0])\n",
    "\n",
    "    if len(op_income_item) == 0:\n",
    "        collected_op_incomes_metrics.append(None)\n",
    "    elif \"Billion\" in op_income_string:\n",
    "        collected_op_incomes_metrics.append(\"Billion\")\n",
    "    elif \"Million\" in op_income_string:\n",
    "        collected_op_incomes_metrics.append(\"Million\")\n",
    "\n",
    "    net_income_string = item.select(\"div.field--name-field-annual-revenue > div.field--item\")[0].text.strip()\n",
    "    net_income = re.findall(\"\\d+[.,]\\d+\", net_income_string)\n",
    "    collected_net_incomes.append(net_income[0])\n",
    "\n",
    "    if \"Billion\" in net_income_string:\n",
    "        collected_net_incomes_metrics.append(\"Billion\")\n",
    "    elif \"Million\" in net_income_string:\n",
    "        collected_net_incomes_metrics.append(\"Million\")\n",
    "\n",
    "    assets_string = item.select(\"div.field--name-field-total-assets > div.field--item\")[0].text.strip()\n",
    "    assets = re.findall(\"\\d+[.,]\\d+\", assets_string)\n",
    "    collected_assets.append(assets[0])\n",
    "\n",
    "    if \"Billion\" in assets_string:\n",
    "        collected_assets_metrics.append(\"Billion\")\n",
    "    elif \"Million\" in assets_string:\n",
    "        collected_assets_metrics.append(\"Million\")\n",
    "\n",
    "    liabilities_string = item.select(\"div.field--name-field-total-liabilities- > div.field--item\")[0].text.strip()\n",
    "    liabilities = re.findall(\"\\d+[.,]\\d+\", liabilities_string)\n",
    "    collected_liabilities.append(liabilities[0])\n",
    "\n",
    "    if \"Billion\" in liabilities_string:\n",
    "        collected_liabilities_metrics.append(\"Billion\")\n",
    "    elif \"Million\" in liabilities_string:\n",
    "        collected_liabilities_metrics.append(\"Million\")\n",
    "\n",
    "df = pd.DataFrame({\"Company Name\": collected_names, \"Company Business\": collected_businesses, \"Market Value\": collected_values, \"Value Metric\": collected_values_metrics, \"Annual Revenue\": collected_revenues, \"Revenue Metric\": collected_revenues_metrics, \"Operating Income\": collected_op_incomes, \"Op Income Metric\": collected_op_incomes_metrics, \"Net Income\": collected_net_incomes, \"Net Income Metric\": collected_net_incomes_metrics, \"Assets\": collected_assets, \"Assets Metric\": collected_assets_metrics, \"Liabilities\": collected_liabilities, \"Liabilities Metric\": collected_liabilities_metrics})"
   ]
  },
  {
   "cell_type": "code",
   "execution_count": 166,
   "metadata": {},
   "outputs": [],
   "source": [
    "numeric_columns = [\"Market Value\", \"Annual Revenue\", \"Operating Income\", \"Net Income\", \"Assets\", \"Liabilities\"]\n",
    "\n",
    "df[numeric_columns] = df[numeric_columns].replace(\",\", \"\", regex=True)\n",
    "df[numeric_columns] = df[numeric_columns].apply(pd.to_numeric)"
   ]
  },
  {
   "cell_type": "code",
   "execution_count": 227,
   "metadata": {},
   "outputs": [],
   "source": [
    "final_df = df[[\"Company Name\", \"Company Business\"]]"
   ]
  },
  {
   "cell_type": "code",
   "execution_count": 232,
   "metadata": {},
   "outputs": [],
   "source": [
    "def change_num_values(number_column: str, metric_column: str) -> None:\n",
    "    final_df[number_column] = 0 \n",
    "    for count, row in enumerate(df[metric_column]):\n",
    "        if row == \"Million\":\n",
    "            final_df[number_column][count] = df[number_column][count] * 1000000\n",
    "        if row == \"Billion\":\n",
    "            final_df[number_column][count] = df[number_column][count] * 1000000000"
   ]
  },
  {
   "cell_type": "code",
   "execution_count": 233,
   "metadata": {},
   "outputs": [
    {
     "output_type": "stream",
     "name": "stderr",
     "text": [
      "<ipython-input-232-62b5ad016548>:2: SettingWithCopyWarning: \nA value is trying to be set on a copy of a slice from a DataFrame.\nTry using .loc[row_indexer,col_indexer] = value instead\n\nSee the caveats in the documentation: https://pandas.pydata.org/pandas-docs/stable/user_guide/indexing.html#returning-a-view-versus-a-copy\n  final_df[number_column] = 0\n<ipython-input-232-62b5ad016548>:7: SettingWithCopyWarning: \nA value is trying to be set on a copy of a slice from a DataFrame\n\nSee the caveats in the documentation: https://pandas.pydata.org/pandas-docs/stable/user_guide/indexing.html#returning-a-view-versus-a-copy\n  final_df[number_column][count] = df[number_column][count] * 1000000000\n<ipython-input-233-58167e90cae6>:1: SettingWithCopyWarning: \nA value is trying to be set on a copy of a slice from a DataFrame\n\nSee the caveats in the documentation: https://pandas.pydata.org/pandas-docs/stable/user_guide/indexing.html#returning-a-view-versus-a-copy\n  change_num_values(\"Market Value\", \"Value Metric\")\n<ipython-input-233-58167e90cae6>:2: SettingWithCopyWarning: \nA value is trying to be set on a copy of a slice from a DataFrame\n\nSee the caveats in the documentation: https://pandas.pydata.org/pandas-docs/stable/user_guide/indexing.html#returning-a-view-versus-a-copy\n  change_num_values(\"Annual Revenue\", \"Revenue Metric\")\n<ipython-input-233-58167e90cae6>:3: SettingWithCopyWarning: \nA value is trying to be set on a copy of a slice from a DataFrame\n\nSee the caveats in the documentation: https://pandas.pydata.org/pandas-docs/stable/user_guide/indexing.html#returning-a-view-versus-a-copy\n  change_num_values(\"Operating Income\", \"Op Income Metric\")\n<ipython-input-233-58167e90cae6>:4: SettingWithCopyWarning: \nA value is trying to be set on a copy of a slice from a DataFrame\n\nSee the caveats in the documentation: https://pandas.pydata.org/pandas-docs/stable/user_guide/indexing.html#returning-a-view-versus-a-copy\n  change_num_values(\"Net Income\", \"Net Income Metric\")\n<ipython-input-232-62b5ad016548>:5: SettingWithCopyWarning: \nA value is trying to be set on a copy of a slice from a DataFrame\n\nSee the caveats in the documentation: https://pandas.pydata.org/pandas-docs/stable/user_guide/indexing.html#returning-a-view-versus-a-copy\n  final_df[number_column][count] = df[number_column][count] * 1000000\n<ipython-input-233-58167e90cae6>:6: SettingWithCopyWarning: \nA value is trying to be set on a copy of a slice from a DataFrame\n\nSee the caveats in the documentation: https://pandas.pydata.org/pandas-docs/stable/user_guide/indexing.html#returning-a-view-versus-a-copy\n  change_num_values(\"Liabilities\", \"Liabilities Metric\")\n"
     ]
    }
   ],
   "source": [
    "change_num_values(\"Market Value\", \"Value Metric\")\n",
    "change_num_values(\"Annual Revenue\", \"Revenue Metric\")\n",
    "change_num_values(\"Operating Income\", \"Op Income Metric\")\n",
    "change_num_values(\"Net Income\", \"Net Income Metric\")\n",
    "change_num_values(\"Assets\", \"Assets Metric\")\n",
    "change_num_values(\"Liabilities\", \"Liabilities Metric\")"
   ]
  }
 ]
}