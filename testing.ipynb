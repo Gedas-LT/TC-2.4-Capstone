{
 "metadata": {
  "language_info": {
   "codemirror_mode": {
    "name": "ipython",
    "version": 3
   },
   "file_extension": ".py",
   "mimetype": "text/x-python",
   "name": "python",
   "nbconvert_exporter": "python",
   "pygments_lexer": "ipython3",
   "version": "3.8.8"
  },
  "orig_nbformat": 2,
  "kernelspec": {
   "name": "python388jvsc74a57bd09c73145fe1f8ba769fdf9edcb512a81fe38bcab3cb253b8e7a65c7a64ff93c59",
   "display_name": "Python 3.8.8 64-bit ('base': conda)"
  }
 },
 "nbformat": 4,
 "nbformat_minor": 2,
 "cells": [
  {
   "cell_type": "code",
   "execution_count": 11,
   "metadata": {},
   "outputs": [],
   "source": [
    "from scraper import number_companies, valuetoday_usa_scraper, df_cleaning"
   ]
  },
  {
   "cell_type": "code",
   "execution_count": 22,
   "metadata": {},
   "outputs": [],
   "source": [
    "dataframe = valuetoday_usa_scraper(60)\n",
    "final_df = df_cleaning(dataframe)"
   ]
  },
  {
   "cell_type": "code",
   "execution_count": 18,
   "metadata": {},
   "outputs": [
    {
     "output_type": "execute_result",
     "data": {
      "text/plain": [
       "                   Company Name                   Company Business  \\\n",
       "0                         APPLE                         Technology   \n",
       "1         MICROSOFT CORPORATION                         Technology   \n",
       "2                      ALPHABET                         Technology   \n",
       "3                    AMAZON.COM                          eCommerce   \n",
       "4                      FACEBOOK             Communication Services   \n",
       "5            BERKSHIRE HATHAWAY                 Financial Services   \n",
       "6         J P MORGAN CHASE & CO                 Financial Services   \n",
       "7                          VISA                 Financial Services   \n",
       "8             JOHNSON & JOHNSON                         Healthcare   \n",
       "9                       WALMART                             Retail   \n",
       "10  BANK OF AMERICA CORPORATION                 Financial Services   \n",
       "11     PROCTER & GAMBLE COMPANY                 Consumer Defensive   \n",
       "12                   MASTERCARD  Digital Payment Solution Services   \n",
       "13      EXXON MOBIL CORPORATION                             Energy   \n",
       "14                         AT&T                            Telecom   \n",
       "15           UNITEDHEALTH GROUP                         Healthcare   \n",
       "16      THE WALT DISNEY COMPANY             Communication Services   \n",
       "17            INTEL CORPORATION                         Technology   \n",
       "18       VERIZON COMMUNICATIONS             Communication Services   \n",
       "19                   HOME DEPOT                             Retail   \n",
       "20            COCA-COLA COMPANY                 Consumer Defensive   \n",
       "21              MERCK & COMPANY                         Healthcare   \n",
       "22          CHEVRON CORPORATION                             Energy   \n",
       "23        WELLS FARGO & COMPANY                 Financial Services   \n",
       "24                       PFIZER                         Healthcare   \n",
       "25          COMCAST CORPORATION             Communication Services   \n",
       "26                CISCO SYSTEMS                         Technology   \n",
       "27                      PEPSICO                 Consumer Defensive   \n",
       "28               BOEING COMPANY                         Industries   \n",
       "29                   CITI GROUP                 Financial Services   \n",
       "\n",
       "     Market Value  Annual Revenue  Operating Income    Net Income  \\\n",
       "0   2256000000000    274510000000       66280000000  274510000000   \n",
       "1   1682000000000    143000000000       52950000000  143000000000   \n",
       "2   1185000000000    182520000000       41220000000  182520000000   \n",
       "3   1634000000000    386060000000       22890000000  386060000000   \n",
       "4    778040000000     85960000000       32670000000   85960000000   \n",
       "5    543679999999    327220000000                 0  327220000000   \n",
       "6    387330000000    122900000000                 0  122900000000   \n",
       "7    482170000000     21840000000       14090000000   21840000000   \n",
       "8    414310000000     82580000000       19730000000   82580000000   \n",
       "9    407840000000    523960000000       22540000000  523960000000   \n",
       "10   262200000000     85530000000                 0   85530000000   \n",
       "11   345010000000     70950000000       15700000000   70950000000   \n",
       "12   355840000000     15300000000        8160000000   15300000000   \n",
       "13   174290000000    181500000000       28880000000  181500000000   \n",
       "14   204940000000    171760000000       25280000000  171760000000   \n",
       "15   332730000000    255630000000       20900000000  255630000000   \n",
       "16   328020000000     65388000000        3794000000   65388000000   \n",
       "17   204160000000     77860000000       23870000000   77860000000   \n",
       "18   243110000000    128289999999       28790000000  128289999999   \n",
       "19   285970000000    110220000000       15840000000  110220000000   \n",
       "20   235670000000     33009999999        9850000000   33009999999   \n",
       "21   206960000000     47990000000        8480000000   47990000000   \n",
       "22   162570000000     94470000000                 0   94470000000   \n",
       "23   124780000000     72340000000         581000000   72340000000   \n",
       "24   204600000000     41910000000        8760000000   41910000000   \n",
       "25   239750000000    103560000000       17490000000  103560000000   \n",
       "26   189090000000     49300000000       14100000000   49300000000   \n",
       "27   204940000000     70370000000       10080000000   70370000000   \n",
       "28   120840000000     58160000000       12970000000   58160000000   \n",
       "29   128380000000     74290000000                 0   74290000000   \n",
       "\n",
       "           Assets    Liabilities  \n",
       "0    317344000000   245062000000  \n",
       "1    301311000000   183007000000  \n",
       "2    299243000000    86320000000  \n",
       "3    110908000000   184586000000  \n",
       "4    139691000000    29244000000  \n",
       "5    829946000000   410730000000  \n",
       "6   3386000000000  3106000000000  \n",
       "7     77884000000    42360000000  \n",
       "8    158380000000    95402000000  \n",
       "9    237382000000   162072000000  \n",
       "10     2741000000     2476000000  \n",
       "11   120700000000    74179000000  \n",
       "12    32127000000    25607000000  \n",
       "13   361495000000   181312000000  \n",
       "14   547898000000   372002000000  \n",
       "15   192483000000   127017000000  \n",
       "16   201549000000   113286000000  \n",
       "17   152539000000    70529000000  \n",
       "18   293259000000   229146000000  \n",
       "19    63349000000    63763000000  \n",
       "20    94689000000    77205000000  \n",
       "21    89800000000    56815000000  \n",
       "22   223403000000    89285000000  \n",
       "23  1955000000000  1769000000000  \n",
       "24   177934000000   113598000000  \n",
       "25   273860000000   182130000000  \n",
       "26    94853000000    56933000000  \n",
       "27    92041000000    78558000000  \n",
       "28   162872000000   174539000000  \n",
       "29     2232000000     2041000000  "
      ],
      "text/html": "<div>\n<style scoped>\n    .dataframe tbody tr th:only-of-type {\n        vertical-align: middle;\n    }\n\n    .dataframe tbody tr th {\n        vertical-align: top;\n    }\n\n    .dataframe thead th {\n        text-align: right;\n    }\n</style>\n<table border=\"1\" class=\"dataframe\">\n  <thead>\n    <tr style=\"text-align: right;\">\n      <th></th>\n      <th>Company Name</th>\n      <th>Company Business</th>\n      <th>Market Value</th>\n      <th>Annual Revenue</th>\n      <th>Operating Income</th>\n      <th>Net Income</th>\n      <th>Assets</th>\n      <th>Liabilities</th>\n    </tr>\n  </thead>\n  <tbody>\n    <tr>\n      <th>0</th>\n      <td>APPLE</td>\n      <td>Technology</td>\n      <td>2256000000000</td>\n      <td>274510000000</td>\n      <td>66280000000</td>\n      <td>274510000000</td>\n      <td>317344000000</td>\n      <td>245062000000</td>\n    </tr>\n    <tr>\n      <th>1</th>\n      <td>MICROSOFT CORPORATION</td>\n      <td>Technology</td>\n      <td>1682000000000</td>\n      <td>143000000000</td>\n      <td>52950000000</td>\n      <td>143000000000</td>\n      <td>301311000000</td>\n      <td>183007000000</td>\n    </tr>\n    <tr>\n      <th>2</th>\n      <td>ALPHABET</td>\n      <td>Technology</td>\n      <td>1185000000000</td>\n      <td>182520000000</td>\n      <td>41220000000</td>\n      <td>182520000000</td>\n      <td>299243000000</td>\n      <td>86320000000</td>\n    </tr>\n    <tr>\n      <th>3</th>\n      <td>AMAZON.COM</td>\n      <td>eCommerce</td>\n      <td>1634000000000</td>\n      <td>386060000000</td>\n      <td>22890000000</td>\n      <td>386060000000</td>\n      <td>110908000000</td>\n      <td>184586000000</td>\n    </tr>\n    <tr>\n      <th>4</th>\n      <td>FACEBOOK</td>\n      <td>Communication Services</td>\n      <td>778040000000</td>\n      <td>85960000000</td>\n      <td>32670000000</td>\n      <td>85960000000</td>\n      <td>139691000000</td>\n      <td>29244000000</td>\n    </tr>\n    <tr>\n      <th>5</th>\n      <td>BERKSHIRE HATHAWAY</td>\n      <td>Financial Services</td>\n      <td>543679999999</td>\n      <td>327220000000</td>\n      <td>0</td>\n      <td>327220000000</td>\n      <td>829946000000</td>\n      <td>410730000000</td>\n    </tr>\n    <tr>\n      <th>6</th>\n      <td>J P MORGAN CHASE &amp; CO</td>\n      <td>Financial Services</td>\n      <td>387330000000</td>\n      <td>122900000000</td>\n      <td>0</td>\n      <td>122900000000</td>\n      <td>3386000000000</td>\n      <td>3106000000000</td>\n    </tr>\n    <tr>\n      <th>7</th>\n      <td>VISA</td>\n      <td>Financial Services</td>\n      <td>482170000000</td>\n      <td>21840000000</td>\n      <td>14090000000</td>\n      <td>21840000000</td>\n      <td>77884000000</td>\n      <td>42360000000</td>\n    </tr>\n    <tr>\n      <th>8</th>\n      <td>JOHNSON &amp; JOHNSON</td>\n      <td>Healthcare</td>\n      <td>414310000000</td>\n      <td>82580000000</td>\n      <td>19730000000</td>\n      <td>82580000000</td>\n      <td>158380000000</td>\n      <td>95402000000</td>\n    </tr>\n    <tr>\n      <th>9</th>\n      <td>WALMART</td>\n      <td>Retail</td>\n      <td>407840000000</td>\n      <td>523960000000</td>\n      <td>22540000000</td>\n      <td>523960000000</td>\n      <td>237382000000</td>\n      <td>162072000000</td>\n    </tr>\n    <tr>\n      <th>10</th>\n      <td>BANK OF AMERICA CORPORATION</td>\n      <td>Financial Services</td>\n      <td>262200000000</td>\n      <td>85530000000</td>\n      <td>0</td>\n      <td>85530000000</td>\n      <td>2741000000</td>\n      <td>2476000000</td>\n    </tr>\n    <tr>\n      <th>11</th>\n      <td>PROCTER &amp; GAMBLE COMPANY</td>\n      <td>Consumer Defensive</td>\n      <td>345010000000</td>\n      <td>70950000000</td>\n      <td>15700000000</td>\n      <td>70950000000</td>\n      <td>120700000000</td>\n      <td>74179000000</td>\n    </tr>\n    <tr>\n      <th>12</th>\n      <td>MASTERCARD</td>\n      <td>Digital Payment Solution Services</td>\n      <td>355840000000</td>\n      <td>15300000000</td>\n      <td>8160000000</td>\n      <td>15300000000</td>\n      <td>32127000000</td>\n      <td>25607000000</td>\n    </tr>\n    <tr>\n      <th>13</th>\n      <td>EXXON MOBIL CORPORATION</td>\n      <td>Energy</td>\n      <td>174290000000</td>\n      <td>181500000000</td>\n      <td>28880000000</td>\n      <td>181500000000</td>\n      <td>361495000000</td>\n      <td>181312000000</td>\n    </tr>\n    <tr>\n      <th>14</th>\n      <td>AT&amp;T</td>\n      <td>Telecom</td>\n      <td>204940000000</td>\n      <td>171760000000</td>\n      <td>25280000000</td>\n      <td>171760000000</td>\n      <td>547898000000</td>\n      <td>372002000000</td>\n    </tr>\n    <tr>\n      <th>15</th>\n      <td>UNITEDHEALTH GROUP</td>\n      <td>Healthcare</td>\n      <td>332730000000</td>\n      <td>255630000000</td>\n      <td>20900000000</td>\n      <td>255630000000</td>\n      <td>192483000000</td>\n      <td>127017000000</td>\n    </tr>\n    <tr>\n      <th>16</th>\n      <td>THE WALT DISNEY COMPANY</td>\n      <td>Communication Services</td>\n      <td>328020000000</td>\n      <td>65388000000</td>\n      <td>3794000000</td>\n      <td>65388000000</td>\n      <td>201549000000</td>\n      <td>113286000000</td>\n    </tr>\n    <tr>\n      <th>17</th>\n      <td>INTEL CORPORATION</td>\n      <td>Technology</td>\n      <td>204160000000</td>\n      <td>77860000000</td>\n      <td>23870000000</td>\n      <td>77860000000</td>\n      <td>152539000000</td>\n      <td>70529000000</td>\n    </tr>\n    <tr>\n      <th>18</th>\n      <td>VERIZON COMMUNICATIONS</td>\n      <td>Communication Services</td>\n      <td>243110000000</td>\n      <td>128289999999</td>\n      <td>28790000000</td>\n      <td>128289999999</td>\n      <td>293259000000</td>\n      <td>229146000000</td>\n    </tr>\n    <tr>\n      <th>19</th>\n      <td>HOME DEPOT</td>\n      <td>Retail</td>\n      <td>285970000000</td>\n      <td>110220000000</td>\n      <td>15840000000</td>\n      <td>110220000000</td>\n      <td>63349000000</td>\n      <td>63763000000</td>\n    </tr>\n    <tr>\n      <th>20</th>\n      <td>COCA-COLA COMPANY</td>\n      <td>Consumer Defensive</td>\n      <td>235670000000</td>\n      <td>33009999999</td>\n      <td>9850000000</td>\n      <td>33009999999</td>\n      <td>94689000000</td>\n      <td>77205000000</td>\n    </tr>\n    <tr>\n      <th>21</th>\n      <td>MERCK &amp; COMPANY</td>\n      <td>Healthcare</td>\n      <td>206960000000</td>\n      <td>47990000000</td>\n      <td>8480000000</td>\n      <td>47990000000</td>\n      <td>89800000000</td>\n      <td>56815000000</td>\n    </tr>\n    <tr>\n      <th>22</th>\n      <td>CHEVRON CORPORATION</td>\n      <td>Energy</td>\n      <td>162570000000</td>\n      <td>94470000000</td>\n      <td>0</td>\n      <td>94470000000</td>\n      <td>223403000000</td>\n      <td>89285000000</td>\n    </tr>\n    <tr>\n      <th>23</th>\n      <td>WELLS FARGO &amp; COMPANY</td>\n      <td>Financial Services</td>\n      <td>124780000000</td>\n      <td>72340000000</td>\n      <td>581000000</td>\n      <td>72340000000</td>\n      <td>1955000000000</td>\n      <td>1769000000000</td>\n    </tr>\n    <tr>\n      <th>24</th>\n      <td>PFIZER</td>\n      <td>Healthcare</td>\n      <td>204600000000</td>\n      <td>41910000000</td>\n      <td>8760000000</td>\n      <td>41910000000</td>\n      <td>177934000000</td>\n      <td>113598000000</td>\n    </tr>\n    <tr>\n      <th>25</th>\n      <td>COMCAST CORPORATION</td>\n      <td>Communication Services</td>\n      <td>239750000000</td>\n      <td>103560000000</td>\n      <td>17490000000</td>\n      <td>103560000000</td>\n      <td>273860000000</td>\n      <td>182130000000</td>\n    </tr>\n    <tr>\n      <th>26</th>\n      <td>CISCO SYSTEMS</td>\n      <td>Technology</td>\n      <td>189090000000</td>\n      <td>49300000000</td>\n      <td>14100000000</td>\n      <td>49300000000</td>\n      <td>94853000000</td>\n      <td>56933000000</td>\n    </tr>\n    <tr>\n      <th>27</th>\n      <td>PEPSICO</td>\n      <td>Consumer Defensive</td>\n      <td>204940000000</td>\n      <td>70370000000</td>\n      <td>10080000000</td>\n      <td>70370000000</td>\n      <td>92041000000</td>\n      <td>78558000000</td>\n    </tr>\n    <tr>\n      <th>28</th>\n      <td>BOEING COMPANY</td>\n      <td>Industries</td>\n      <td>120840000000</td>\n      <td>58160000000</td>\n      <td>12970000000</td>\n      <td>58160000000</td>\n      <td>162872000000</td>\n      <td>174539000000</td>\n    </tr>\n    <tr>\n      <th>29</th>\n      <td>CITI GROUP</td>\n      <td>Financial Services</td>\n      <td>128380000000</td>\n      <td>74290000000</td>\n      <td>0</td>\n      <td>74290000000</td>\n      <td>2232000000</td>\n      <td>2041000000</td>\n    </tr>\n  </tbody>\n</table>\n</div>"
     },
     "metadata": {},
     "execution_count": 18
    }
   ],
   "source": [
    "final_df"
   ]
  },
  {
   "cell_type": "code",
   "execution_count": 1,
   "metadata": {},
   "outputs": [],
   "source": [
    "import requests\n",
    "import re\n",
    "import pandas as pd\n",
    "import warnings\n",
    "from bs4 import BeautifulSoup\n",
    "from fake_useragent import UserAgent"
   ]
  },
  {
   "cell_type": "code",
   "execution_count": 16,
   "metadata": {},
   "outputs": [],
   "source": [
    "ua = UserAgent()\n",
    "header = {'User-Agent':str(ua.chrome)}\n",
    "url = \"https://www.value.today/headquarters/united-states-america-usa?page=0\"\n",
    "\n",
    "source = requests.get(url, headers=header)\n",
    "soup = BeautifulSoup(source.content, \"html.parser\")\n",
    "\n",
    "# Create a list of divs with all required information.\n",
    "info_blocks = soup.find_all(\"div\", class_=\"node node--type-listed-companies node--view-mode-teaser ds-2col-stacked clearfix\")\n",
    "\n",
    "collected_names = []\n",
    "collected_businesses = []\n",
    "collected_values = []\n",
    "collected_values_metrics = []\n",
    "collected_revenues = []\n",
    "collected_revenues_metrics = []\n",
    "collected_op_incomes = []\n",
    "collected_op_incomes_metrics = []\n",
    "collected_net_incomes = []\n",
    "collected_net_incomes_metrics = []\n",
    "collected_assets = []\n",
    "collected_assets_metrics = []\n",
    "collected_liabilities = []\n",
    "collected_liabilities_metrics = []\n",
    "\n",
    "for item in info_blocks:\n",
    "\n",
    "    def collect_values(item, collected_list):\n",
    "        if len(item) == 0:\n",
    "            collected_list.append(None)\n",
    "        else:\n",
    "            string = item[0].text.strip() \n",
    "            value = re.findall(\"\\d+[.,]\\d+|^\\d+\", string)\n",
    "            collected_list.append(value[0])\n",
    "\n",
    "\n",
    "    def collect_metrics(item, collected_list):\n",
    "        if len(item) == 0:\n",
    "            collected_list.append(None)\n",
    "        else:\n",
    "            string = item[0].text.strip()\n",
    "            if \"Billion\" in string:\n",
    "                collected_list.append(\"Billion\")\n",
    "            if \"Million\" in string:\n",
    "                collected_list.append(\"Million\")\n",
    "\n",
    "    name = item.find(\"h2\").text.strip()\n",
    "    collected_names.append(name)\n",
    "\n",
    "    business = item.select(\"div.field--name-field-company-category-primary > div > div.field--item > a\")[0].text.strip()\n",
    "    collected_businesses.append(business)\n",
    "\n",
    "    market_value = item.select(\"div.field--name-field-market-value-jan012021 > div.field--item\")[0][\"content\"]\n",
    "    collected_values.append(market_value)\n",
    "\n",
    "    market_value_item = item.select(\"div.field--name-field-market-value-jan012021 > div.field--item\")\n",
    "    collect_metrics(market_value_item, collected_values_metrics)\n",
    "\n",
    "    revenue_item = item.select(\"div.field--name-field-annual-revenue > div.field--item\")\n",
    "    collect_values(revenue_item, collected_revenues)\n",
    "    collect_metrics(revenue_item, collected_revenues_metrics)\n",
    "\n",
    "    op_income_item = item.select(\"div.field--name-field-annual-operating-income > div.field--item\")\n",
    "    collect_values(op_income_item, collected_op_incomes)\n",
    "    collect_metrics(op_income_item, collected_op_incomes_metrics)\n",
    "\n",
    "    net_income_item = item.select(\"div.field--name-field-annual-revenue > div.field--item\")\n",
    "    collect_values(net_income_item, collected_net_incomes)\n",
    "    collect_metrics(net_income_item, collected_net_incomes_metrics)\n",
    "\n",
    "    assets_item = item.select(\"div.field--name-field-total-assets > div.field--item\")\n",
    "    collect_values(assets_item, collected_assets)\n",
    "    collect_metrics(assets_item, collected_assets_metrics)\n",
    "\n",
    "    liabilities_item = item.select(\"div.field--name-field-total-liabilities- > div.field--item\")\n",
    "    collect_values(liabilities_item, collected_liabilities)\n",
    "    collect_metrics(liabilities_item, collected_liabilities_metrics)\n",
    "\n",
    "    df = pd.DataFrame({\"Company Name\": collected_names, \"Company Business\": collected_businesses, \"Market Value\": collected_values, \n",
    "                        \"Value Metric\": collected_values_metrics, \"Annual Revenue\": collected_revenues, \n",
    "                        \"Revenue Metric\": collected_revenues_metrics, \"Operating Income\": collected_op_incomes, \n",
    "                        \"Op Income Metric\": collected_op_incomes_metrics, \"Net Income\": collected_net_incomes, \n",
    "                        \"Net Income Metric\": collected_net_incomes_metrics, \"Assets\": collected_assets, \n",
    "                        \"Assets Metric\": collected_assets_metrics, \"Liabilities\": collected_liabilities, \n",
    "                        \"Liabilities Metric\": collected_liabilities_metrics})"
   ]
  },
  {
   "cell_type": "code",
   "execution_count": 17,
   "metadata": {},
   "outputs": [
    {
     "output_type": "execute_result",
     "data": {
      "text/plain": [
       "            Company Name        Company Business Market Value Value Metric  \\\n",
       "0                  APPLE              Technology         2256      Billion   \n",
       "1  MICROSOFT CORPORATION              Technology         1682      Billion   \n",
       "2               ALPHABET              Technology         1185      Billion   \n",
       "3             AMAZON.COM               eCommerce         1634      Billion   \n",
       "4               FACEBOOK  Communication Services       778.04      Billion   \n",
       "5     BERKSHIRE HATHAWAY      Financial Services       543.68      Billion   \n",
       "6  J P MORGAN CHASE & CO      Financial Services       387.33      Billion   \n",
       "7                   VISA      Financial Services       482.17      Billion   \n",
       "8      JOHNSON & JOHNSON              Healthcare       414.31      Billion   \n",
       "9                WALMART                  Retail       407.84      Billion   \n",
       "\n",
       "  Annual Revenue Revenue Metric Operating Income Op Income Metric Net Income  \\\n",
       "0         274.51        Billion            66.28          Billion     274.51   \n",
       "1         143.00        Billion            52.95          Billion     143.00   \n",
       "2         182.52        Billion            41.22          Billion     182.52   \n",
       "3         386.06        Billion            22.89          Billion     386.06   \n",
       "4          85.96        Billion            32.67          Billion      85.96   \n",
       "5         327.22        Billion             None             None     327.22   \n",
       "6         122.90        Billion             None             None     122.90   \n",
       "7          21.84        Billion            14.09          Billion      21.84   \n",
       "8          82.58        Billion            19.73          Billion      82.58   \n",
       "9         523.96        Billion            22.54          Billion     523.96   \n",
       "\n",
       "  Net Income Metric   Assets Assets Metric Liabilities Liabilities Metric  \n",
       "0           Billion  317,344       Million     245,062            Million  \n",
       "1           Billion  301,311       Million     183,007            Million  \n",
       "2           Billion  299.243       Billion       86.32            Billion  \n",
       "3           Billion  110,908       Million     184,586            Million  \n",
       "4           Billion  139,691       Million      29,244            Million  \n",
       "5           Billion  829.946       Billion      410.73            Billion  \n",
       "6           Billion    3,386       Billion       3,106            Billion  \n",
       "7           Billion   77,884       Million      42,360            Million  \n",
       "8           Billion  158,380       Million      95,402            Million  \n",
       "9           Billion  237,382       Million     162,072            Million  "
      ],
      "text/html": "<div>\n<style scoped>\n    .dataframe tbody tr th:only-of-type {\n        vertical-align: middle;\n    }\n\n    .dataframe tbody tr th {\n        vertical-align: top;\n    }\n\n    .dataframe thead th {\n        text-align: right;\n    }\n</style>\n<table border=\"1\" class=\"dataframe\">\n  <thead>\n    <tr style=\"text-align: right;\">\n      <th></th>\n      <th>Company Name</th>\n      <th>Company Business</th>\n      <th>Market Value</th>\n      <th>Value Metric</th>\n      <th>Annual Revenue</th>\n      <th>Revenue Metric</th>\n      <th>Operating Income</th>\n      <th>Op Income Metric</th>\n      <th>Net Income</th>\n      <th>Net Income Metric</th>\n      <th>Assets</th>\n      <th>Assets Metric</th>\n      <th>Liabilities</th>\n      <th>Liabilities Metric</th>\n    </tr>\n  </thead>\n  <tbody>\n    <tr>\n      <th>0</th>\n      <td>APPLE</td>\n      <td>Technology</td>\n      <td>2256</td>\n      <td>Billion</td>\n      <td>274.51</td>\n      <td>Billion</td>\n      <td>66.28</td>\n      <td>Billion</td>\n      <td>274.51</td>\n      <td>Billion</td>\n      <td>317,344</td>\n      <td>Million</td>\n      <td>245,062</td>\n      <td>Million</td>\n    </tr>\n    <tr>\n      <th>1</th>\n      <td>MICROSOFT CORPORATION</td>\n      <td>Technology</td>\n      <td>1682</td>\n      <td>Billion</td>\n      <td>143.00</td>\n      <td>Billion</td>\n      <td>52.95</td>\n      <td>Billion</td>\n      <td>143.00</td>\n      <td>Billion</td>\n      <td>301,311</td>\n      <td>Million</td>\n      <td>183,007</td>\n      <td>Million</td>\n    </tr>\n    <tr>\n      <th>2</th>\n      <td>ALPHABET</td>\n      <td>Technology</td>\n      <td>1185</td>\n      <td>Billion</td>\n      <td>182.52</td>\n      <td>Billion</td>\n      <td>41.22</td>\n      <td>Billion</td>\n      <td>182.52</td>\n      <td>Billion</td>\n      <td>299.243</td>\n      <td>Billion</td>\n      <td>86.32</td>\n      <td>Billion</td>\n    </tr>\n    <tr>\n      <th>3</th>\n      <td>AMAZON.COM</td>\n      <td>eCommerce</td>\n      <td>1634</td>\n      <td>Billion</td>\n      <td>386.06</td>\n      <td>Billion</td>\n      <td>22.89</td>\n      <td>Billion</td>\n      <td>386.06</td>\n      <td>Billion</td>\n      <td>110,908</td>\n      <td>Million</td>\n      <td>184,586</td>\n      <td>Million</td>\n    </tr>\n    <tr>\n      <th>4</th>\n      <td>FACEBOOK</td>\n      <td>Communication Services</td>\n      <td>778.04</td>\n      <td>Billion</td>\n      <td>85.96</td>\n      <td>Billion</td>\n      <td>32.67</td>\n      <td>Billion</td>\n      <td>85.96</td>\n      <td>Billion</td>\n      <td>139,691</td>\n      <td>Million</td>\n      <td>29,244</td>\n      <td>Million</td>\n    </tr>\n    <tr>\n      <th>5</th>\n      <td>BERKSHIRE HATHAWAY</td>\n      <td>Financial Services</td>\n      <td>543.68</td>\n      <td>Billion</td>\n      <td>327.22</td>\n      <td>Billion</td>\n      <td>None</td>\n      <td>None</td>\n      <td>327.22</td>\n      <td>Billion</td>\n      <td>829.946</td>\n      <td>Billion</td>\n      <td>410.73</td>\n      <td>Billion</td>\n    </tr>\n    <tr>\n      <th>6</th>\n      <td>J P MORGAN CHASE &amp; CO</td>\n      <td>Financial Services</td>\n      <td>387.33</td>\n      <td>Billion</td>\n      <td>122.90</td>\n      <td>Billion</td>\n      <td>None</td>\n      <td>None</td>\n      <td>122.90</td>\n      <td>Billion</td>\n      <td>3,386</td>\n      <td>Billion</td>\n      <td>3,106</td>\n      <td>Billion</td>\n    </tr>\n    <tr>\n      <th>7</th>\n      <td>VISA</td>\n      <td>Financial Services</td>\n      <td>482.17</td>\n      <td>Billion</td>\n      <td>21.84</td>\n      <td>Billion</td>\n      <td>14.09</td>\n      <td>Billion</td>\n      <td>21.84</td>\n      <td>Billion</td>\n      <td>77,884</td>\n      <td>Million</td>\n      <td>42,360</td>\n      <td>Million</td>\n    </tr>\n    <tr>\n      <th>8</th>\n      <td>JOHNSON &amp; JOHNSON</td>\n      <td>Healthcare</td>\n      <td>414.31</td>\n      <td>Billion</td>\n      <td>82.58</td>\n      <td>Billion</td>\n      <td>19.73</td>\n      <td>Billion</td>\n      <td>82.58</td>\n      <td>Billion</td>\n      <td>158,380</td>\n      <td>Million</td>\n      <td>95,402</td>\n      <td>Million</td>\n    </tr>\n    <tr>\n      <th>9</th>\n      <td>WALMART</td>\n      <td>Retail</td>\n      <td>407.84</td>\n      <td>Billion</td>\n      <td>523.96</td>\n      <td>Billion</td>\n      <td>22.54</td>\n      <td>Billion</td>\n      <td>523.96</td>\n      <td>Billion</td>\n      <td>237,382</td>\n      <td>Million</td>\n      <td>162,072</td>\n      <td>Million</td>\n    </tr>\n  </tbody>\n</table>\n</div>"
     },
     "metadata": {},
     "execution_count": 17
    }
   ],
   "source": [
    "df"
   ]
  },
  {
   "cell_type": "code",
   "execution_count": 9,
   "metadata": {},
   "outputs": [],
   "source": [
    "number = info_blocks[1].select(\"div.field--name-field-annual-operating-income > div.field--item\")[0].text"
   ]
  },
  {
   "cell_type": "code",
   "execution_count": 10,
   "metadata": {},
   "outputs": [
    {
     "output_type": "execute_result",
     "data": {
      "text/plain": [
       "'8.48 Billion USD for Year ending December-2020'"
      ]
     },
     "metadata": {},
     "execution_count": 10
    }
   ],
   "source": [
    "number"
   ]
  },
  {
   "cell_type": "code",
   "execution_count": 11,
   "metadata": {},
   "outputs": [],
   "source": [
    "def collect_metrics(item, collected_list):\n",
    "    if len(item) == 0:\n",
    "        collected_list.append(None)\n",
    "    else:\n",
    "        string = item[0].text.strip()\n",
    "    if \"Billion\" in string:\n",
    "        collected_list.append(\"Billion\")\n",
    "    if \"Million\" in string:\n",
    "        collected_list.append(\"Million\")\n",
    "\n",
    "op_income_item = item.select(\"div.field--name-field-annual-operating-income > div.field--item\")\n",
    "op_income_string = op_income_item[0].text.strip()\n",
    "\n"
   ]
  },
  {
   "cell_type": "code",
   "execution_count": 28,
   "metadata": {},
   "outputs": [],
   "source": [
    "op_income_item = item.select(\"div.field--name-field-annual-operating-income > div.field--item\")\n",
    "if len(op_income_item) == 0:\n",
    "    collected_op_incomes.append(None)\n",
    "else:\n",
    "    op_income_string = op_income_item[0].text.strip()\n",
    "    op_income = re.findall(\"\\d+[.,]\\d+\", op_income_string)\n",
    "    collected_op_incomes.append(op_income[0])\n",
    "\n",
    "if len(op_income_item) == 0:\n",
    "    collected_op_incomes_metrics.append(None)\n",
    "elif \"Billion\" in op_income_string:\n",
    "    collected_op_incomes_metrics.append(\"Billion\")\n",
    "elif \"Million\" in op_income_string:\n",
    "    collected_op_incomes_metrics.append(\"Million\")"
   ]
  },
  {
   "cell_type": "code",
   "execution_count": 29,
   "metadata": {},
   "outputs": [
    {
     "output_type": "execute_result",
     "data": {
      "text/plain": [
       "['Billion',\n",
       " 'Billion',\n",
       " 'Billion',\n",
       " 'Billion',\n",
       " 'Billion',\n",
       " None,\n",
       " None,\n",
       " 'Billion',\n",
       " 'Billion',\n",
       " 'Billion',\n",
       " 'Billion']"
      ]
     },
     "metadata": {},
     "execution_count": 29
    }
   ],
   "source": [
    "collected_op_incomes_metrics"
   ]
  },
  {
   "cell_type": "code",
   "execution_count": 31,
   "metadata": {},
   "outputs": [
    {
     "output_type": "execute_result",
     "data": {
      "text/plain": [
       "['66.28',\n",
       " '52.95',\n",
       " '41.22',\n",
       " '22.89',\n",
       " '32.67',\n",
       " None,\n",
       " None,\n",
       " '14.09',\n",
       " '19.73',\n",
       " '22.54',\n",
       " '22.54',\n",
       " '22.54']"
      ]
     },
     "metadata": {},
     "execution_count": 31
    }
   ],
   "source": [
    "collected_op_incomes"
   ]
  }
 ]
}