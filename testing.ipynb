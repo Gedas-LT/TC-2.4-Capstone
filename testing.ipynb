{
 "metadata": {
  "language_info": {
   "codemirror_mode": {
    "name": "ipython",
    "version": 3
   },
   "file_extension": ".py",
   "mimetype": "text/x-python",
   "name": "python",
   "nbconvert_exporter": "python",
   "pygments_lexer": "ipython3",
   "version": "3.8.8"
  },
  "orig_nbformat": 2,
  "kernelspec": {
   "name": "python388jvsc74a57bd09c73145fe1f8ba769fdf9edcb512a81fe38bcab3cb253b8e7a65c7a64ff93c59",
   "display_name": "Python 3.8.8 64-bit ('base': conda)"
  }
 },
 "nbformat": 4,
 "nbformat_minor": 2,
 "cells": [
  {
   "cell_type": "code",
   "execution_count": 1,
   "metadata": {},
   "outputs": [],
   "source": [
    "from scraper import number_companies, valuetoday_usa_scraper, df_cleaning, save_csv"
   ]
  },
  {
   "cell_type": "code",
   "execution_count": 2,
   "metadata": {},
   "outputs": [
    {
     "output_type": "execute_result",
     "data": {
      "text/plain": [
       "5083"
      ]
     },
     "metadata": {},
     "execution_count": 2
    }
   ],
   "source": [
    "number_companies()"
   ]
  },
  {
   "cell_type": "code",
   "execution_count": 8,
   "metadata": {},
   "outputs": [
    {
     "output_type": "error",
     "ename": "IndexError",
     "evalue": "list index out of range",
     "traceback": [
      "\u001b[1;31m---------------------------------------------------------------------------\u001b[0m",
      "\u001b[1;31mIndexError\u001b[0m                                Traceback (most recent call last)",
      "\u001b[1;32m<ipython-input-8-160060fbef93>\u001b[0m in \u001b[0;36m<module>\u001b[1;34m\u001b[0m\n\u001b[1;32m----> 1\u001b[1;33m \u001b[0mdataframe\u001b[0m \u001b[1;33m=\u001b[0m \u001b[0mvaluetoday_usa_scraper\u001b[0m\u001b[1;33m(\u001b[0m\u001b[1;36m5083\u001b[0m\u001b[1;33m)\u001b[0m\u001b[1;33m\u001b[0m\u001b[1;33m\u001b[0m\u001b[0m\n\u001b[0m\u001b[0;32m      2\u001b[0m \u001b[0mfinal_df\u001b[0m \u001b[1;33m=\u001b[0m \u001b[0mdf_cleaning\u001b[0m\u001b[1;33m(\u001b[0m\u001b[0mdataframe\u001b[0m\u001b[1;33m)\u001b[0m\u001b[1;33m\u001b[0m\u001b[1;33m\u001b[0m\u001b[0m\n",
      "\u001b[1;32mc:\\Users\\Gediminas\\Documents\\Coding\\Turing\\TC-2.4-Capstone\\scraper.py\u001b[0m in \u001b[0;36mvaluetoday_usa_scraper\u001b[1;34m(n_companies)\u001b[0m\n\u001b[0;32m    121\u001b[0m \u001b[1;33m\u001b[0m\u001b[0m\n\u001b[0;32m    122\u001b[0m             \u001b[0mnet_income_item\u001b[0m \u001b[1;33m=\u001b[0m \u001b[0mitem\u001b[0m\u001b[1;33m.\u001b[0m\u001b[0mselect\u001b[0m\u001b[1;33m(\u001b[0m\u001b[1;34m\"div.field--name-field-annual-net-income-lc > div.field--item\"\u001b[0m\u001b[1;33m)\u001b[0m\u001b[1;33m\u001b[0m\u001b[1;33m\u001b[0m\u001b[0m\n\u001b[1;32m--> 123\u001b[1;33m             \u001b[0mcollect_values\u001b[0m\u001b[1;33m(\u001b[0m\u001b[0mnet_income_item\u001b[0m\u001b[1;33m,\u001b[0m \u001b[0mcollected_net_incomes\u001b[0m\u001b[1;33m)\u001b[0m\u001b[1;33m\u001b[0m\u001b[1;33m\u001b[0m\u001b[0m\n\u001b[0m\u001b[0;32m    124\u001b[0m             \u001b[0mcollect_metrics\u001b[0m\u001b[1;33m(\u001b[0m\u001b[0mnet_income_item\u001b[0m\u001b[1;33m,\u001b[0m \u001b[0mcollected_net_incomes_metrics\u001b[0m\u001b[1;33m)\u001b[0m\u001b[1;33m\u001b[0m\u001b[1;33m\u001b[0m\u001b[0m\n\u001b[0;32m    125\u001b[0m \u001b[1;33m\u001b[0m\u001b[0m\n",
      "\u001b[1;32mc:\\Users\\Gediminas\\Documents\\Coding\\Turing\\TC-2.4-Capstone\\scraper.py\u001b[0m in \u001b[0;36mcollect_values\u001b[1;34m(item, collected_list)\u001b[0m\n\u001b[0;32m     78\u001b[0m                 \u001b[1;32melse\u001b[0m\u001b[1;33m:\u001b[0m\u001b[1;33m\u001b[0m\u001b[1;33m\u001b[0m\u001b[0m\n\u001b[0;32m     79\u001b[0m                     \u001b[0mstring\u001b[0m \u001b[1;33m=\u001b[0m \u001b[0mitem\u001b[0m\u001b[1;33m[\u001b[0m\u001b[1;36m0\u001b[0m\u001b[1;33m]\u001b[0m\u001b[1;33m.\u001b[0m\u001b[0mtext\u001b[0m\u001b[1;33m.\u001b[0m\u001b[0mstrip\u001b[0m\u001b[1;33m(\u001b[0m\u001b[1;33m)\u001b[0m\u001b[1;33m\u001b[0m\u001b[1;33m\u001b[0m\u001b[0m\n\u001b[1;32m---> 80\u001b[1;33m                     \u001b[0mvalue\u001b[0m \u001b[1;33m=\u001b[0m \u001b[0mre\u001b[0m\u001b[1;33m.\u001b[0m\u001b[0mfindall\u001b[0m\u001b[1;33m(\u001b[0m\u001b[1;34m\"\\d+[.,]\\d+|\\\\b(?<!-)\\d+\\\\b\"\u001b[0m\u001b[1;33m,\u001b[0m \u001b[0mstring\u001b[0m\u001b[1;33m)\u001b[0m\u001b[1;33m[\u001b[0m\u001b[1;36m0\u001b[0m\u001b[1;33m]\u001b[0m\u001b[1;33m\u001b[0m\u001b[1;33m\u001b[0m\u001b[0m\n\u001b[0m\u001b[0;32m     81\u001b[0m                     \u001b[1;32mif\u001b[0m \u001b[1;34m\"LOSS\"\u001b[0m \u001b[1;32min\u001b[0m \u001b[0mstring\u001b[0m\u001b[1;33m:\u001b[0m\u001b[1;33m\u001b[0m\u001b[1;33m\u001b[0m\u001b[0m\n\u001b[0;32m     82\u001b[0m                         \u001b[0mvalue\u001b[0m \u001b[1;33m=\u001b[0m \u001b[1;34m\"-\"\u001b[0m \u001b[1;33m+\u001b[0m \u001b[0mvalue\u001b[0m\u001b[1;33m\u001b[0m\u001b[1;33m\u001b[0m\u001b[0m\n",
      "\u001b[1;31mIndexError\u001b[0m: list index out of range"
     ]
    }
   ],
   "source": [
    "dataframe = valuetoday_usa_scraper(5083)\n",
    "final_df = df_cleaning(dataframe)"
   ]
  },
  {
   "cell_type": "code",
   "execution_count": 6,
   "metadata": {},
   "outputs": [
    {
     "output_type": "execute_result",
     "data": {
      "text/plain": [
       "                         Company Name        Company Business   Market Value  \\\n",
       "0                               APPLE              Technology  2256000000000   \n",
       "1               MICROSOFT CORPORATION              Technology  1682000000000   \n",
       "2                            ALPHABET              Technology  1185000000000   \n",
       "3                          AMAZON.COM               eCommerce  1634000000000   \n",
       "4                            FACEBOOK  Communication Services   778040000000   \n",
       "..                                ...                     ...            ...   \n",
       "135                          ILLUMINA              Healthcare    54020000000   \n",
       "136                     EOG RESOURCES                  Energy    29093000000   \n",
       "137                           METLIFE      Financial Services    42253000000   \n",
       "138  EDWARDS LIFESCIENCES CORPORATION              Healthcare    56859000000   \n",
       "139                               AON      Financial Services    48941000000   \n",
       "\n",
       "     Annual Revenue  Operating Income   Net Income        Assets   Liabilities  \n",
       "0      274510000000       66280000000  57410000000  317344000000  245062000000  \n",
       "1      143000000000       52950000000  44300000000  301311000000  183007000000  \n",
       "2      182520000000       41220000000  40260000000  299243000000   86320000000  \n",
       "3      386060000000       22890000000  21330000000  110908000000  184586000000  \n",
       "4       85960000000       32670000000  29150000000  139691000000   29244000000  \n",
       "..              ...               ...          ...           ...           ...  \n",
       "135      3543000000                 0   1002000000    7248000000    2685000000  \n",
       "136     17122000000                 0   2734000000   35222000000   14834000000  \n",
       "137     69620000000                 0   5899000000     768000000  691890000000  \n",
       "138      4348000000                 0   1047000000    6424000000    2585000000  \n",
       "139     11010000000                 0    780000000             0             0  \n",
       "\n",
       "[140 rows x 8 columns]"
      ],
      "text/html": "<div>\n<style scoped>\n    .dataframe tbody tr th:only-of-type {\n        vertical-align: middle;\n    }\n\n    .dataframe tbody tr th {\n        vertical-align: top;\n    }\n\n    .dataframe thead th {\n        text-align: right;\n    }\n</style>\n<table border=\"1\" class=\"dataframe\">\n  <thead>\n    <tr style=\"text-align: right;\">\n      <th></th>\n      <th>Company Name</th>\n      <th>Company Business</th>\n      <th>Market Value</th>\n      <th>Annual Revenue</th>\n      <th>Operating Income</th>\n      <th>Net Income</th>\n      <th>Assets</th>\n      <th>Liabilities</th>\n    </tr>\n  </thead>\n  <tbody>\n    <tr>\n      <th>0</th>\n      <td>APPLE</td>\n      <td>Technology</td>\n      <td>2256000000000</td>\n      <td>274510000000</td>\n      <td>66280000000</td>\n      <td>57410000000</td>\n      <td>317344000000</td>\n      <td>245062000000</td>\n    </tr>\n    <tr>\n      <th>1</th>\n      <td>MICROSOFT CORPORATION</td>\n      <td>Technology</td>\n      <td>1682000000000</td>\n      <td>143000000000</td>\n      <td>52950000000</td>\n      <td>44300000000</td>\n      <td>301311000000</td>\n      <td>183007000000</td>\n    </tr>\n    <tr>\n      <th>2</th>\n      <td>ALPHABET</td>\n      <td>Technology</td>\n      <td>1185000000000</td>\n      <td>182520000000</td>\n      <td>41220000000</td>\n      <td>40260000000</td>\n      <td>299243000000</td>\n      <td>86320000000</td>\n    </tr>\n    <tr>\n      <th>3</th>\n      <td>AMAZON.COM</td>\n      <td>eCommerce</td>\n      <td>1634000000000</td>\n      <td>386060000000</td>\n      <td>22890000000</td>\n      <td>21330000000</td>\n      <td>110908000000</td>\n      <td>184586000000</td>\n    </tr>\n    <tr>\n      <th>4</th>\n      <td>FACEBOOK</td>\n      <td>Communication Services</td>\n      <td>778040000000</td>\n      <td>85960000000</td>\n      <td>32670000000</td>\n      <td>29150000000</td>\n      <td>139691000000</td>\n      <td>29244000000</td>\n    </tr>\n    <tr>\n      <th>...</th>\n      <td>...</td>\n      <td>...</td>\n      <td>...</td>\n      <td>...</td>\n      <td>...</td>\n      <td>...</td>\n      <td>...</td>\n      <td>...</td>\n    </tr>\n    <tr>\n      <th>135</th>\n      <td>ILLUMINA</td>\n      <td>Healthcare</td>\n      <td>54020000000</td>\n      <td>3543000000</td>\n      <td>0</td>\n      <td>1002000000</td>\n      <td>7248000000</td>\n      <td>2685000000</td>\n    </tr>\n    <tr>\n      <th>136</th>\n      <td>EOG RESOURCES</td>\n      <td>Energy</td>\n      <td>29093000000</td>\n      <td>17122000000</td>\n      <td>0</td>\n      <td>2734000000</td>\n      <td>35222000000</td>\n      <td>14834000000</td>\n    </tr>\n    <tr>\n      <th>137</th>\n      <td>METLIFE</td>\n      <td>Financial Services</td>\n      <td>42253000000</td>\n      <td>69620000000</td>\n      <td>0</td>\n      <td>5899000000</td>\n      <td>768000000</td>\n      <td>691890000000</td>\n    </tr>\n    <tr>\n      <th>138</th>\n      <td>EDWARDS LIFESCIENCES CORPORATION</td>\n      <td>Healthcare</td>\n      <td>56859000000</td>\n      <td>4348000000</td>\n      <td>0</td>\n      <td>1047000000</td>\n      <td>6424000000</td>\n      <td>2585000000</td>\n    </tr>\n    <tr>\n      <th>139</th>\n      <td>AON</td>\n      <td>Financial Services</td>\n      <td>48941000000</td>\n      <td>11010000000</td>\n      <td>0</td>\n      <td>780000000</td>\n      <td>0</td>\n      <td>0</td>\n    </tr>\n  </tbody>\n</table>\n<p>140 rows × 8 columns</p>\n</div>"
     },
     "metadata": {},
     "execution_count": 6
    }
   ],
   "source": [
    "final_df"
   ]
  },
  {
   "cell_type": "code",
   "execution_count": 4,
   "metadata": {},
   "outputs": [],
   "source": [
    "save_csv(final_df, \"value_today\")"
   ]
  },
  {
   "cell_type": "code",
   "execution_count": 1,
   "metadata": {},
   "outputs": [],
   "source": [
    "import requests\n",
    "import re\n",
    "import pandas as pd\n",
    "import warnings\n",
    "from bs4 import BeautifulSoup\n",
    "from fake_useragent import UserAgent\n",
    "from time import sleep"
   ]
  },
  {
   "cell_type": "code",
   "execution_count": 3,
   "metadata": {},
   "outputs": [
    {
     "output_type": "stream",
     "name": "stdout",
     "text": [
      "A. O. SMITH CORPORATION\n[None]\nPENTAIR\n[None, None]\nPOST HOLDINGS\n[None, None, 'Million']\nABIOMED\n[None, None, 'Million', 'Million']\nPVH\n[None, None, 'Million', 'Million']\nSPIRIT AEROSYSTEMS HOLDINGS\n[None, None, 'Million', 'Million', None]\nERIE INDEMNITY COMPANY\n[None, None, 'Million', 'Million', None, 'Million']\nCOMMERCE BANCSHARES\n[None, None, 'Million', 'Million', None, 'Million', None]\nDROPBOX\n[None, None, 'Million', 'Million', None, 'Million', None, None]\nHILL-ROM HOLDINGS\n[None, None, 'Million', 'Million', None, 'Million', None, None, 'Million']\n"
     ]
    }
   ],
   "source": [
    "ua = UserAgent()\n",
    "header = {'User-Agent':str(ua.chrome)}\n",
    "\n",
    "collected_names = []\n",
    "collected_businesses = []\n",
    "collected_values = []\n",
    "collected_values_metrics = []\n",
    "collected_revenues = []\n",
    "collected_revenues_metrics = []\n",
    "collected_op_incomes = []\n",
    "collected_op_incomes_metrics = []\n",
    "collected_net_incomes = []\n",
    "collected_net_incomes_metrics = []\n",
    "collected_assets = []\n",
    "collected_assets_metrics = []\n",
    "collected_liabilities = []\n",
    "collected_liabilities_metrics = []\n",
    "\n",
    "url = \"https://www.value.today/headquarters/united-states-america-usa?page=\"\n",
    "\n",
    "for page in range(66, 67):\n",
    "\n",
    "    #print(page)\n",
    "\n",
    "    source = requests.get(url + str(page), headers=header)\n",
    "    soup = BeautifulSoup(source.content, \"html.parser\")\n",
    "\n",
    "    # Create a list of divs with all required information.\n",
    "    info_blocks = soup.find_all(\"div\", class_=\"node node--type-listed-companies node--view-mode-teaser ds-2col-stacked clearfix\")\n",
    "\n",
    "    for item in info_blocks:\n",
    "\n",
    "        def collect_values(item, collected_list):\n",
    "            \"\"\"Takes in parsed div tag, name of particular list and append extracted or None values to that list.\"\"\"\n",
    "            if len(item) == 0 or len(item) >= 2:\n",
    "                collected_list.append(None)\n",
    "            else:\n",
    "                string = item[0].text.strip() \n",
    "                value = re.findall(\"\\d+[.,]\\d+|\\\\b(?<![a-zA-Z]-)\\d+\\\\b|(?<!\\S)-\\d+.\\d+\", string)[0]\n",
    "                collected_list.append(value)\n",
    "\n",
    "\n",
    "        def collect_metrics(item, collected_list):\n",
    "            \"\"\"Takes in parsed div tag, name of particular list and append extracted or None values to that list.\"\"\"\n",
    "            if len(item) == 0 or len(item) >= 2:\n",
    "                collected_list.append(None)\n",
    "            else:\n",
    "                string = item[0].text.strip()\n",
    "                if \"Billion\" in string:\n",
    "                    collected_list.append(\"Billion\")\n",
    "                if \"Million\" in string:\n",
    "                    collected_list.append(\"Million\")\n",
    "\n",
    "        \n",
    "        market_value_item = item.select(\"div.field--name-field-market-value-jan012021 > div.field--item\")\n",
    "        if len(market_value_item) == 0:\n",
    "            continue\n",
    "        else:\n",
    "            market_value = market_value_item[0][\"content\"]\n",
    "            collected_values.append(market_value)\n",
    "            collect_metrics(market_value_item, collected_values_metrics)\n",
    "\n",
    "        name = item.find(\"h2\").text.strip()\n",
    "        collected_names.append(name)\n",
    "        print(name)\n",
    "\n",
    "        business = item.select(\"div.field--name-field-company-category-primary > div > div.field--item > a\")[0].text.strip()\n",
    "        collected_businesses.append(business)\n",
    "        #print(len(collected_businesses))\n",
    "\n",
    "        revenue_item = item.select(\"div.field--name-field-annual-revenue > div.field--item\")\n",
    "        collect_values(revenue_item, collected_revenues)\n",
    "        collect_metrics(revenue_item, collected_revenues_metrics)\n",
    "        print(collected_revenues_metrics)\n",
    "\n",
    "        op_income_item = item.select(\"div.field--name-field-annual-operating-income > div.field--item\")\n",
    "        collect_values(op_income_item, collected_op_incomes)\n",
    "        collect_metrics(op_income_item, collected_op_incomes_metrics)\n",
    "        #print(len(collected_op_incomes_metrics))\n",
    "\n",
    "        net_income_item = item.select(\"div.field--name-field-annual-net-income-lc > div.field--item\")\n",
    "        collect_values(net_income_item, collected_net_incomes)\n",
    "        collect_metrics(net_income_item, collected_net_incomes_metrics)\n",
    "        #print(len(collected_net_incomes_metrics))\n",
    "\n",
    "        assets_item = item.select(\"div.field--name-field-total-assets > div.field--item\")\n",
    "        collect_values(assets_item, collected_assets)\n",
    "        collect_metrics(assets_item, collected_assets_metrics)\n",
    "        #print(len(collected_assets_metrics))\n",
    "\n",
    "        liabilities_item = item.select(\"div.field--name-field-total-liabilities- > div.field--item\")\n",
    "        collect_values(liabilities_item, collected_liabilities)\n",
    "        collect_metrics(liabilities_item, collected_liabilities_metrics)\n",
    "        #print(len(collected_liabilities_metrics))\n",
    "\n",
    "    sleep(2)\n",
    "    #print(collected_revenues_metrics)\n",
    "#df = pd.DataFrame({\"Company Name\": collected_names, \"Company Business\": collected_businesses, \"Market Value\": collected_values, \n",
    "                   # \"Value Metric\": collected_values_metrics, \"Annual Revenue\": collected_revenues, \n",
    "                   # \"Revenue Metric\": collected_revenues_metrics, \"Operating Income\": collected_op_incomes, \n",
    "                   # \"Op Income Metric\": collected_op_incomes_metrics, \"Net Income\": collected_net_incomes, \n",
    "                   # \"Net Income Metric\": collected_net_incomes_metrics, \"Assets\": collected_assets, \n",
    "                   # \"Assets Metric\": collected_assets_metrics, \"Liabilities\": collected_liabilities, \n",
    "                   # \"Liabilities Metric\": collected_liabilities_metrics})"
   ]
  },
  {
   "cell_type": "code",
   "execution_count": 37,
   "metadata": {},
   "outputs": [
    {
     "output_type": "execute_result",
     "data": {
      "text/plain": [
       "                                  Company Name    Company Business  \\\n",
       "0                    RELIANCE STEEL & ALUMINUM     Basic Materials   \n",
       "1                     ARES CAPITAL CORPORATION  Financial Services   \n",
       "2                           KOHL'S CORPORATION   Consumer Cyclical   \n",
       "3                     MONOLITHIC POWER SYSTEMS          Technology   \n",
       "4                           BRUKER CORPORATION          Healthcare   \n",
       "5                        ALBEMARLE CORPORATION     Basic Materials   \n",
       "6  APARTMENT INVESTMENT AND MANAGEMENT COMPANY         Real Estate   \n",
       "7                    IPG PHOTONICS CORPORATION          Technology   \n",
       "8                               DOUGLAS EMMETT         Real Estate   \n",
       "\n",
       "  Market Value Value Metric Annual Revenue Revenue Metric Operating Income  \\\n",
       "0        7.635      Billion           None           None             None   \n",
       "1        7.138      Billion           None           None             None   \n",
       "2         6.42      Billion         15,955        Million             -262   \n",
       "3       16.516      Billion          844.4        Million            166.6   \n",
       "4        8.288      Billion           2020        Billion             None   \n",
       "5       15.705      Billion              3        Million            505.8   \n",
       "6        0.786      Billion           None           None             None   \n",
       "7       11.928      Billion              1        Million            231.5   \n",
       "8        5.117      Billion           None           None             None   \n",
       "\n",
       "  Op Income Metric Net Income Net Income Metric Assets Assets Metric  \\\n",
       "0             None       None              None   None          None   \n",
       "1             None       None              None   None          None   \n",
       "2          Million       -163           Million   None          None   \n",
       "3          Million      164.3           Million   None          None   \n",
       "4             None       None              None   None          None   \n",
       "5          Million      375.7           Million   None          None   \n",
       "6             None       None              None   None          None   \n",
       "7          Million      159.5           Million   None          None   \n",
       "8             None       None              None   None          None   \n",
       "\n",
       "  Liabilities Liabilities Metric  \n",
       "0        None               None  \n",
       "1        None               None  \n",
       "2        None               None  \n",
       "3        None               None  \n",
       "4        None               None  \n",
       "5        None               None  \n",
       "6        None               None  \n",
       "7        None               None  \n",
       "8        None               None  "
      ],
      "text/html": "<div>\n<style scoped>\n    .dataframe tbody tr th:only-of-type {\n        vertical-align: middle;\n    }\n\n    .dataframe tbody tr th {\n        vertical-align: top;\n    }\n\n    .dataframe thead th {\n        text-align: right;\n    }\n</style>\n<table border=\"1\" class=\"dataframe\">\n  <thead>\n    <tr style=\"text-align: right;\">\n      <th></th>\n      <th>Company Name</th>\n      <th>Company Business</th>\n      <th>Market Value</th>\n      <th>Value Metric</th>\n      <th>Annual Revenue</th>\n      <th>Revenue Metric</th>\n      <th>Operating Income</th>\n      <th>Op Income Metric</th>\n      <th>Net Income</th>\n      <th>Net Income Metric</th>\n      <th>Assets</th>\n      <th>Assets Metric</th>\n      <th>Liabilities</th>\n      <th>Liabilities Metric</th>\n    </tr>\n  </thead>\n  <tbody>\n    <tr>\n      <th>0</th>\n      <td>RELIANCE STEEL &amp; ALUMINUM</td>\n      <td>Basic Materials</td>\n      <td>7.635</td>\n      <td>Billion</td>\n      <td>None</td>\n      <td>None</td>\n      <td>None</td>\n      <td>None</td>\n      <td>None</td>\n      <td>None</td>\n      <td>None</td>\n      <td>None</td>\n      <td>None</td>\n      <td>None</td>\n    </tr>\n    <tr>\n      <th>1</th>\n      <td>ARES CAPITAL CORPORATION</td>\n      <td>Financial Services</td>\n      <td>7.138</td>\n      <td>Billion</td>\n      <td>None</td>\n      <td>None</td>\n      <td>None</td>\n      <td>None</td>\n      <td>None</td>\n      <td>None</td>\n      <td>None</td>\n      <td>None</td>\n      <td>None</td>\n      <td>None</td>\n    </tr>\n    <tr>\n      <th>2</th>\n      <td>KOHL'S CORPORATION</td>\n      <td>Consumer Cyclical</td>\n      <td>6.42</td>\n      <td>Billion</td>\n      <td>15,955</td>\n      <td>Million</td>\n      <td>-262</td>\n      <td>Million</td>\n      <td>-163</td>\n      <td>Million</td>\n      <td>None</td>\n      <td>None</td>\n      <td>None</td>\n      <td>None</td>\n    </tr>\n    <tr>\n      <th>3</th>\n      <td>MONOLITHIC POWER SYSTEMS</td>\n      <td>Technology</td>\n      <td>16.516</td>\n      <td>Billion</td>\n      <td>844.4</td>\n      <td>Million</td>\n      <td>166.6</td>\n      <td>Million</td>\n      <td>164.3</td>\n      <td>Million</td>\n      <td>None</td>\n      <td>None</td>\n      <td>None</td>\n      <td>None</td>\n    </tr>\n    <tr>\n      <th>4</th>\n      <td>BRUKER CORPORATION</td>\n      <td>Healthcare</td>\n      <td>8.288</td>\n      <td>Billion</td>\n      <td>2020</td>\n      <td>Billion</td>\n      <td>None</td>\n      <td>None</td>\n      <td>None</td>\n      <td>None</td>\n      <td>None</td>\n      <td>None</td>\n      <td>None</td>\n      <td>None</td>\n    </tr>\n    <tr>\n      <th>5</th>\n      <td>ALBEMARLE CORPORATION</td>\n      <td>Basic Materials</td>\n      <td>15.705</td>\n      <td>Billion</td>\n      <td>3</td>\n      <td>Million</td>\n      <td>505.8</td>\n      <td>Million</td>\n      <td>375.7</td>\n      <td>Million</td>\n      <td>None</td>\n      <td>None</td>\n      <td>None</td>\n      <td>None</td>\n    </tr>\n    <tr>\n      <th>6</th>\n      <td>APARTMENT INVESTMENT AND MANAGEMENT COMPANY</td>\n      <td>Real Estate</td>\n      <td>0.786</td>\n      <td>Billion</td>\n      <td>None</td>\n      <td>None</td>\n      <td>None</td>\n      <td>None</td>\n      <td>None</td>\n      <td>None</td>\n      <td>None</td>\n      <td>None</td>\n      <td>None</td>\n      <td>None</td>\n    </tr>\n    <tr>\n      <th>7</th>\n      <td>IPG PHOTONICS CORPORATION</td>\n      <td>Technology</td>\n      <td>11.928</td>\n      <td>Billion</td>\n      <td>1</td>\n      <td>Million</td>\n      <td>231.5</td>\n      <td>Million</td>\n      <td>159.5</td>\n      <td>Million</td>\n      <td>None</td>\n      <td>None</td>\n      <td>None</td>\n      <td>None</td>\n    </tr>\n    <tr>\n      <th>8</th>\n      <td>DOUGLAS EMMETT</td>\n      <td>Real Estate</td>\n      <td>5.117</td>\n      <td>Billion</td>\n      <td>None</td>\n      <td>None</td>\n      <td>None</td>\n      <td>None</td>\n      <td>None</td>\n      <td>None</td>\n      <td>None</td>\n      <td>None</td>\n      <td>None</td>\n      <td>None</td>\n    </tr>\n  </tbody>\n</table>\n</div>"
     },
     "metadata": {},
     "execution_count": 37
    }
   ],
   "source": [
    "df"
   ]
  },
  {
   "cell_type": "code",
   "execution_count": 27,
   "metadata": {},
   "outputs": [
    {
     "output_type": "execute_result",
     "data": {
      "text/plain": [
       "  Company Name Company Business Market Value Value Metric Annual Revenue  \\\n",
       "3      YOUTUBE     Social Media         None         None           None   \n",
       "\n",
       "  Revenue Metric Operating Income Op Income Metric Net Income  \\\n",
       "3           None             None             None       None   \n",
       "\n",
       "  Net Income Metric Assets Assets Metric Liabilities Liabilities Metric  \n",
       "3              None   None          None        None               None  "
      ],
      "text/html": "<div>\n<style scoped>\n    .dataframe tbody tr th:only-of-type {\n        vertical-align: middle;\n    }\n\n    .dataframe tbody tr th {\n        vertical-align: top;\n    }\n\n    .dataframe thead th {\n        text-align: right;\n    }\n</style>\n<table border=\"1\" class=\"dataframe\">\n  <thead>\n    <tr style=\"text-align: right;\">\n      <th></th>\n      <th>Company Name</th>\n      <th>Company Business</th>\n      <th>Market Value</th>\n      <th>Value Metric</th>\n      <th>Annual Revenue</th>\n      <th>Revenue Metric</th>\n      <th>Operating Income</th>\n      <th>Op Income Metric</th>\n      <th>Net Income</th>\n      <th>Net Income Metric</th>\n      <th>Assets</th>\n      <th>Assets Metric</th>\n      <th>Liabilities</th>\n      <th>Liabilities Metric</th>\n    </tr>\n  </thead>\n  <tbody>\n    <tr>\n      <th>3</th>\n      <td>YOUTUBE</td>\n      <td>Social Media</td>\n      <td>None</td>\n      <td>None</td>\n      <td>None</td>\n      <td>None</td>\n      <td>None</td>\n      <td>None</td>\n      <td>None</td>\n      <td>None</td>\n      <td>None</td>\n      <td>None</td>\n      <td>None</td>\n      <td>None</td>\n    </tr>\n  </tbody>\n</table>\n</div>"
     },
     "metadata": {},
     "execution_count": 27
    }
   ],
   "source": [
    "df[df[\"Company Name\"] == \"YOUTUBE\"]"
   ]
  },
  {
   "cell_type": "code",
   "execution_count": 80,
   "metadata": {},
   "outputs": [
    {
     "output_type": "execute_result",
     "data": {
      "text/plain": [
       "<div class=\"node node--type-listed-companies node--view-mode-teaser ds-2col-stacked clearfix\" data-history-node-id=\"46201\">\n",
       "<div class=\"clearfix group-header\">\n",
       "<div class=\"field field--name-node-title field--type-ds field--label-hidden field--item\"><h2 class=\"text-primary\">\n",
       "<a href=\"/company/post-holdings\" hreflang=\"en\">POST HOLDINGS</a>\n",
       "</h2>\n",
       "</div>\n",
       "<div class=\"clearfix col-sm-6 field field--name-field-world-rank-jan012021 field--type-integer field--label-above\">\n",
       "<div class=\"field--label\">World Rank (Jan-01-2021)</div>\n",
       "<div class=\"field--item\">2346</div>\n",
       "</div>\n",
       "<div class=\"clearfix col-sm-6 field field--name-field-market-value-jan012021 field--type-float field--label-above\">\n",
       "<div class=\"field--label\">Market Value (Jan-01-2021)</div>\n",
       "<div class=\"field--item\" content=\"6.655\">6.655 Billion USD</div>\n",
       "</div>\n",
       "<div class=\"clearfix col-sm-6 field field--name-field-world-rank-jan-2020 field--type-integer field--label-above\">\n",
       "<div class=\"field--label\">World Rank (Jan-2020)</div>\n",
       "<div class=\"field--item\">1917</div>\n",
       "</div>\n",
       "<div class=\"clearfix col-sm-6 field field--name-field-market-value-jan-2020 field--type-float field--label-above\">\n",
       "<div class=\"field--label\">Market Value (Jan 1st 2020)</div>\n",
       "<div class=\"field--item\" content=\"7.7\">7.700 Billion USD</div>\n",
       "</div>\n",
       "</div>\n",
       "<div class=\"clearfix group-left\">\n",
       "<div class=\"clearfix col-sm-12 field field--name-field-headquarters-of-company field--type-entity-reference field--label-above\">\n",
       "<div class=\"field--label\">Headquarters Country:</div>\n",
       "<div class=\"field--items\">\n",
       "<div class=\"field--item\"><a href=\"/headquarters/united-states-america-usa\" hreflang=\"und\">USA</a></div>\n",
       "</div>\n",
       "</div>\n",
       "<div class=\"clearfix col-sm-12 field field--name-field-company-category-primary field--type-entity-reference field--label-above\">\n",
       "<div class=\"field--label\">Company Business</div>\n",
       "<div class=\"field--items\">\n",
       "<div class=\"field--item\"><a href=\"/world-top-companies/consumer-defensive\" hreflang=\"und\">Consumer Defensive</a></div>\n",
       "<div class=\"field--item\"><a href=\"/world-top-companies/fmcg\" hreflang=\"und\">FMCG</a></div>\n",
       "<div class=\"field--item\"><a href=\"/world-top-companies/food-products\" hreflang=\"und\">Food Products</a></div>\n",
       "</div>\n",
       "</div>\n",
       "<div class=\"clearfix col-sm-12 field field--name-field-employee-count field--type-integer field--label-inline\">\n",
       "<div class=\"field--label\">Number of Employees</div>\n",
       "<div class=\"field--item\" content=\"10200\">10,200</div>\n",
       "</div>\n",
       "<div class=\"clearfix col-sm-12 field field--name-field-employee-count-as-on-date field--type-string field--label-above\">\n",
       "<div class=\"field--label\">Employee Count as on Date</div>\n",
       "<div class=\"field--item\">As on 2020</div>\n",
       "</div>\n",
       "</div>\n",
       "<div class=\"clearfix group-right\">\n",
       "<div class=\"clearfix col-sm-12 field field--name-field-stock-exchange-lc field--type-entity-reference field--label-inline\">\n",
       "<div class=\"field--label\">Stock Exchange</div>\n",
       "<div class=\"field--items\">\n",
       "<div class=\"field--item\"><a href=\"/stock-exchange-companies/nyse\" hreflang=\"und\">NYSE</a></div>\n",
       "</div>\n",
       "</div>\n",
       "<div class=\"clearfix col-sm-12 field field--name-field-company-website field--type-link field--label-above\">\n",
       "<div class=\"field--label\">Company Website:</div>\n",
       "<div class=\"field--item\"><a href=\"https://www.postholdings.com/\" rel=\"nofollow\" target=\"_blank\">POST HOLDINGS INC</a></div>\n",
       "</div>\n",
       "<div class=\"clearfix col-sm-12 field field--name-field-wikipedia field--type-link field--label-hidden field--item\"><a href=\"https://en.wikipedia.org/wiki/Post_Holdings\" rel=\"nofollow\" target=\"_blank\">Wikipedia</a></div>\n",
       "<div class=\"clearfix col-sm-12 field field--name-field-yahoo field--type-link field--label-hidden field--item\"><a href=\"https://finance.yahoo.com/quote/POST\" rel=\"nofollow\" target=\"_blank\">Yahoo @ NYSE</a></div>\n",
       "</div>\n",
       "<div class=\"clearfix group-footer\">\n",
       "<div class=\"clearfix col-sm-12 field field--name-field-annual-revenue field--type-string field--label-above\">\n",
       "<div class=\"field--label\">Annual Revenue</div>\n",
       "<div class=\"field--item\">5,698 Million USD  for Year ending September-2020</div>\n",
       "</div>\n",
       "<div class=\"clearfix col-sm-12 field field--name-field-annual-operating-income field--type-string field--label-above\">\n",
       "<div class=\"field--label\">Annual Operating Income</div>\n",
       "<div class=\"field--item\">700.5 Million USD  for Year ending September-2020</div>\n",
       "</div>\n",
       "<div class=\"clearfix col-sm-12 field field--name-field-annual-net-income-lc field--type-string field--label-above\">\n",
       "<div class=\"field--label\">Annual Net Income</div>\n",
       "<div class=\"field--item\">800 Million USD  for Year ending September-2020</div>\n",
       "</div>\n",
       "<div class=\"clearfix col-sm-12 field field--name-body field--type-text-with-summary field--label-above\">\n",
       "<div class=\"field--label\">About Company Business:</div>\n",
       "<div class=\"field--item\"><p>Post Holdings is a Food products company. The company products are cereals grains, potato, egg, sausage, cheese, baking nuts, snacking nuts, almond butter, cashew butter, dried fruits and protein foods etc. The headquarters is in USA.</p></div>\n",
       "</div>\n",
       "<div class=\"field field--name-node-link field--type-ds field--label-hidden field--item\"> <a class=\"clearfix col-sm-12\" href=\"/company/post-holdings\" hreflang=\"en\">Read more</a>\n",
       "</div>\n",
       "<div class=\"clearfix col-sm-12 field field--name-field-company-sub-category- field--type-entity-reference field--label-above\">\n",
       "<div class=\"field--label\">Business Sector:</div>\n",
       "<div class=\"field--items\">\n",
       "<div class=\"field--item\"><a href=\"/top-companies/top-fmcg-companies-usa\" hreflang=\"und\">Top FMCG Companies in USA</a></div>\n",
       "</div>\n",
       "</div>\n",
       "</div>\n",
       "</div>"
      ]
     },
     "metadata": {},
     "execution_count": 80
    }
   ],
   "source": [
    "info_blocks[2]"
   ]
  },
  {
   "cell_type": "code",
   "execution_count": 6,
   "metadata": {},
   "outputs": [],
   "source": [
    "data = pd.read_csv(\"value_today.csv\")"
   ]
  },
  {
   "cell_type": "code",
   "execution_count": 7,
   "metadata": {},
   "outputs": [
    {
     "output_type": "execute_result",
     "data": {
      "text/plain": [
       "            Company Name        Company Business   Market Value  \\\n",
       "0                  APPLE              Technology  2256000000000   \n",
       "1  MICROSOFT CORPORATION              Technology  1682000000000   \n",
       "2               ALPHABET              Technology  1185000000000   \n",
       "3             AMAZON.COM               eCommerce  1634000000000   \n",
       "4               FACEBOOK  Communication Services   778040000000   \n",
       "5     BERKSHIRE HATHAWAY      Financial Services   543679999999   \n",
       "6  J P MORGAN CHASE & CO      Financial Services   387330000000   \n",
       "7                   VISA      Financial Services   482170000000   \n",
       "8      JOHNSON & JOHNSON              Healthcare   414310000000   \n",
       "9                WALMART                  Retail   407840000000   \n",
       "\n",
       "   Annual Revenue  Operating Income    Net Income         Assets  \\\n",
       "0    274510000000       66280000000  274510000000   317344000000   \n",
       "1    143000000000       52950000000  143000000000   301311000000   \n",
       "2    182520000000       41220000000  182520000000   299243000000   \n",
       "3    386060000000       22890000000  386060000000   110908000000   \n",
       "4     85960000000       32670000000   85960000000   139691000000   \n",
       "5    327220000000                 0  327220000000   829946000000   \n",
       "6    122900000000                 0  122900000000  3386000000000   \n",
       "7     21840000000       14090000000   21840000000    77884000000   \n",
       "8     82580000000       19730000000   82580000000   158380000000   \n",
       "9    523960000000       22540000000  523960000000   237382000000   \n",
       "\n",
       "     Liabilities  \n",
       "0   245062000000  \n",
       "1   183007000000  \n",
       "2    86320000000  \n",
       "3   184586000000  \n",
       "4    29244000000  \n",
       "5   410730000000  \n",
       "6  3106000000000  \n",
       "7    42360000000  \n",
       "8    95402000000  \n",
       "9   162072000000  "
      ],
      "text/html": "<div>\n<style scoped>\n    .dataframe tbody tr th:only-of-type {\n        vertical-align: middle;\n    }\n\n    .dataframe tbody tr th {\n        vertical-align: top;\n    }\n\n    .dataframe thead th {\n        text-align: right;\n    }\n</style>\n<table border=\"1\" class=\"dataframe\">\n  <thead>\n    <tr style=\"text-align: right;\">\n      <th></th>\n      <th>Company Name</th>\n      <th>Company Business</th>\n      <th>Market Value</th>\n      <th>Annual Revenue</th>\n      <th>Operating Income</th>\n      <th>Net Income</th>\n      <th>Assets</th>\n      <th>Liabilities</th>\n    </tr>\n  </thead>\n  <tbody>\n    <tr>\n      <th>0</th>\n      <td>APPLE</td>\n      <td>Technology</td>\n      <td>2256000000000</td>\n      <td>274510000000</td>\n      <td>66280000000</td>\n      <td>274510000000</td>\n      <td>317344000000</td>\n      <td>245062000000</td>\n    </tr>\n    <tr>\n      <th>1</th>\n      <td>MICROSOFT CORPORATION</td>\n      <td>Technology</td>\n      <td>1682000000000</td>\n      <td>143000000000</td>\n      <td>52950000000</td>\n      <td>143000000000</td>\n      <td>301311000000</td>\n      <td>183007000000</td>\n    </tr>\n    <tr>\n      <th>2</th>\n      <td>ALPHABET</td>\n      <td>Technology</td>\n      <td>1185000000000</td>\n      <td>182520000000</td>\n      <td>41220000000</td>\n      <td>182520000000</td>\n      <td>299243000000</td>\n      <td>86320000000</td>\n    </tr>\n    <tr>\n      <th>3</th>\n      <td>AMAZON.COM</td>\n      <td>eCommerce</td>\n      <td>1634000000000</td>\n      <td>386060000000</td>\n      <td>22890000000</td>\n      <td>386060000000</td>\n      <td>110908000000</td>\n      <td>184586000000</td>\n    </tr>\n    <tr>\n      <th>4</th>\n      <td>FACEBOOK</td>\n      <td>Communication Services</td>\n      <td>778040000000</td>\n      <td>85960000000</td>\n      <td>32670000000</td>\n      <td>85960000000</td>\n      <td>139691000000</td>\n      <td>29244000000</td>\n    </tr>\n    <tr>\n      <th>5</th>\n      <td>BERKSHIRE HATHAWAY</td>\n      <td>Financial Services</td>\n      <td>543679999999</td>\n      <td>327220000000</td>\n      <td>0</td>\n      <td>327220000000</td>\n      <td>829946000000</td>\n      <td>410730000000</td>\n    </tr>\n    <tr>\n      <th>6</th>\n      <td>J P MORGAN CHASE &amp; CO</td>\n      <td>Financial Services</td>\n      <td>387330000000</td>\n      <td>122900000000</td>\n      <td>0</td>\n      <td>122900000000</td>\n      <td>3386000000000</td>\n      <td>3106000000000</td>\n    </tr>\n    <tr>\n      <th>7</th>\n      <td>VISA</td>\n      <td>Financial Services</td>\n      <td>482170000000</td>\n      <td>21840000000</td>\n      <td>14090000000</td>\n      <td>21840000000</td>\n      <td>77884000000</td>\n      <td>42360000000</td>\n    </tr>\n    <tr>\n      <th>8</th>\n      <td>JOHNSON &amp; JOHNSON</td>\n      <td>Healthcare</td>\n      <td>414310000000</td>\n      <td>82580000000</td>\n      <td>19730000000</td>\n      <td>82580000000</td>\n      <td>158380000000</td>\n      <td>95402000000</td>\n    </tr>\n    <tr>\n      <th>9</th>\n      <td>WALMART</td>\n      <td>Retail</td>\n      <td>407840000000</td>\n      <td>523960000000</td>\n      <td>22540000000</td>\n      <td>523960000000</td>\n      <td>237382000000</td>\n      <td>162072000000</td>\n    </tr>\n  </tbody>\n</table>\n</div>"
     },
     "metadata": {},
     "execution_count": 7
    }
   ],
   "source": [
    "data"
   ]
  },
  {
   "cell_type": "code",
   "execution_count": 54,
   "metadata": {},
   "outputs": [
    {
     "output_type": "stream",
     "name": "stdout",
     "text": [
      "True\n"
     ]
    }
   ],
   "source": [
    "string = \"5,698 Million USD  for Year ending September-2020\"\n",
    "\n",
    "if \"Billion\" in string:\n",
    "    print(\"Billion\")\n",
    "if \"Million\" in string:\n",
    "    print(\"Million\")"
   ]
  }
 ]
}