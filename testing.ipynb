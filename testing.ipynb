{
 "metadata": {
  "language_info": {
   "codemirror_mode": {
    "name": "ipython",
    "version": 3
   },
   "file_extension": ".py",
   "mimetype": "text/x-python",
   "name": "python",
   "nbconvert_exporter": "python",
   "pygments_lexer": "ipython3",
   "version": "3.8.8"
  },
  "orig_nbformat": 2,
  "kernelspec": {
   "name": "python388jvsc74a57bd09c73145fe1f8ba769fdf9edcb512a81fe38bcab3cb253b8e7a65c7a64ff93c59",
   "display_name": "Python 3.8.8 64-bit ('base': conda)"
  }
 },
 "nbformat": 4,
 "nbformat_minor": 2,
 "cells": [
  {
   "cell_type": "code",
   "execution_count": 10,
   "metadata": {},
   "outputs": [],
   "source": [
    "from bs4 import BeautifulSoup\n",
    "import requests\n",
    "import pandas as pd\n",
    "from fake_useragent import UserAgent\n",
    "from time import sleep\n",
    "import re"
   ]
  },
  {
   "cell_type": "code",
   "execution_count": 2,
   "metadata": {},
   "outputs": [],
   "source": [
    "ua = UserAgent()\n",
    "header = {'User-Agent':str(ua.chrome)}\n",
    "\n",
    "url = \"https://www.value.today/headquarters/united-states-america-usa?page=0\"\n",
    "\n",
    "source = requests.get(url, headers=header)\n",
    "soup = BeautifulSoup(source.content, \"html.parser\")"
   ]
  },
  {
   "cell_type": "code",
   "execution_count": 3,
   "metadata": {},
   "outputs": [],
   "source": [
    "info_blocks = soup.find_all(class_=\"node node--type-listed-companies node--view-mode-teaser ds-2col-stacked clearfix\")"
   ]
  },
  {
   "cell_type": "code",
   "execution_count": 56,
   "metadata": {},
   "outputs": [],
   "source": [
    "collected_names = []\n",
    "collected_businesses = []\n",
    "collected_values = []\n",
    "collected_values_metrics = []\n",
    "collected_revenues = []\n",
    "collected_revenues_metrics = []\n",
    "\n",
    "for item in info_blocks:\n",
    "\n",
    "    name = item.find(\"h2\").text.strip()\n",
    "    collected_names.append(name)\n",
    "\n",
    "    business = item.select(\"div.field--name-field-company-category-primary > div > div.field--item > a\")[0].text.strip()\n",
    "    collected_businesses.append(business)\n",
    "\n",
    "    value = item.select(\"div.field--name-field-market-value-jan012021 > div.field--item\")[0][\"content\"]\n",
    "    collected_values.append(value)\n",
    "\n",
    "    value_string = item.select(\"div.field--name-field-market-value-jan012021 > div.field--item\")[0].text.strip()\n",
    "    if \"Billion\" in value_string:\n",
    "        collected_values_metrics.append(\"Billion\")\n",
    "    elif \"Million\" in value_string:\n",
    "        collected_values_metrics.append(\"Million\")\n",
    "\n",
    "    revenue_string = item.select(\"div.field--name-field-annual-revenue > div.field--item\")[0].text.strip()\n",
    "    revenue = re.findall(\"\\d+[.,]\\d+\", revenue_string)\n",
    "    collected_revenues.append(revenue[0])\n",
    "\n",
    "    if \"Billion\" in revenue_string:\n",
    "        collected_revenues_metrics.append(\"Billion\")\n",
    "    elif \"Million\" in revenue_string:\n",
    "        collected_revenues_metrics.append(\"Million\")\n",
    "\n",
    "\n",
    "dataframe = pd.DataFrame({\"Company Name\": collected_names, \"Company Business\": collected_businesses, \"Market Value\": collected_values, \"Value Metric\": collected_values_metrics, \"Annual Revenue\": collected_revenues, \"Revenue Metric\": collected_revenues_metrics})"
   ]
  },
  {
   "cell_type": "code",
   "execution_count": 49,
   "metadata": {},
   "outputs": [
    {
     "output_type": "execute_result",
     "data": {
      "text/plain": [
       "40784.0"
      ]
     },
     "metadata": {},
     "execution_count": 49
    }
   ],
   "source": [
    "float(value) * 100"
   ]
  },
  {
   "cell_type": "code",
   "execution_count": 54,
   "metadata": {},
   "outputs": [
    {
     "output_type": "execute_result",
     "data": {
      "text/plain": [
       "'407.840 Billion USD'"
      ]
     },
     "metadata": {},
     "execution_count": 54
    }
   ],
   "source": [
    "value_string.text.strip()"
   ]
  },
  {
   "cell_type": "code",
   "execution_count": 57,
   "metadata": {},
   "outputs": [
    {
     "output_type": "execute_result",
     "data": {
      "text/plain": [
       "            Company Name        Company Business Market Value Value Metric  \\\n",
       "0                  APPLE              Technology         2256      Billion   \n",
       "1  MICROSOFT CORPORATION              Technology         1682      Billion   \n",
       "2               ALPHABET              Technology         1185      Billion   \n",
       "3             AMAZON.COM               eCommerce         1634      Billion   \n",
       "4               FACEBOOK  Communication Services       778.04      Billion   \n",
       "5     BERKSHIRE HATHAWAY      Financial Services       543.68      Billion   \n",
       "6  J P MORGAN CHASE & CO      Financial Services       387.33      Billion   \n",
       "7                   VISA      Financial Services       482.17      Billion   \n",
       "8      JOHNSON & JOHNSON              Healthcare       414.31      Billion   \n",
       "9                WALMART                  Retail       407.84      Billion   \n",
       "\n",
       "  Annual Revenue Revenue Metric  \n",
       "0         274.51        Billion  \n",
       "1         143.00        Billion  \n",
       "2         182.52        Billion  \n",
       "3         386.06        Billion  \n",
       "4          85.96        Billion  \n",
       "5         327.22        Billion  \n",
       "6         122.90        Billion  \n",
       "7          21.84        Billion  \n",
       "8          82.58        Billion  \n",
       "9         523.96        Billion  "
      ],
      "text/html": "<div>\n<style scoped>\n    .dataframe tbody tr th:only-of-type {\n        vertical-align: middle;\n    }\n\n    .dataframe tbody tr th {\n        vertical-align: top;\n    }\n\n    .dataframe thead th {\n        text-align: right;\n    }\n</style>\n<table border=\"1\" class=\"dataframe\">\n  <thead>\n    <tr style=\"text-align: right;\">\n      <th></th>\n      <th>Company Name</th>\n      <th>Company Business</th>\n      <th>Market Value</th>\n      <th>Value Metric</th>\n      <th>Annual Revenue</th>\n      <th>Revenue Metric</th>\n    </tr>\n  </thead>\n  <tbody>\n    <tr>\n      <th>0</th>\n      <td>APPLE</td>\n      <td>Technology</td>\n      <td>2256</td>\n      <td>Billion</td>\n      <td>274.51</td>\n      <td>Billion</td>\n    </tr>\n    <tr>\n      <th>1</th>\n      <td>MICROSOFT CORPORATION</td>\n      <td>Technology</td>\n      <td>1682</td>\n      <td>Billion</td>\n      <td>143.00</td>\n      <td>Billion</td>\n    </tr>\n    <tr>\n      <th>2</th>\n      <td>ALPHABET</td>\n      <td>Technology</td>\n      <td>1185</td>\n      <td>Billion</td>\n      <td>182.52</td>\n      <td>Billion</td>\n    </tr>\n    <tr>\n      <th>3</th>\n      <td>AMAZON.COM</td>\n      <td>eCommerce</td>\n      <td>1634</td>\n      <td>Billion</td>\n      <td>386.06</td>\n      <td>Billion</td>\n    </tr>\n    <tr>\n      <th>4</th>\n      <td>FACEBOOK</td>\n      <td>Communication Services</td>\n      <td>778.04</td>\n      <td>Billion</td>\n      <td>85.96</td>\n      <td>Billion</td>\n    </tr>\n    <tr>\n      <th>5</th>\n      <td>BERKSHIRE HATHAWAY</td>\n      <td>Financial Services</td>\n      <td>543.68</td>\n      <td>Billion</td>\n      <td>327.22</td>\n      <td>Billion</td>\n    </tr>\n    <tr>\n      <th>6</th>\n      <td>J P MORGAN CHASE &amp; CO</td>\n      <td>Financial Services</td>\n      <td>387.33</td>\n      <td>Billion</td>\n      <td>122.90</td>\n      <td>Billion</td>\n    </tr>\n    <tr>\n      <th>7</th>\n      <td>VISA</td>\n      <td>Financial Services</td>\n      <td>482.17</td>\n      <td>Billion</td>\n      <td>21.84</td>\n      <td>Billion</td>\n    </tr>\n    <tr>\n      <th>8</th>\n      <td>JOHNSON &amp; JOHNSON</td>\n      <td>Healthcare</td>\n      <td>414.31</td>\n      <td>Billion</td>\n      <td>82.58</td>\n      <td>Billion</td>\n    </tr>\n    <tr>\n      <th>9</th>\n      <td>WALMART</td>\n      <td>Retail</td>\n      <td>407.84</td>\n      <td>Billion</td>\n      <td>523.96</td>\n      <td>Billion</td>\n    </tr>\n  </tbody>\n</table>\n</div>"
     },
     "metadata": {},
     "execution_count": 57
    }
   ],
   "source": [
    "dataframe"
   ]
  },
  {
   "cell_type": "code",
   "execution_count": 7,
   "metadata": {},
   "outputs": [
    {
     "output_type": "execute_result",
     "data": {
      "text/plain": [
       "<div class=\"node node--type-listed-companies node--view-mode-teaser ds-2col-stacked clearfix\" data-history-node-id=\"44286\">\n",
       "<div class=\"clearfix group-header\">\n",
       "<div class=\"field field--name-node-title field--type-ds field--label-hidden field--item\"><h2 class=\"text-primary\">\n",
       "<a href=\"/company/apple\" hreflang=\"en\">APPLE</a>\n",
       "</h2>\n",
       "</div>\n",
       "<div class=\"clearfix col-sm-6 field field--name-field-world-rank-jan012021 field--type-integer field--label-above\">\n",
       "<div class=\"field--label\">World Rank (Jan-01-2021)</div>\n",
       "<div class=\"field--item\">1</div>\n",
       "</div>\n",
       "<div class=\"clearfix col-sm-6 field field--name-field-market-value-jan012021 field--type-float field--label-above\">\n",
       "<div class=\"field--label\">Market Value (Jan-01-2021)</div>\n",
       "<div class=\"field--item\" content=\"2256\">2256.000 Billion USD</div>\n",
       "</div>\n",
       "<div class=\"clearfix col-sm-6 field field--name-field-world-rank-jan-2020 field--type-integer field--label-above\">\n",
       "<div class=\"field--label\">World Rank (Jan-2020)</div>\n",
       "<div class=\"field--item\">2</div>\n",
       "</div>\n",
       "<div class=\"clearfix col-sm-6 field field--name-field-market-value-jan-2020 field--type-float field--label-above\">\n",
       "<div class=\"field--label\">Market Value (Jan 1st 2020)</div>\n",
       "<div class=\"field--item\" content=\"1323\">1,323.000 Billion USD</div>\n",
       "</div>\n",
       "</div>\n",
       "<div class=\"clearfix group-left\">\n",
       "<div class=\"clearfix col-sm-12 field field--name-field-headquarters-of-company field--type-entity-reference field--label-above\">\n",
       "<div class=\"field--label\">Headquarters Country:</div>\n",
       "<div class=\"field--items\">\n",
       "<div class=\"field--item\"><a href=\"/headquarters/united-states-america-usa\" hreflang=\"und\">USA</a></div>\n",
       "</div>\n",
       "</div>\n",
       "<div class=\"clearfix col-sm-12 field field--name-field-company-category-primary field--type-entity-reference field--label-above\">\n",
       "<div class=\"field--label\">Company Business</div>\n",
       "<div class=\"field--items\">\n",
       "<div class=\"field--item\"><a href=\"/world-top-companies/technology\" hreflang=\"und\">Technology</a></div>\n",
       "<div class=\"field--item\"><a href=\"/world-top-companies/mobiles-accessories\" hreflang=\"und\">Mobiles &amp; Accessories</a></div>\n",
       "<div class=\"field--item\"><a href=\"/world-top-companies/electronics-manufacturing\" hreflang=\"und\">Electronics</a></div>\n",
       "</div>\n",
       "</div>\n",
       "<div class=\"clearfix col-sm-12 field field--name-field-employee-count field--type-integer field--label-inline\">\n",
       "<div class=\"field--label\">Number of Employees</div>\n",
       "<div class=\"field--item\" content=\"147000\">147,000</div>\n",
       "</div>\n",
       "<div class=\"clearfix col-sm-12 field field--name-field-employee-count-as-on-date field--type-string field--label-above\">\n",
       "<div class=\"field--label\">Employee Count as on Date</div>\n",
       "<div class=\"field--item\">As on 2020</div>\n",
       "</div>\n",
       "<div class=\"clearfix col-sm-12 field field--name-field-stock-category-lc field--type-entity-reference field--label-inline\">\n",
       "<div class=\"field--label\">Stock Category</div>\n",
       "<div class=\"field--items\">\n",
       "<div class=\"field--item\"><a href=\"/stocks/dow-jones-index-djia\" hreflang=\"en\">Dow Jones Index (DJIA)</a></div>\n",
       "<div class=\"field--item\"><a href=\"/stocks/sp-500-index\" hreflang=\"en\">S&amp;P 500</a></div>\n",
       "<div class=\"field--item\"><a href=\"/stocks/nasdaq-100\" hreflang=\"en\">Nasdaq 100</a></div>\n",
       "</div>\n",
       "</div>\n",
       "</div>\n",
       "<div class=\"clearfix group-right\">\n",
       "<div class=\"clearfix col-sm-12 field field--name-field-ceo field--type-entity-reference field--label-above\">\n",
       "<div class=\"field--label\">CEO:</div>\n",
       "<div class=\"field--items\">\n",
       "<div class=\"field--item\"><a href=\"/business-leader/tim-cook\" hreflang=\"und\">Tim Cook</a></div>\n",
       "</div>\n",
       "</div>\n",
       "<div class=\"clearfix col-sm-12 field field--name-field-stock-exchange-lc field--type-entity-reference field--label-inline\">\n",
       "<div class=\"field--label\">Stock Exchange</div>\n",
       "<div class=\"field--items\">\n",
       "<div class=\"field--item\"><a href=\"/stock-exchange-companies/nasdaq\" hreflang=\"und\">Nasdaq</a></div>\n",
       "</div>\n",
       "</div>\n",
       "<div class=\"clearfix col-sm-12 field field--name-field-company-website field--type-link field--label-above\">\n",
       "<div class=\"field--label\">Company Website:</div>\n",
       "<div class=\"field--item\"><a href=\"https://www.apple.com/\" rel=\"nofollow\" target=\"_blank\">Apple - Mobiles, iPad, Laptops, Software OS, Electronics</a></div>\n",
       "</div>\n",
       "<div class=\"clearfix col-sm-12 field field--name-field-wikipedia field--type-link field--label-hidden field--item\"><a href=\"https://en.wikipedia.org/wiki/Apple_Inc.\" rel=\"nofollow\" target=\"_blank\">Wikipedia</a></div>\n",
       "<div class=\"clearfix col-sm-12 field field--name-field-yahoo field--type-link field--label-hidden field--item\"><a href=\"https://finance.yahoo.com/quote/AAPL\" rel=\"nofollow\" target=\"_blank\">Yahoo @ Nasdaq</a></div>\n",
       "<div class=\"clearfix col-sm-12 field field--name-field-twitter field--type-link field--label-hidden field--item\"><a href=\"https://twitter.com/apple?lang=en\" rel=\"nofollow\" target=\"_blank\">Twitter</a></div>\n",
       "<div class=\"clearfix col-sm-12 field field--name-field-facebook field--type-link field--label-hidden field--item\"><a href=\"https://www.facebook.com/apple/\" rel=\"nofollow\" target=\"_blank\">Facebook</a></div>\n",
       "</div>\n",
       "<div class=\"clearfix group-footer\">\n",
       "<div class=\"clearfix col-sm-12 field field--name-field-annual-revenue field--type-string field--label-above\">\n",
       "<div class=\"field--label\">Annual Revenue</div>\n",
       "<div class=\"field--item\">Apple Annual Revenues for September-2020 ending is 274.51 Billion USD</div>\n",
       "</div>\n",
       "<div class=\"clearfix col-sm-12 field field--name-field-annual-operating-income field--type-string field--label-above\">\n",
       "<div class=\"field--label\">Annual Operating Income</div>\n",
       "<div class=\"field--item\">66.28 Billion USD for Year ending September-2020</div>\n",
       "</div>\n",
       "<div class=\"clearfix col-sm-12 field field--name-field-annual-net-income-lc field--type-string field--label-above\">\n",
       "<div class=\"field--label\">Annual Net Income</div>\n",
       "<div class=\"field--item\">Apple Annual Net Income for September-2020 ending is 57.41 Billion USD</div>\n",
       "</div>\n",
       "<div class=\"clearfix col-sm-12 field field--name-field-total-assets field--type-string field--label-above\">\n",
       "<div class=\"field--label\">Total Assets</div>\n",
       "<div class=\"field--item\">Apple Total Assets as on June-27-2020 is 317,344 Million USD</div>\n",
       "</div>\n",
       "<div class=\"clearfix col-sm-12 field field--name-field-total-liabilities- field--type-string field--label-above\">\n",
       "<div class=\"field--label\">Total Liabilities\t</div>\n",
       "<div class=\"field--item\">245,062 Million USD as on June-27-2020</div>\n",
       "</div>\n",
       "<div class=\"clearfix col-sm-12 field field--name-body field--type-text-with-summary field--label-above\">\n",
       "<div class=\"field--label\">About Company Business:</div>\n",
       "<div class=\"field--item\"><p><strong>Apple</strong> Company designs, manufactures and markets smartphones, laptops, personal computers, tablets, smart watches, wearables and accessories and sells music products. Headquarters is in USA. <strong>Apple</strong> market value crossed 2.2 Trillion USD as on Jan-01-2021 and became World Number 1 company by Market Value.</p></div>\n",
       "</div>\n",
       "<div class=\"field field--name-node-link field--type-ds field--label-hidden field--item\"> <a class=\"clearfix col-sm-12\" href=\"/company/apple\" hreflang=\"en\">Read more</a>\n",
       "</div>\n",
       "<div class=\"clearfix col-sm-12 field field--name-field-company-sub-category- field--type-entity-reference field--label-above\">\n",
       "<div class=\"field--label\">Business Sector:</div>\n",
       "<div class=\"field--items\">\n",
       "<div class=\"field--item\"><a href=\"/top-companies/top-technology-companies-usa\" hreflang=\"und\">Top Technology Companies in USA</a></div>\n",
       "<div class=\"field--item\"><a href=\"/top-companies/top-electronics-companies-usa\" hreflang=\"und\">Top Electronics Companies in USA</a></div>\n",
       "<div class=\"field--item\"><a href=\"/top-companies/top-software-and-it-companies-usa\" hreflang=\"und\">Top Software and IT Companies in USA</a></div>\n",
       "</div>\n",
       "</div>\n",
       "</div>\n",
       "</div>"
      ]
     },
     "metadata": {},
     "execution_count": 7
    }
   ],
   "source": [
    "info_blocks[0]"
   ]
  },
  {
   "cell_type": "code",
   "execution_count": 124,
   "metadata": {},
   "outputs": [],
   "source": [
    "a = [1]"
   ]
  },
  {
   "cell_type": "code",
   "execution_count": 126,
   "metadata": {},
   "outputs": [
    {
     "output_type": "execute_result",
     "data": {
      "text/plain": [
       "1"
      ]
     },
     "metadata": {},
     "execution_count": 126
    }
   ],
   "source": [
    "a[0]"
   ]
  }
 ]
}