{
 "metadata": {
  "language_info": {
   "codemirror_mode": {
    "name": "ipython",
    "version": 3
   },
   "file_extension": ".py",
   "mimetype": "text/x-python",
   "name": "python",
   "nbconvert_exporter": "python",
   "pygments_lexer": "ipython3",
   "version": "3.8.8"
  },
  "orig_nbformat": 2,
  "kernelspec": {
   "name": "python388jvsc74a57bd09c73145fe1f8ba769fdf9edcb512a81fe38bcab3cb253b8e7a65c7a64ff93c59",
   "display_name": "Python 3.8.8 64-bit ('base': conda)"
  }
 },
 "nbformat": 4,
 "nbformat_minor": 2,
 "cells": [
  {
   "cell_type": "code",
   "execution_count": 1,
   "metadata": {},
   "outputs": [],
   "source": [
    "from scraper import number_companies, valuetoday_usa_scraper, df_cleaning"
   ]
  },
  {
   "cell_type": "code",
   "execution_count": 15,
   "metadata": {},
   "outputs": [
    {
     "output_type": "error",
     "ename": "IndexError",
     "evalue": "list index out of range",
     "traceback": [
      "\u001b[1;31m---------------------------------------------------------------------------\u001b[0m",
      "\u001b[1;31mIndexError\u001b[0m                                Traceback (most recent call last)",
      "\u001b[1;32m<ipython-input-15-ea620c3cb138>\u001b[0m in \u001b[0;36m<module>\u001b[1;34m\u001b[0m\n\u001b[1;32m----> 1\u001b[1;33m \u001b[0mdataframe\u001b[0m \u001b[1;33m=\u001b[0m \u001b[0mvaluetoday_usa_scraper\u001b[0m\u001b[1;33m(\u001b[0m\u001b[1;36m21\u001b[0m\u001b[1;33m)\u001b[0m\u001b[1;33m\u001b[0m\u001b[1;33m\u001b[0m\u001b[0m\n\u001b[0m\u001b[0;32m      2\u001b[0m \u001b[0mfinal_df\u001b[0m \u001b[1;33m=\u001b[0m \u001b[0mdf_cleaning\u001b[0m\u001b[1;33m(\u001b[0m\u001b[0mdataframe\u001b[0m\u001b[1;33m)\u001b[0m\u001b[1;33m\u001b[0m\u001b[1;33m\u001b[0m\u001b[0m\n",
      "\u001b[1;32md:\\Dokumentai\\Coding\\Turing College\\DS Course\\[06] DS.2.4 Capstone\\scraper.py\u001b[0m in \u001b[0;36mvaluetoday_usa_scraper\u001b[1;34m(n_companies)\u001b[0m\n\u001b[0;32m    102\u001b[0m                 \u001b[0mop_income_string\u001b[0m \u001b[1;33m=\u001b[0m \u001b[0mop_income_item\u001b[0m\u001b[1;33m[\u001b[0m\u001b[1;36m0\u001b[0m\u001b[1;33m]\u001b[0m\u001b[1;33m.\u001b[0m\u001b[0mtext\u001b[0m\u001b[1;33m.\u001b[0m\u001b[0mstrip\u001b[0m\u001b[1;33m(\u001b[0m\u001b[1;33m)\u001b[0m\u001b[1;33m\u001b[0m\u001b[1;33m\u001b[0m\u001b[0m\n\u001b[0;32m    103\u001b[0m                 \u001b[0mop_income\u001b[0m \u001b[1;33m=\u001b[0m \u001b[0mre\u001b[0m\u001b[1;33m.\u001b[0m\u001b[0mfindall\u001b[0m\u001b[1;33m(\u001b[0m\u001b[1;34m\"\\d+[.,]\\d+\"\u001b[0m\u001b[1;33m,\u001b[0m \u001b[0mop_income_string\u001b[0m\u001b[1;33m)\u001b[0m\u001b[1;33m\u001b[0m\u001b[1;33m\u001b[0m\u001b[0m\n\u001b[1;32m--> 104\u001b[1;33m                 \u001b[0mcollected_op_incomes\u001b[0m\u001b[1;33m.\u001b[0m\u001b[0mappend\u001b[0m\u001b[1;33m(\u001b[0m\u001b[0mop_income\u001b[0m\u001b[1;33m[\u001b[0m\u001b[1;36m0\u001b[0m\u001b[1;33m]\u001b[0m\u001b[1;33m)\u001b[0m\u001b[1;33m\u001b[0m\u001b[1;33m\u001b[0m\u001b[0m\n\u001b[0m\u001b[0;32m    105\u001b[0m \u001b[1;33m\u001b[0m\u001b[0m\n\u001b[0;32m    106\u001b[0m             \u001b[1;32mif\u001b[0m \u001b[0mlen\u001b[0m\u001b[1;33m(\u001b[0m\u001b[0mop_income_item\u001b[0m\u001b[1;33m)\u001b[0m \u001b[1;33m==\u001b[0m \u001b[1;36m0\u001b[0m\u001b[1;33m:\u001b[0m\u001b[1;33m\u001b[0m\u001b[1;33m\u001b[0m\u001b[0m\n",
      "\u001b[1;31mIndexError\u001b[0m: list index out of range"
     ]
    }
   ],
   "source": [
    "dataframe = valuetoday_usa_scraper(21)\n",
    "final_df = df_cleaning(dataframe)"
   ]
  },
  {
   "cell_type": "code",
   "execution_count": 11,
   "metadata": {},
   "outputs": [
    {
     "output_type": "execute_result",
     "data": {
      "text/plain": [
       "                   Company Name                   Company Business  \\\n",
       "0                         APPLE                         Technology   \n",
       "1         MICROSOFT CORPORATION                         Technology   \n",
       "2                      ALPHABET                         Technology   \n",
       "3                    AMAZON.COM                          eCommerce   \n",
       "4                      FACEBOOK             Communication Services   \n",
       "5            BERKSHIRE HATHAWAY                 Financial Services   \n",
       "6         J P MORGAN CHASE & CO                 Financial Services   \n",
       "7                          VISA                 Financial Services   \n",
       "8             JOHNSON & JOHNSON                         Healthcare   \n",
       "9                       WALMART                             Retail   \n",
       "10  BANK OF AMERICA CORPORATION                 Financial Services   \n",
       "11     PROCTER & GAMBLE COMPANY                 Consumer Defensive   \n",
       "12                   MASTERCARD  Digital Payment Solution Services   \n",
       "13      EXXON MOBIL CORPORATION                             Energy   \n",
       "14                         AT&T                            Telecom   \n",
       "15           UNITEDHEALTH GROUP                         Healthcare   \n",
       "16      THE WALT DISNEY COMPANY             Communication Services   \n",
       "17            INTEL CORPORATION                         Technology   \n",
       "18       VERIZON COMMUNICATIONS             Communication Services   \n",
       "19                   HOME DEPOT                             Retail   \n",
       "\n",
       "     Market Value  Annual Revenue  Operating Income    Net Income  \\\n",
       "0   2256000000000    274510000000       66280000000  274510000000   \n",
       "1   1682000000000    143000000000       52950000000  143000000000   \n",
       "2   1185000000000    182520000000       41220000000  182520000000   \n",
       "3   1634000000000    386060000000       22890000000  386060000000   \n",
       "4    778040000000     85960000000       32670000000   85960000000   \n",
       "5    543679999999    327220000000                 0  327220000000   \n",
       "6    387330000000    122900000000                 0  122900000000   \n",
       "7    482170000000     21840000000       14090000000   21840000000   \n",
       "8    414310000000     82580000000       19730000000   82580000000   \n",
       "9    407840000000    523960000000       22540000000  523960000000   \n",
       "10   262200000000     85530000000                 0   85530000000   \n",
       "11   345010000000     70950000000       15700000000   70950000000   \n",
       "12   355840000000     15300000000        8160000000   15300000000   \n",
       "13   174290000000    181500000000       28880000000  181500000000   \n",
       "14   204940000000    171760000000       25280000000  171760000000   \n",
       "15   332730000000    255630000000       20900000000  255630000000   \n",
       "16   328020000000     65388000000        3794000000   65388000000   \n",
       "17   204160000000     77860000000       23870000000   77860000000   \n",
       "18   243110000000    128289999999       28790000000  128289999999   \n",
       "19   285970000000    110220000000       15840000000  110220000000   \n",
       "\n",
       "           Assets    Liabilities  \n",
       "0    317344000000   245062000000  \n",
       "1    301311000000   183007000000  \n",
       "2    299243000000    86320000000  \n",
       "3    110908000000   184586000000  \n",
       "4    139691000000    29244000000  \n",
       "5    829946000000   410730000000  \n",
       "6   3386000000000  3106000000000  \n",
       "7     77884000000    42360000000  \n",
       "8    158380000000    95402000000  \n",
       "9    237382000000   162072000000  \n",
       "10     2741000000     2476000000  \n",
       "11   120700000000    74179000000  \n",
       "12    32127000000    25607000000  \n",
       "13   361495000000   181312000000  \n",
       "14   547898000000   372002000000  \n",
       "15   192483000000   127017000000  \n",
       "16   201549000000   113286000000  \n",
       "17   152539000000    70529000000  \n",
       "18   293259000000   229146000000  \n",
       "19    63349000000    63763000000  "
      ],
      "text/html": "<div>\n<style scoped>\n    .dataframe tbody tr th:only-of-type {\n        vertical-align: middle;\n    }\n\n    .dataframe tbody tr th {\n        vertical-align: top;\n    }\n\n    .dataframe thead th {\n        text-align: right;\n    }\n</style>\n<table border=\"1\" class=\"dataframe\">\n  <thead>\n    <tr style=\"text-align: right;\">\n      <th></th>\n      <th>Company Name</th>\n      <th>Company Business</th>\n      <th>Market Value</th>\n      <th>Annual Revenue</th>\n      <th>Operating Income</th>\n      <th>Net Income</th>\n      <th>Assets</th>\n      <th>Liabilities</th>\n    </tr>\n  </thead>\n  <tbody>\n    <tr>\n      <th>0</th>\n      <td>APPLE</td>\n      <td>Technology</td>\n      <td>2256000000000</td>\n      <td>274510000000</td>\n      <td>66280000000</td>\n      <td>274510000000</td>\n      <td>317344000000</td>\n      <td>245062000000</td>\n    </tr>\n    <tr>\n      <th>1</th>\n      <td>MICROSOFT CORPORATION</td>\n      <td>Technology</td>\n      <td>1682000000000</td>\n      <td>143000000000</td>\n      <td>52950000000</td>\n      <td>143000000000</td>\n      <td>301311000000</td>\n      <td>183007000000</td>\n    </tr>\n    <tr>\n      <th>2</th>\n      <td>ALPHABET</td>\n      <td>Technology</td>\n      <td>1185000000000</td>\n      <td>182520000000</td>\n      <td>41220000000</td>\n      <td>182520000000</td>\n      <td>299243000000</td>\n      <td>86320000000</td>\n    </tr>\n    <tr>\n      <th>3</th>\n      <td>AMAZON.COM</td>\n      <td>eCommerce</td>\n      <td>1634000000000</td>\n      <td>386060000000</td>\n      <td>22890000000</td>\n      <td>386060000000</td>\n      <td>110908000000</td>\n      <td>184586000000</td>\n    </tr>\n    <tr>\n      <th>4</th>\n      <td>FACEBOOK</td>\n      <td>Communication Services</td>\n      <td>778040000000</td>\n      <td>85960000000</td>\n      <td>32670000000</td>\n      <td>85960000000</td>\n      <td>139691000000</td>\n      <td>29244000000</td>\n    </tr>\n    <tr>\n      <th>5</th>\n      <td>BERKSHIRE HATHAWAY</td>\n      <td>Financial Services</td>\n      <td>543679999999</td>\n      <td>327220000000</td>\n      <td>0</td>\n      <td>327220000000</td>\n      <td>829946000000</td>\n      <td>410730000000</td>\n    </tr>\n    <tr>\n      <th>6</th>\n      <td>J P MORGAN CHASE &amp; CO</td>\n      <td>Financial Services</td>\n      <td>387330000000</td>\n      <td>122900000000</td>\n      <td>0</td>\n      <td>122900000000</td>\n      <td>3386000000000</td>\n      <td>3106000000000</td>\n    </tr>\n    <tr>\n      <th>7</th>\n      <td>VISA</td>\n      <td>Financial Services</td>\n      <td>482170000000</td>\n      <td>21840000000</td>\n      <td>14090000000</td>\n      <td>21840000000</td>\n      <td>77884000000</td>\n      <td>42360000000</td>\n    </tr>\n    <tr>\n      <th>8</th>\n      <td>JOHNSON &amp; JOHNSON</td>\n      <td>Healthcare</td>\n      <td>414310000000</td>\n      <td>82580000000</td>\n      <td>19730000000</td>\n      <td>82580000000</td>\n      <td>158380000000</td>\n      <td>95402000000</td>\n    </tr>\n    <tr>\n      <th>9</th>\n      <td>WALMART</td>\n      <td>Retail</td>\n      <td>407840000000</td>\n      <td>523960000000</td>\n      <td>22540000000</td>\n      <td>523960000000</td>\n      <td>237382000000</td>\n      <td>162072000000</td>\n    </tr>\n    <tr>\n      <th>10</th>\n      <td>BANK OF AMERICA CORPORATION</td>\n      <td>Financial Services</td>\n      <td>262200000000</td>\n      <td>85530000000</td>\n      <td>0</td>\n      <td>85530000000</td>\n      <td>2741000000</td>\n      <td>2476000000</td>\n    </tr>\n    <tr>\n      <th>11</th>\n      <td>PROCTER &amp; GAMBLE COMPANY</td>\n      <td>Consumer Defensive</td>\n      <td>345010000000</td>\n      <td>70950000000</td>\n      <td>15700000000</td>\n      <td>70950000000</td>\n      <td>120700000000</td>\n      <td>74179000000</td>\n    </tr>\n    <tr>\n      <th>12</th>\n      <td>MASTERCARD</td>\n      <td>Digital Payment Solution Services</td>\n      <td>355840000000</td>\n      <td>15300000000</td>\n      <td>8160000000</td>\n      <td>15300000000</td>\n      <td>32127000000</td>\n      <td>25607000000</td>\n    </tr>\n    <tr>\n      <th>13</th>\n      <td>EXXON MOBIL CORPORATION</td>\n      <td>Energy</td>\n      <td>174290000000</td>\n      <td>181500000000</td>\n      <td>28880000000</td>\n      <td>181500000000</td>\n      <td>361495000000</td>\n      <td>181312000000</td>\n    </tr>\n    <tr>\n      <th>14</th>\n      <td>AT&amp;T</td>\n      <td>Telecom</td>\n      <td>204940000000</td>\n      <td>171760000000</td>\n      <td>25280000000</td>\n      <td>171760000000</td>\n      <td>547898000000</td>\n      <td>372002000000</td>\n    </tr>\n    <tr>\n      <th>15</th>\n      <td>UNITEDHEALTH GROUP</td>\n      <td>Healthcare</td>\n      <td>332730000000</td>\n      <td>255630000000</td>\n      <td>20900000000</td>\n      <td>255630000000</td>\n      <td>192483000000</td>\n      <td>127017000000</td>\n    </tr>\n    <tr>\n      <th>16</th>\n      <td>THE WALT DISNEY COMPANY</td>\n      <td>Communication Services</td>\n      <td>328020000000</td>\n      <td>65388000000</td>\n      <td>3794000000</td>\n      <td>65388000000</td>\n      <td>201549000000</td>\n      <td>113286000000</td>\n    </tr>\n    <tr>\n      <th>17</th>\n      <td>INTEL CORPORATION</td>\n      <td>Technology</td>\n      <td>204160000000</td>\n      <td>77860000000</td>\n      <td>23870000000</td>\n      <td>77860000000</td>\n      <td>152539000000</td>\n      <td>70529000000</td>\n    </tr>\n    <tr>\n      <th>18</th>\n      <td>VERIZON COMMUNICATIONS</td>\n      <td>Communication Services</td>\n      <td>243110000000</td>\n      <td>128289999999</td>\n      <td>28790000000</td>\n      <td>128289999999</td>\n      <td>293259000000</td>\n      <td>229146000000</td>\n    </tr>\n    <tr>\n      <th>19</th>\n      <td>HOME DEPOT</td>\n      <td>Retail</td>\n      <td>285970000000</td>\n      <td>110220000000</td>\n      <td>15840000000</td>\n      <td>110220000000</td>\n      <td>63349000000</td>\n      <td>63763000000</td>\n    </tr>\n  </tbody>\n</table>\n</div>"
     },
     "metadata": {},
     "execution_count": 11
    }
   ],
   "source": [
    "final_df"
   ]
  },
  {
   "cell_type": "code",
   "execution_count": 16,
   "metadata": {},
   "outputs": [],
   "source": [
    "import requests\n",
    "import re\n",
    "import pandas as pd\n",
    "import warnings\n",
    "from bs4 import BeautifulSoup\n",
    "from fake_useragent import UserAgent"
   ]
  },
  {
   "cell_type": "code",
   "execution_count": 31,
   "metadata": {},
   "outputs": [
    {
     "output_type": "stream",
     "name": "stdout",
     "text": [
      "COCA-COLA COMPANY\n"
     ]
    },
    {
     "output_type": "error",
     "ename": "IndexError",
     "evalue": "list index out of range",
     "traceback": [
      "\u001b[1;31m---------------------------------------------------------------------------\u001b[0m",
      "\u001b[1;31mIndexError\u001b[0m                                Traceback (most recent call last)",
      "\u001b[1;32m<ipython-input-31-a3cec72123d6>\u001b[0m in \u001b[0;36m<module>\u001b[1;34m\u001b[0m\n\u001b[0;32m     86\u001b[0m     \u001b[0mliabilities_string\u001b[0m \u001b[1;33m=\u001b[0m \u001b[0mitem\u001b[0m\u001b[1;33m.\u001b[0m\u001b[0mselect\u001b[0m\u001b[1;33m(\u001b[0m\u001b[1;34m\"div.field--name-field-total-liabilities- > div.field--item\"\u001b[0m\u001b[1;33m)\u001b[0m\u001b[1;33m[\u001b[0m\u001b[1;36m0\u001b[0m\u001b[1;33m]\u001b[0m\u001b[1;33m.\u001b[0m\u001b[0mtext\u001b[0m\u001b[1;33m.\u001b[0m\u001b[0mstrip\u001b[0m\u001b[1;33m(\u001b[0m\u001b[1;33m)\u001b[0m\u001b[1;33m\u001b[0m\u001b[1;33m\u001b[0m\u001b[0m\n\u001b[0;32m     87\u001b[0m     \u001b[0mliabilities\u001b[0m \u001b[1;33m=\u001b[0m \u001b[0mre\u001b[0m\u001b[1;33m.\u001b[0m\u001b[0mfindall\u001b[0m\u001b[1;33m(\u001b[0m\u001b[1;34m\"^\\d+[.,]\\d+|^\\d+\"\u001b[0m\u001b[1;33m,\u001b[0m \u001b[0mliabilities_string\u001b[0m\u001b[1;33m)\u001b[0m\u001b[1;33m\u001b[0m\u001b[1;33m\u001b[0m\u001b[0m\n\u001b[1;32m---> 88\u001b[1;33m     \u001b[0mcollected_liabilities\u001b[0m\u001b[1;33m.\u001b[0m\u001b[0mappend\u001b[0m\u001b[1;33m(\u001b[0m\u001b[0mliabilities\u001b[0m\u001b[1;33m[\u001b[0m\u001b[1;36m0\u001b[0m\u001b[1;33m]\u001b[0m\u001b[1;33m)\u001b[0m\u001b[1;33m\u001b[0m\u001b[1;33m\u001b[0m\u001b[0m\n\u001b[0m\u001b[0;32m     89\u001b[0m \u001b[1;33m\u001b[0m\u001b[0m\n\u001b[0;32m     90\u001b[0m     \u001b[1;32mif\u001b[0m \u001b[1;34m\"Billion\"\u001b[0m \u001b[1;32min\u001b[0m \u001b[0mliabilities_string\u001b[0m\u001b[1;33m:\u001b[0m\u001b[1;33m\u001b[0m\u001b[1;33m\u001b[0m\u001b[0m\n",
      "\u001b[1;31mIndexError\u001b[0m: list index out of range"
     ]
    }
   ],
   "source": [
    "ua = UserAgent()\n",
    "header = {'User-Agent':str(ua.chrome)}\n",
    "url = \"https://www.value.today/headquarters/united-states-america-usa?page=2\"\n",
    "\n",
    "source = requests.get(url, headers=header)\n",
    "soup = BeautifulSoup(source.content, \"html.parser\")\n",
    "\n",
    "# Create a list of divs with all required information.\n",
    "info_blocks = soup.find_all(\"div\", class_=\"node node--type-listed-companies node--view-mode-teaser ds-2col-stacked clearfix\")\n",
    "\n",
    "collected_names = []\n",
    "collected_businesses = []\n",
    "collected_values = []\n",
    "collected_values_metrics = []\n",
    "collected_revenues = []\n",
    "collected_revenues_metrics = []\n",
    "collected_op_incomes = []\n",
    "collected_op_incomes_metrics = []\n",
    "collected_net_incomes = []\n",
    "collected_net_incomes_metrics = []\n",
    "collected_assets = []\n",
    "collected_assets_metrics = []\n",
    "collected_liabilities = []\n",
    "collected_liabilities_metrics = []\n",
    "\n",
    "for item in info_blocks:\n",
    "\n",
    "    name = item.find(\"h2\").text.strip()\n",
    "    collected_names.append(name)\n",
    "    print(name)\n",
    "\n",
    "    business = item.select(\"div.field--name-field-company-category-primary > div > div.field--item > a\")[0].text.strip()\n",
    "    collected_businesses.append(business)\n",
    "\n",
    "    value = item.select(\"div.field--name-field-market-value-jan012021 > div.field--item\")[0][\"content\"]\n",
    "    collected_values.append(value)\n",
    "\n",
    "    value_string = item.select(\"div.field--name-field-market-value-jan012021 > div.field--item\")[0].text.strip()\n",
    "    if \"Billion\" in value_string:\n",
    "        collected_values_metrics.append(\"Billion\")\n",
    "    elif \"Million\" in value_string:\n",
    "        collected_values_metrics.append(\"Million\")\n",
    "\n",
    "    revenue_string = item.select(\"div.field--name-field-annual-revenue > div.field--item\")[0].text.strip()\n",
    "    revenue = re.findall(\"\\d+[.,]\\d+\", revenue_string)\n",
    "    collected_revenues.append(revenue[0])\n",
    "\n",
    "    if \"Billion\" in revenue_string:\n",
    "        collected_revenues_metrics.append(\"Billion\")\n",
    "    elif \"Million\" in revenue_string:\n",
    "        collected_revenues_metrics.append(\"Million\")\n",
    "        \n",
    "    op_income_item = item.select(\"div.field--name-field-annual-operating-income > div.field--item\")\n",
    "    if len(op_income_item) == 0:\n",
    "        collected_op_incomes.append(None)\n",
    "    else:\n",
    "        op_income_string = op_income_item[0].text.strip()\n",
    "        op_income = re.findall(\"\\d+[.,]\\d+\", op_income_string)\n",
    "        collected_op_incomes.append(op_income[0])\n",
    "\n",
    "    if len(op_income_item) == 0:\n",
    "        collected_op_incomes_metrics.append(None)\n",
    "    elif \"Billion\" in op_income_string:\n",
    "        collected_op_incomes_metrics.append(\"Billion\")\n",
    "    elif \"Million\" in op_income_string:\n",
    "        collected_op_incomes_metrics.append(\"Million\")\n",
    "\n",
    "    net_income_string = item.select(\"div.field--name-field-annual-revenue > div.field--item\")[0].text.strip()\n",
    "    net_income = re.findall(\"\\d+[.,]\\d+\", net_income_string)\n",
    "    collected_net_incomes.append(net_income[0])\n",
    "\n",
    "    if \"Billion\" in net_income_string:\n",
    "        collected_net_incomes_metrics.append(\"Billion\")\n",
    "    elif \"Million\" in net_income_string:\n",
    "        collected_net_incomes_metrics.append(\"Million\")\n",
    "\n",
    "    assets_string = item.select(\"div.field--name-field-total-assets > div.field--item\")[0].text.strip()\n",
    "    assets = re.findall(\"\\d+[.,]\\d+\", assets_string)\n",
    "    collected_assets.append(assets[0])\n",
    "\n",
    "    if \"Billion\" in assets_string:\n",
    "        collected_assets_metrics.append(\"Billion\")\n",
    "    elif \"Million\" in assets_string:\n",
    "        collected_assets_metrics.append(\"Million\")\n",
    "\n",
    "    liabilities_string = item.select(\"div.field--name-field-total-liabilities- > div.field--item\")[0].text.strip()\n",
    "    liabilities = re.findall(\"\\d+[.,]\\d+\", liabilities_string)\n",
    "    collected_liabilities.append(liabilities[0])\n",
    "\n",
    "    if \"Billion\" in liabilities_string:\n",
    "        collected_liabilities_metrics.append(\"Billion\")\n",
    "    elif \"Million\" in liabilities_string:\n",
    "        collected_liabilities_metrics.append(\"Million\")\n",
    "\n",
    "    df = pd.DataFrame({\"Company Name\": collected_names, \"Company Business\": collected_businesses, \"Market Value\": collected_values, \n",
    "                        \"Value Metric\": collected_values_metrics, \"Annual Revenue\": collected_revenues, \n",
    "                        \"Revenue Metric\": collected_revenues_metrics, \"Operating Income\": collected_op_incomes, \n",
    "                        \"Op Income Metric\": collected_op_incomes_metrics, \"Net Income\": collected_net_incomes, \n",
    "                        \"Net Income Metric\": collected_net_incomes_metrics, \"Assets\": collected_assets, \n",
    "                        \"Assets Metric\": collected_assets_metrics, \"Liabilities\": collected_liabilities, \n",
    "                        \"Liabilities Metric\": collected_liabilities_metrics})"
   ]
  },
  {
   "cell_type": "code",
   "execution_count": 39,
   "metadata": {},
   "outputs": [],
   "source": [
    "number = info_blocks[3].select(\"div.field--name-field-annual-operating-income > div.field--item\")[0].text"
   ]
  },
  {
   "cell_type": "code",
   "execution_count": 40,
   "metadata": {},
   "outputs": [
    {
     "output_type": "execute_result",
     "data": {
      "text/plain": [
       "['581', 'Million', 'USD', 'for', 'Year', 'ending', 'December-2020']"
      ]
     },
     "metadata": {},
     "execution_count": 40
    }
   ],
   "source": [
    "number.split()"
   ]
  }
 ]
}